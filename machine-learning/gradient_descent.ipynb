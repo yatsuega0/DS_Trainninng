{
 "cells": [
  {
   "cell_type": "markdown",
   "id": "4634bed3-0d12-4f74-8390-6a275f68f51b",
   "metadata": {},
   "source": [
    "## 最急降下法をスクラッチで作成"
   ]
  },
  {
   "cell_type": "code",
   "execution_count": 1,
   "id": "70ea4324-0c12-42f7-a6ca-7afd7495bf4e",
   "metadata": {},
   "outputs": [],
   "source": [
    "import numpy as np\n",
    "import pandas as pd\n",
    "import seaborn as sns\n",
    "import matplotlib.pyplot as plt\n",
    "%matplotlib inline"
   ]
  },
  {
   "cell_type": "markdown",
   "id": "98a3abac-5d9e-4985-aa5e-661beb18bd7f",
   "metadata": {},
   "source": [
    "### データ準備"
   ]
  },
  {
   "cell_type": "code",
   "execution_count": 2,
   "id": "5f33490c-4e82-443c-99f1-4777bdb95812",
   "metadata": {},
   "outputs": [
    {
     "data": {
      "text/html": [
       "<div>\n",
       "<style scoped>\n",
       "    .dataframe tbody tr th:only-of-type {\n",
       "        vertical-align: middle;\n",
       "    }\n",
       "\n",
       "    .dataframe tbody tr th {\n",
       "        vertical-align: top;\n",
       "    }\n",
       "\n",
       "    .dataframe thead th {\n",
       "        text-align: right;\n",
       "    }\n",
       "</style>\n",
       "<table border=\"1\" class=\"dataframe\">\n",
       "  <thead>\n",
       "    <tr style=\"text-align: right;\">\n",
       "      <th></th>\n",
       "      <th>space</th>\n",
       "      <th>rent</th>\n",
       "    </tr>\n",
       "  </thead>\n",
       "  <tbody>\n",
       "    <tr>\n",
       "      <th>0</th>\n",
       "      <td>20</td>\n",
       "      <td>13.958824</td>\n",
       "    </tr>\n",
       "    <tr>\n",
       "      <th>1</th>\n",
       "      <td>25</td>\n",
       "      <td>11.533805</td>\n",
       "    </tr>\n",
       "    <tr>\n",
       "      <th>2</th>\n",
       "      <td>28</td>\n",
       "      <td>14.269547</td>\n",
       "    </tr>\n",
       "    <tr>\n",
       "      <th>3</th>\n",
       "      <td>30</td>\n",
       "      <td>18.722680</td>\n",
       "    </tr>\n",
       "    <tr>\n",
       "      <th>4</th>\n",
       "      <td>36</td>\n",
       "      <td>19.602674</td>\n",
       "    </tr>\n",
       "    <tr>\n",
       "      <th>5</th>\n",
       "      <td>51</td>\n",
       "      <td>16.068166</td>\n",
       "    </tr>\n",
       "    <tr>\n",
       "      <th>6</th>\n",
       "      <td>55</td>\n",
       "      <td>23.183599</td>\n",
       "    </tr>\n",
       "    <tr>\n",
       "      <th>7</th>\n",
       "      <td>62</td>\n",
       "      <td>22.212595</td>\n",
       "    </tr>\n",
       "    <tr>\n",
       "      <th>8</th>\n",
       "      <td>83</td>\n",
       "      <td>29.357010</td>\n",
       "    </tr>\n",
       "    <tr>\n",
       "      <th>9</th>\n",
       "      <td>103</td>\n",
       "      <td>37.565129</td>\n",
       "    </tr>\n",
       "  </tbody>\n",
       "</table>\n",
       "</div>"
      ],
      "text/plain": [
       "   space       rent\n",
       "0     20  13.958824\n",
       "1     25  11.533805\n",
       "2     28  14.269547\n",
       "3     30  18.722680\n",
       "4     36  19.602674\n",
       "5     51  16.068166\n",
       "6     55  23.183599\n",
       "7     62  22.212595\n",
       "8     83  29.357010\n",
       "9    103  37.565129"
      ]
     },
     "execution_count": 2,
     "metadata": {},
     "output_type": "execute_result"
    }
   ],
   "source": [
    "df = pd.read_csv('data.csv')\n",
    "df"
   ]
  },
  {
   "cell_type": "markdown",
   "id": "83995022-d753-411d-a320-41f4bac92981",
   "metadata": {},
   "source": [
    "### データの可視化"
   ]
  },
  {
   "cell_type": "code",
   "execution_count": 3,
   "id": "63102a7d-df09-4127-be3a-117ee7b4b410",
   "metadata": {},
   "outputs": [
    {
     "data": {
      "text/plain": [
       "<AxesSubplot:xlabel='space', ylabel='rent'>"
      ]
     },
     "execution_count": 3,
     "metadata": {},
     "output_type": "execute_result"
    },
    {
     "data": {
      "image/png": "[encoded data removed]",
      "text/plain": [
       "<Figure size 640x480 with 1 Axes>"
      ]
     },
     "metadata": {},
     "output_type": "display_data"
    }
   ],
   "source": [
    "sns.scatterplot(x=df['space'], y=df['rent'])"
   ]
  },
  {
   "cell_type": "markdown",
   "id": "36c1aa7d-5616-460a-b150-a76426e44328",
   "metadata": {},
   "source": [
    "### 最小二乗法 $\\frac{1}{m}\\sum_{i=1}^{m}\\left\\{y_i-(\\theta_0+\\theta_1x_i)\\right\\}^2$"
   ]
  },
  {
   "cell_type": "code",
   "execution_count": 4,
   "id": "9643cf6d-02a4-4100-8194-edc90eb6cfd7",
   "metadata": {},
   "outputs": [
    {
     "data": {
      "text/plain": [
       "array([  786.30756803,  1637.51294114,  1912.3524946 ,  1872.92646121,\n",
       "        2959.06907917,  7732.00736723,  7888.35316015, 10771.82542796,\n",
       "       19221.87864528, 29048.04530762])"
      ]
     },
     "metadata": {},
     "output_type": "display_data"
    },
    {
     "data": {
      "text/plain": [
       "8383.027845238928"
      ]
     },
     "execution_count": 4,
     "metadata": {},
     "output_type": "execute_result"
    }
   ],
   "source": [
    "x = df['space'].values\n",
    "y = df['rent'].values\n",
    "theta_0 = 2\n",
    "theta_1 = 2\n",
    "# 各データにおける残差（正解値と予測値のズレ）の二乗和\n",
    "display((y-(theta_0 + theta_1 * x))**2)\n",
    "# 損失関数を求める\n",
    "np.mean((y-(theta_0 + theta_1 * x))**2)"
   ]
  },
  {
   "cell_type": "markdown",
   "id": "713e01a7-cd8f-43c1-9821-1b21d3188c37",
   "metadata": {},
   "source": [
    "### 損失関数を定義 : $L(\\theta_0, \\theta_1)=\\frac{1}{m}\\sum_{i=1}^{m}e_i^2=\\frac{1}{m}\\sum_{i=1}^{m}\\left\\{y_i-(\\theta_0+\\theta_1x_i)\\right\\}^2$"
   ]
  },
  {
   "cell_type": "code",
   "execution_count": 5,
   "id": "8cb38e5a-ad4f-48d1-9186-f0655bc49609",
   "metadata": {},
   "outputs": [],
   "source": [
    "def loss_func(theta_0, theta_1, x, y):\n",
    "    return np.mean((y-(theta_0 + theta_1 * x))**2)"
   ]
  },
  {
   "cell_type": "code",
   "execution_count": 6,
   "id": "a50b5e28-e6c3-4683-82ea-a32fe8d7ceb0",
   "metadata": {},
   "outputs": [
    {
     "data": {
      "text/plain": [
       "8383.027845238928"
      ]
     },
     "execution_count": 6,
     "metadata": {},
     "output_type": "execute_result"
    }
   ],
   "source": [
    "loss_func(2, 2, x, y)"
   ]
  },
  {
   "cell_type": "markdown",
   "id": "33f4520d-47ce-4529-8f7f-9b2a58cafb15",
   "metadata": {},
   "source": [
    "### 最急降下法"
   ]
  },
  {
   "cell_type": "code",
   "execution_count": 7,
   "id": "1a5e2522-82d7-4bda-9d2c-835a75c3ed85",
   "metadata": {},
   "outputs": [],
   "source": [
    "# θ0とθ1の初期値を設定\n",
    "theta_0_init = -5\n",
    "theta_1_init = 5\n",
    "\n",
    "# イテレーションの数\n",
    "epoch = 10**5\n",
    "\n",
    "# 学習率\n",
    "alpha = 0.0001"
   ]
  },
  {
   "cell_type": "markdown",
   "id": "d02cc8a4-e190-41bb-accd-14d4055c00f2",
   "metadata": {},
   "source": [
    "### $\\theta_0$ のパラメータを更新($\\theta_1$と同時に更新)\n",
    "$\\theta_0:=\\theta_0-\\alpha\\frac{\\partial}{\\partial\\theta_0}L(\\theta_0, \\theta_1)$\n",
    "\n",
    "元々の$\\theta_0$に対して$\\theta_0$で偏微分した損失関数の勾配ベクトルに学習率をかけて逆方向に進めたものを$\\theta_0$に代入\n",
    "\n",
    "$L(\\theta_0, \\theta_1)$にMSE($\\frac{1}{m}\\sum_{i=1}^{m}\\left\\{y_i-(\\theta_0+\\theta_1x_i)\\right\\}^2$)を代入\n"
   ]
  },
  {
   "cell_type": "markdown",
   "id": "8c42e371-5b6b-47c9-be8e-1a494a131a7e",
   "metadata": {},
   "source": [
    "#### $\\frac{\\partial}{\\partial\\theta_0}L(\\theta_0, \\theta_1)$ = $\\frac{2}{m}\\sum_{i=1}^{m}(\\theta_0+\\theta_1x_i-y_i)$"
   ]
  },
  {
   "cell_type": "code",
   "execution_count": 8,
   "id": "ef891536-a2b2-466c-8cbc-d6a7e5268493",
   "metadata": {},
   "outputs": [],
   "source": [
    "def update_theta0(theta_0, theta_1, x, y, alpha=0.001):\n",
    "    return theta_0 - alpha * 2 * np.mean((theta_0 + theta_1 * x) - y)"
   ]
  },
  {
   "cell_type": "code",
   "execution_count": 9,
   "id": "b6d65905-4de6-4744-9b61-511fa4e7f342",
   "metadata": {},
   "outputs": [
    {
     "data": {
      "text/plain": [
       "-5.441705194308961"
      ]
     },
     "execution_count": 9,
     "metadata": {},
     "output_type": "execute_result"
    }
   ],
   "source": [
    "update_theta0(theta_0_init, theta_1_init, x, y)"
   ]
  },
  {
   "cell_type": "markdown",
   "id": "1481a004-37ae-4fdf-a74c-a18c415edc4c",
   "metadata": {},
   "source": [
    "### $\\theta_1$ のパラメータ更新($\\theta_0$と同時に更新)\n",
    "$\\theta_1:=\\theta_1-\\alpha\\frac{\\partial}{\\partial\\theta_1}L(\\theta_0, \\theta_1)$\n",
    "\n",
    "元々の$\\theta_1$に対して$\\theta_1$で偏微分した損失関数の勾配ベクトルに学習率をかけて逆方向に進めたものを$\\theta_1$に代入\n"
   ]
  },
  {
   "cell_type": "markdown",
   "id": "c9232422-d5d7-4a85-9ce0-23d3cbd47dc0",
   "metadata": {},
   "source": [
    "#### $\\frac{\\partial}{\\partial\\theta_1}L(\\theta_0, \\theta_1)$ = $\\frac{2}{m}\\sum_{i=1}^{m}(\\theta_0+\\theta_1x_i-y_i)x_i$"
   ]
  },
  {
   "cell_type": "code",
   "execution_count": 10,
   "id": "3d64081c-353c-4df3-9e1e-e9fc2ce38b55",
   "metadata": {},
   "outputs": [],
   "source": [
    "def update_theta1(theta_0, theta_1, x, y, alpha=0.001):\n",
    "    return theta_1 - alpha * 2 * np.mean(((theta_0 + theta_1 * x) - y) * x)"
   ]
  },
  {
   "cell_type": "code",
   "execution_count": 11,
   "id": "45230a64-5f3b-45f3-beb6-080c5d85c966",
   "metadata": {},
   "outputs": [
    {
     "data": {
      "text/plain": [
       "-23.077591803644445"
      ]
     },
     "execution_count": 11,
     "metadata": {},
     "output_type": "execute_result"
    }
   ],
   "source": [
    "update_theta1(theta_0_init, theta_1_init, x, y)"
   ]
  },
  {
   "cell_type": "markdown",
   "id": "93f3c4a3-81b7-438a-9dab-d3a621392363",
   "metadata": {},
   "source": [
    "### $\\theta_0$と$\\theta_1$をイテレーションにより更新"
   ]
  },
  {
   "cell_type": "code",
   "execution_count": 12,
   "id": "d5b92ca5-3f7f-41c2-8cb4-26de6bf13850",
   "metadata": {},
   "outputs": [],
   "source": [
    "theta_0_hist = []\n",
    "theta_1_hist = []\n",
    "# 初期化\n",
    "theta_0_hist.append(theta_0_init)\n",
    "theta_1_hist.append(theta_1_init)\n",
    "\n",
    "for _ in range(epoch):\n",
    "    update_theta_0 = update_theta0(theta_0_hist[-1], theta_1_hist[-1], x=x, y=y, alpha=alpha)\n",
    "    update_theta_1 = update_theta1(theta_0_hist[-1], theta_1_hist[-1], x=x, y=y, alpha=alpha)\n",
    "    theta_0_hist.append(update_theta_0)\n",
    "    theta_1_hist.append(update_theta_1)"
   ]
  },
  {
   "cell_type": "code",
   "execution_count": 13,
   "id": "f2660842-62cc-4b9f-b6d8-52fb71aa96b7",
   "metadata": {},
   "outputs": [
    {
     "data": {
      "text/plain": [
       "6.931908077506691"
      ]
     },
     "execution_count": 13,
     "metadata": {},
     "output_type": "execute_result"
    }
   ],
   "source": [
    "theta_0_hist[-1]"
   ]
  },
  {
   "cell_type": "code",
   "execution_count": 14,
   "id": "81505710-5312-4af7-8fd4-dd339d8a9a64",
   "metadata": {},
   "outputs": [
    {
     "data": {
      "text/plain": [
       "0.277487357683134"
      ]
     },
     "execution_count": 14,
     "metadata": {},
     "output_type": "execute_result"
    }
   ],
   "source": [
    "theta_1_hist[-1]"
   ]
  },
  {
   "cell_type": "markdown",
   "id": "40fb1eeb-4641-44ee-b260-584700f25b7e",
   "metadata": {},
   "source": [
    "### 最急降下法の結果の推移"
   ]
  },
  {
   "cell_type": "code",
   "execution_count": 15,
   "id": "824afd09-cda4-4aea-ae01-20c7222fc22d",
   "metadata": {},
   "outputs": [],
   "source": [
    "rent_cost = [loss_func(*param, x=x, y=y) for param in zip(theta_0_hist, theta_1_hist)]"
   ]
  },
  {
   "cell_type": "code",
   "execution_count": 16,
   "id": "2cd6e803-24f6-4114-a8b1-69d15c1e88b1",
   "metadata": {},
   "outputs": [
    {
     "data": {
      "text/plain": [
       "6.143987788093325"
      ]
     },
     "execution_count": 16,
     "metadata": {},
     "output_type": "execute_result"
    }
   ],
   "source": [
    "rent_cost[-1]"
   ]
  },
  {
   "cell_type": "markdown",
   "id": "a0012e4f-5073-4dea-a4f4-e9dd99f232b6",
   "metadata": {},
   "source": [
    "### 最適なパラメータを使った回帰モデルの直線を描画"
   ]
  },
  {
   "cell_type": "code",
   "execution_count": 17,
   "id": "33238c0e-3a71-4910-b4e6-f03cd71cc4ef",
   "metadata": {},
   "outputs": [
    {
     "data": {
      "text/plain": [
       "[<matplotlib.lines.Line2D at 0x7fc984903f10>]"
      ]
     },
     "execution_count": 17,
     "metadata": {},
     "output_type": "execute_result"
    },
    {
     "data": {
      "image/png": "[encoded data removed]",
      "text/plain": [
       "<Figure size 640x480 with 1 Axes>"
      ]
     },
     "metadata": {},
     "output_type": "display_data"
    }
   ],
   "source": [
    "sns.scatterplot(x=df['space'], y=df['rent'])\n",
    "x_values = np.arange(110)\n",
    "y_values = theta_0_hist[-1] + theta_1_hist[-1]*x_values\n",
    "plt.plot(x_values, y_values, '-', color='r')"
   ]
  },
  {
   "cell_type": "markdown",
   "id": "93b3c106-0592-4b79-955c-0a856f2fd20b",
   "metadata": {},
   "source": [
    "### 予測してみる\n",
    "$y=\\theta_0+\\theta_1x$"
   ]
  },
  {
   "cell_type": "code",
   "execution_count": 20,
   "id": "0dd1f708-4019-43b7-b44b-3661951c54e8",
   "metadata": {},
   "outputs": [
    {
     "name": "stdout",
     "output_type": "stream",
     "text": [
      "12.48165523116937\n"
     ]
    }
   ],
   "source": [
    "space = 20\n",
    "rent = theta_0_hist[-1] + theta_1_hist[-1]*space\n",
    "print(rent)"
   ]
  }
 ],
 "metadata": {
  "kernelspec": {
   "display_name": "Python 3 (ipykernel)",
   "language": "python",
   "name": "python3"
  },
  "language_info": {
   "codemirror_mode": {
    "name": "ipython",
    "version": 3
   },
   "file_extension": ".py",
   "mimetype": "text/x-python",
   "name": "python",
   "nbconvert_exporter": "python",
   "pygments_lexer": "ipython3",
   "version": "3.9.13"
  }
 },
 "nbformat": 4,
 "nbformat_minor": 5
}
