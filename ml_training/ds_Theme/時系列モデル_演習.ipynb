{
 "cells": [
  {
   "cell_type": "markdown",
   "metadata": {
    "id": "aBkclpoJsXnS"
   },
   "source": [
    "# 時系列モデルの演習課題\n",
    "1. 時系列モデルについて学習します。\n",
    "2. 株価データの時系列分析について学習します。**[補足]** \n"
   ]
  },
  {
   "cell_type": "markdown",
   "metadata": {
    "id": "8J7YCKuaVxPn"
   },
   "source": [
    "## 0. 事前準備"
   ]
  },
  {
   "cell_type": "code",
   "execution_count": 4,
   "metadata": {
    "colab": {
     "base_uri": "https://localhost:8080/",
     "height": 35
    },
    "executionInfo": {
     "elapsed": 7,
     "status": "ok",
     "timestamp": 1673830659528,
     "user": {
      "displayName": "大谷津椋",
      "userId": "03391922001198405443"
     },
     "user_tz": -540
    },
    "id": "TZqcJpNEWlJY",
    "outputId": "1bcdb5e1-b5c5-4637-b7f0-09795afaf72b"
   },
   "outputs": [
    {
     "data": {
      "text/plain": [
       "'0.13.2'"
      ]
     },
     "execution_count": 4,
     "metadata": {},
     "output_type": "execute_result"
    }
   ],
   "source": [
    "# ランタイムを再起動したらこちらのセルを実行してください。\n",
    "import statsmodels\n",
    "\n",
    "statsmodels.__version__"
   ]
  },
  {
   "cell_type": "markdown",
   "metadata": {
    "id": "CTgIRC37YvCc"
   },
   "source": [
    "## 1. 時系列モデルについて学習します。"
   ]
  },
  {
   "cell_type": "markdown",
   "metadata": {
    "id": "JS15lRzP987J"
   },
   "source": [
    "まずは、コンテンツでも扱った航空会社の乗客数データを用いて、時系列分析の一連の流れや多様なモデルについての学習を行います。"
   ]
  },
  {
   "cell_type": "markdown",
   "metadata": {
    "id": "VAJiSgWAY2J0"
   },
   "source": [
    "### 1.1 次の`df_passengets`は、1949年から1960年までのある航空会社の乗客数を格納したDataFrameになっています。次のセルを実行してデータを確認してください。また、1958年以前を訓練用(`df_passengets_train`)、それ以降をテスト用(`df_passengers_test`)とします。"
   ]
  },
  {
   "cell_type": "code",
   "execution_count": 6,
   "metadata": {
    "colab": {
     "base_uri": "https://localhost:8080/",
     "height": 1000
    },
    "executionInfo": {
     "elapsed": 2359,
     "status": "ok",
     "timestamp": 1673830663403,
     "user": {
      "displayName": "大谷津椋",
      "userId": "03391922001198405443"
     },
     "user_tz": -540
    },
    "id": "fAm9mepUY5fO",
    "outputId": "95e26144-dc00-42e8-e3e8-0c12620aa7e3"
   },
   "outputs": [
    {
     "data": {
      "text/html": [
       "<div>\n",
       "<style scoped>\n",
       "    .dataframe tbody tr th:only-of-type {\n",
       "        vertical-align: middle;\n",
       "    }\n",
       "\n",
       "    .dataframe tbody tr th {\n",
       "        vertical-align: top;\n",
       "    }\n",
       "\n",
       "    .dataframe thead th {\n",
       "        text-align: right;\n",
       "    }\n",
       "</style>\n",
       "<table border=\"1\" class=\"dataframe\">\n",
       "  <thead>\n",
       "    <tr style=\"text-align: right;\">\n",
       "      <th></th>\n",
       "      <th>year</th>\n",
       "      <th>month</th>\n",
       "      <th>passengers</th>\n",
       "    </tr>\n",
       "  </thead>\n",
       "  <tbody>\n",
       "    <tr>\n",
       "      <th>0</th>\n",
       "      <td>1949</td>\n",
       "      <td>Jan</td>\n",
       "      <td>112</td>\n",
       "    </tr>\n",
       "    <tr>\n",
       "      <th>1</th>\n",
       "      <td>1949</td>\n",
       "      <td>Feb</td>\n",
       "      <td>118</td>\n",
       "    </tr>\n",
       "    <tr>\n",
       "      <th>2</th>\n",
       "      <td>1949</td>\n",
       "      <td>Mar</td>\n",
       "      <td>132</td>\n",
       "    </tr>\n",
       "    <tr>\n",
       "      <th>3</th>\n",
       "      <td>1949</td>\n",
       "      <td>Apr</td>\n",
       "      <td>129</td>\n",
       "    </tr>\n",
       "    <tr>\n",
       "      <th>4</th>\n",
       "      <td>1949</td>\n",
       "      <td>May</td>\n",
       "      <td>121</td>\n",
       "    </tr>\n",
       "    <tr>\n",
       "      <th>...</th>\n",
       "      <td>...</td>\n",
       "      <td>...</td>\n",
       "      <td>...</td>\n",
       "    </tr>\n",
       "    <tr>\n",
       "      <th>139</th>\n",
       "      <td>1960</td>\n",
       "      <td>Aug</td>\n",
       "      <td>606</td>\n",
       "    </tr>\n",
       "    <tr>\n",
       "      <th>140</th>\n",
       "      <td>1960</td>\n",
       "      <td>Sep</td>\n",
       "      <td>508</td>\n",
       "    </tr>\n",
       "    <tr>\n",
       "      <th>141</th>\n",
       "      <td>1960</td>\n",
       "      <td>Oct</td>\n",
       "      <td>461</td>\n",
       "    </tr>\n",
       "    <tr>\n",
       "      <th>142</th>\n",
       "      <td>1960</td>\n",
       "      <td>Nov</td>\n",
       "      <td>390</td>\n",
       "    </tr>\n",
       "    <tr>\n",
       "      <th>143</th>\n",
       "      <td>1960</td>\n",
       "      <td>Dec</td>\n",
       "      <td>432</td>\n",
       "    </tr>\n",
       "  </tbody>\n",
       "</table>\n",
       "<p>144 rows × 3 columns</p>\n",
       "</div>"
      ],
      "text/plain": [
       "     year month  passengers\n",
       "0    1949   Jan         112\n",
       "1    1949   Feb         118\n",
       "2    1949   Mar         132\n",
       "3    1949   Apr         129\n",
       "4    1949   May         121\n",
       "..    ...   ...         ...\n",
       "139  1960   Aug         606\n",
       "140  1960   Sep         508\n",
       "141  1960   Oct         461\n",
       "142  1960   Nov         390\n",
       "143  1960   Dec         432\n",
       "\n",
       "[144 rows x 3 columns]"
      ]
     },
     "metadata": {},
     "output_type": "display_data"
    },
    {
     "data": {
      "text/html": [
       "<div>\n",
       "<style scoped>\n",
       "    .dataframe tbody tr th:only-of-type {\n",
       "        vertical-align: middle;\n",
       "    }\n",
       "\n",
       "    .dataframe tbody tr th {\n",
       "        vertical-align: top;\n",
       "    }\n",
       "\n",
       "    .dataframe thead th {\n",
       "        text-align: right;\n",
       "    }\n",
       "</style>\n",
       "<table border=\"1\" class=\"dataframe\">\n",
       "  <thead>\n",
       "    <tr style=\"text-align: right;\">\n",
       "      <th></th>\n",
       "      <th>year</th>\n",
       "      <th>month</th>\n",
       "      <th>passengers</th>\n",
       "    </tr>\n",
       "  </thead>\n",
       "  <tbody>\n",
       "    <tr>\n",
       "      <th>0</th>\n",
       "      <td>1949</td>\n",
       "      <td>Jan</td>\n",
       "      <td>112</td>\n",
       "    </tr>\n",
       "    <tr>\n",
       "      <th>1</th>\n",
       "      <td>1949</td>\n",
       "      <td>Feb</td>\n",
       "      <td>118</td>\n",
       "    </tr>\n",
       "    <tr>\n",
       "      <th>2</th>\n",
       "      <td>1949</td>\n",
       "      <td>Mar</td>\n",
       "      <td>132</td>\n",
       "    </tr>\n",
       "    <tr>\n",
       "      <th>3</th>\n",
       "      <td>1949</td>\n",
       "      <td>Apr</td>\n",
       "      <td>129</td>\n",
       "    </tr>\n",
       "    <tr>\n",
       "      <th>4</th>\n",
       "      <td>1949</td>\n",
       "      <td>May</td>\n",
       "      <td>121</td>\n",
       "    </tr>\n",
       "    <tr>\n",
       "      <th>...</th>\n",
       "      <td>...</td>\n",
       "      <td>...</td>\n",
       "      <td>...</td>\n",
       "    </tr>\n",
       "    <tr>\n",
       "      <th>115</th>\n",
       "      <td>1958</td>\n",
       "      <td>Aug</td>\n",
       "      <td>505</td>\n",
       "    </tr>\n",
       "    <tr>\n",
       "      <th>116</th>\n",
       "      <td>1958</td>\n",
       "      <td>Sep</td>\n",
       "      <td>404</td>\n",
       "    </tr>\n",
       "    <tr>\n",
       "      <th>117</th>\n",
       "      <td>1958</td>\n",
       "      <td>Oct</td>\n",
       "      <td>359</td>\n",
       "    </tr>\n",
       "    <tr>\n",
       "      <th>118</th>\n",
       "      <td>1958</td>\n",
       "      <td>Nov</td>\n",
       "      <td>310</td>\n",
       "    </tr>\n",
       "    <tr>\n",
       "      <th>119</th>\n",
       "      <td>1958</td>\n",
       "      <td>Dec</td>\n",
       "      <td>337</td>\n",
       "    </tr>\n",
       "  </tbody>\n",
       "</table>\n",
       "<p>120 rows × 3 columns</p>\n",
       "</div>"
      ],
      "text/plain": [
       "     year month  passengers\n",
       "0    1949   Jan         112\n",
       "1    1949   Feb         118\n",
       "2    1949   Mar         132\n",
       "3    1949   Apr         129\n",
       "4    1949   May         121\n",
       "..    ...   ...         ...\n",
       "115  1958   Aug         505\n",
       "116  1958   Sep         404\n",
       "117  1958   Oct         359\n",
       "118  1958   Nov         310\n",
       "119  1958   Dec         337\n",
       "\n",
       "[120 rows x 3 columns]"
      ]
     },
     "metadata": {},
     "output_type": "display_data"
    },
    {
     "data": {
      "text/html": [
       "<div>\n",
       "<style scoped>\n",
       "    .dataframe tbody tr th:only-of-type {\n",
       "        vertical-align: middle;\n",
       "    }\n",
       "\n",
       "    .dataframe tbody tr th {\n",
       "        vertical-align: top;\n",
       "    }\n",
       "\n",
       "    .dataframe thead th {\n",
       "        text-align: right;\n",
       "    }\n",
       "</style>\n",
       "<table border=\"1\" class=\"dataframe\">\n",
       "  <thead>\n",
       "    <tr style=\"text-align: right;\">\n",
       "      <th></th>\n",
       "      <th>year</th>\n",
       "      <th>month</th>\n",
       "      <th>passengers</th>\n",
       "    </tr>\n",
       "  </thead>\n",
       "  <tbody>\n",
       "    <tr>\n",
       "      <th>120</th>\n",
       "      <td>1959</td>\n",
       "      <td>Jan</td>\n",
       "      <td>360</td>\n",
       "    </tr>\n",
       "    <tr>\n",
       "      <th>121</th>\n",
       "      <td>1959</td>\n",
       "      <td>Feb</td>\n",
       "      <td>342</td>\n",
       "    </tr>\n",
       "    <tr>\n",
       "      <th>122</th>\n",
       "      <td>1959</td>\n",
       "      <td>Mar</td>\n",
       "      <td>406</td>\n",
       "    </tr>\n",
       "    <tr>\n",
       "      <th>123</th>\n",
       "      <td>1959</td>\n",
       "      <td>Apr</td>\n",
       "      <td>396</td>\n",
       "    </tr>\n",
       "    <tr>\n",
       "      <th>124</th>\n",
       "      <td>1959</td>\n",
       "      <td>May</td>\n",
       "      <td>420</td>\n",
       "    </tr>\n",
       "    <tr>\n",
       "      <th>125</th>\n",
       "      <td>1959</td>\n",
       "      <td>Jun</td>\n",
       "      <td>472</td>\n",
       "    </tr>\n",
       "    <tr>\n",
       "      <th>126</th>\n",
       "      <td>1959</td>\n",
       "      <td>Jul</td>\n",
       "      <td>548</td>\n",
       "    </tr>\n",
       "    <tr>\n",
       "      <th>127</th>\n",
       "      <td>1959</td>\n",
       "      <td>Aug</td>\n",
       "      <td>559</td>\n",
       "    </tr>\n",
       "    <tr>\n",
       "      <th>128</th>\n",
       "      <td>1959</td>\n",
       "      <td>Sep</td>\n",
       "      <td>463</td>\n",
       "    </tr>\n",
       "    <tr>\n",
       "      <th>129</th>\n",
       "      <td>1959</td>\n",
       "      <td>Oct</td>\n",
       "      <td>407</td>\n",
       "    </tr>\n",
       "    <tr>\n",
       "      <th>130</th>\n",
       "      <td>1959</td>\n",
       "      <td>Nov</td>\n",
       "      <td>362</td>\n",
       "    </tr>\n",
       "    <tr>\n",
       "      <th>131</th>\n",
       "      <td>1959</td>\n",
       "      <td>Dec</td>\n",
       "      <td>405</td>\n",
       "    </tr>\n",
       "    <tr>\n",
       "      <th>132</th>\n",
       "      <td>1960</td>\n",
       "      <td>Jan</td>\n",
       "      <td>417</td>\n",
       "    </tr>\n",
       "    <tr>\n",
       "      <th>133</th>\n",
       "      <td>1960</td>\n",
       "      <td>Feb</td>\n",
       "      <td>391</td>\n",
       "    </tr>\n",
       "    <tr>\n",
       "      <th>134</th>\n",
       "      <td>1960</td>\n",
       "      <td>Mar</td>\n",
       "      <td>419</td>\n",
       "    </tr>\n",
       "    <tr>\n",
       "      <th>135</th>\n",
       "      <td>1960</td>\n",
       "      <td>Apr</td>\n",
       "      <td>461</td>\n",
       "    </tr>\n",
       "    <tr>\n",
       "      <th>136</th>\n",
       "      <td>1960</td>\n",
       "      <td>May</td>\n",
       "      <td>472</td>\n",
       "    </tr>\n",
       "    <tr>\n",
       "      <th>137</th>\n",
       "      <td>1960</td>\n",
       "      <td>Jun</td>\n",
       "      <td>535</td>\n",
       "    </tr>\n",
       "    <tr>\n",
       "      <th>138</th>\n",
       "      <td>1960</td>\n",
       "      <td>Jul</td>\n",
       "      <td>622</td>\n",
       "    </tr>\n",
       "    <tr>\n",
       "      <th>139</th>\n",
       "      <td>1960</td>\n",
       "      <td>Aug</td>\n",
       "      <td>606</td>\n",
       "    </tr>\n",
       "    <tr>\n",
       "      <th>140</th>\n",
       "      <td>1960</td>\n",
       "      <td>Sep</td>\n",
       "      <td>508</td>\n",
       "    </tr>\n",
       "    <tr>\n",
       "      <th>141</th>\n",
       "      <td>1960</td>\n",
       "      <td>Oct</td>\n",
       "      <td>461</td>\n",
       "    </tr>\n",
       "    <tr>\n",
       "      <th>142</th>\n",
       "      <td>1960</td>\n",
       "      <td>Nov</td>\n",
       "      <td>390</td>\n",
       "    </tr>\n",
       "    <tr>\n",
       "      <th>143</th>\n",
       "      <td>1960</td>\n",
       "      <td>Dec</td>\n",
       "      <td>432</td>\n",
       "    </tr>\n",
       "  </tbody>\n",
       "</table>\n",
       "</div>"
      ],
      "text/plain": [
       "     year month  passengers\n",
       "120  1959   Jan         360\n",
       "121  1959   Feb         342\n",
       "122  1959   Mar         406\n",
       "123  1959   Apr         396\n",
       "124  1959   May         420\n",
       "125  1959   Jun         472\n",
       "126  1959   Jul         548\n",
       "127  1959   Aug         559\n",
       "128  1959   Sep         463\n",
       "129  1959   Oct         407\n",
       "130  1959   Nov         362\n",
       "131  1959   Dec         405\n",
       "132  1960   Jan         417\n",
       "133  1960   Feb         391\n",
       "134  1960   Mar         419\n",
       "135  1960   Apr         461\n",
       "136  1960   May         472\n",
       "137  1960   Jun         535\n",
       "138  1960   Jul         622\n",
       "139  1960   Aug         606\n",
       "140  1960   Sep         508\n",
       "141  1960   Oct         461\n",
       "142  1960   Nov         390\n",
       "143  1960   Dec         432"
      ]
     },
     "metadata": {},
     "output_type": "display_data"
    }
   ],
   "source": [
    "import matplotlib.pyplot as plt\n",
    "import japanize_matplotlib\n",
    "import seaborn as sns\n",
    "%matplotlib inline\n",
    "df_passengers = sns.load_dataset('flights')\n",
    "\n",
    "df_passengers_train = df_passengers[df_passengers['year'] <= 1958].copy()\n",
    "df_passengers_test = df_passengers[df_passengers['year'] > 1958].copy()\n",
    "\n",
    "display(df_passengers)\n",
    "display(df_passengers_train)\n",
    "display(df_passengers_test)"
   ]
  },
  {
   "cell_type": "markdown",
   "metadata": {
    "id": "kzamNz72ZAZ-"
   },
   "source": [
    "### 1.2 1.1で作成した`df_passengers_train`を用いて、横軸にインデックス、縦軸に乗客数をとった折れ線グラフを描画してください。"
   ]
  },
  {
   "cell_type": "code",
   "execution_count": null,
   "metadata": {
    "colab": {
     "base_uri": "https://localhost:8080/",
     "height": 264
    },
    "executionInfo": {
     "elapsed": 797,
     "status": "ok",
     "timestamp": 1673830672591,
     "user": {
      "displayName": "大谷津椋",
      "userId": "03391922001198405443"
     },
     "user_tz": -540
    },
    "id": "moU2qG7AaMve",
    "outputId": "eaee6768-fd77-4a17-a205-4f5a4708e6b0"
   },
   "outputs": [
    {
     "data": {
      "image/png": "[encoded data removed]",
      "text/plain": [
       "<Figure size 432x288 with 1 Axes>"
      ]
     },
     "metadata": {
      "needs_background": "light"
     },
     "output_type": "display_data"
    }
   ],
   "source": [
    "plt.plot(df_passengers_train['passengers'])\n",
    "plt.show()"
   ]
  },
  {
   "cell_type": "markdown",
   "metadata": {
    "id": "RSTeD8VHZQ9h"
   },
   "source": [
    "折れ線グラフからわかるように、このデータは右肩上がりのトレンドに加えて周期的な変動があることがわかります。\n",
    "\n",
    "つまり、典型的な非定常データです。"
   ]
  },
  {
   "cell_type": "markdown",
   "metadata": {
    "id": "bVgUfjaYer39"
   },
   "source": [
    "### 1.3 `df_passengers_train`を用いて、乗客数に対するラグ20までの自己相関を表したコレログラムを描画してください。"
   ]
  },
  {
   "cell_type": "code",
   "execution_count": null,
   "metadata": {
    "colab": {
     "base_uri": "https://localhost:8080/",
     "height": 279
    },
    "executionInfo": {
     "elapsed": 736,
     "status": "ok",
     "timestamp": 1673830826293,
     "user": {
      "displayName": "大谷津椋",
      "userId": "03391922001198405443"
     },
     "user_tz": -540
    },
    "id": "KstDPkwzjdAQ",
    "outputId": "190c34a6-78b8-47e7-ae3c-6d435693d5f6"
   },
   "outputs": [
    {
     "data": {
      "image/png": "[encoded data removed]",
      "text/plain": [
       "<Figure size 432x288 with 1 Axes>"
      ]
     },
     "metadata": {
      "needs_background": "light"
     },
     "output_type": "display_data"
    }
   ],
   "source": [
    "from statsmodels.graphics.tsaplots import plot_acf\n",
    "import pandas as pd\n",
    "diff_passengers = df_passengers_train['passengers'].diff()\n",
    "diff_passengers = diff_passengers.dropna()\n",
    "fig = plot_acf(diff_passengers, lags=20)"
   ]
  },
  {
   "cell_type": "markdown",
   "metadata": {
    "id": "46VPkU89Z3Ap"
   },
   "source": [
    "これを見ると、乗客数のデータは**データを12期ずらした値との相関が高い**ことがわかります。\n",
    "\n",
    "ここから、このデータは**12期ごとの周期がある**という結果が読み取れます。\n",
    "\n",
    "また、値が図中の青背景部分の中に収まっていたら自己相関を持たないと考えることができます。"
   ]
  },
  {
   "cell_type": "markdown",
   "metadata": {
    "id": "WbIrI_6-Mr3S"
   },
   "source": [
    "### 1.4 `df_passengers_train`を用いて、乗客数に対するラグ20までの偏自己相関を表したコレログラムを描画してください。"
   ]
  },
  {
   "cell_type": "code",
   "execution_count": null,
   "metadata": {
    "colab": {
     "base_uri": "https://localhost:8080/",
     "height": 335
    },
    "executionInfo": {
     "elapsed": 660,
     "status": "ok",
     "timestamp": 1673606099400,
     "user": {
      "displayName": "大谷津椋",
      "userId": "03391922001198405443"
     },
     "user_tz": -540
    },
    "id": "NRybMhhhMxrq",
    "outputId": "25668247-9a08-4b07-cb3a-5ae41ebf302d"
   },
   "outputs": [
    {
     "name": "stderr",
     "output_type": "stream",
     "text": [
      "/usr/local/lib/python3.8/dist-packages/statsmodels/graphics/tsaplots.py:348: FutureWarning: The default method 'yw' can produce PACF values outside of the [-1,1] interval. After 0.13, the default will change tounadjusted Yule-Walker ('ywm'). You can use this method now by setting method='ywm'.\n",
      "  warnings.warn(\n"
     ]
    },
    {
     "data": {
      "image/png": "[encoded data removed]",
      "text/plain": [
       "<Figure size 432x288 with 1 Axes>"
      ]
     },
     "metadata": {
      "needs_background": "light"
     },
     "output_type": "display_data"
    }
   ],
   "source": [
    "from statsmodels.graphics.tsaplots import plot_pacf\n",
    "fig = plot_pacf(diff_passengers, lags=20)"
   ]
  },
  {
   "cell_type": "markdown",
   "metadata": {
    "id": "uyM7-hDAhUfL"
   },
   "source": [
    "これを見ると、4, 8, 10, 12といった遅れの値に対して偏自己相関の値が高いことがわかります。\n",
    "\n",
    "ここから、**12ヶ月の周期は強く、四季の周期性が存在する**ということが読み取れます。\n",
    "\n",
    "また、値が図中の青四角の中に収まっていたら自己相関を持たないと考えることができます。"
   ]
  },
  {
   "cell_type": "markdown",
   "metadata": {
    "id": "jEgC0yzifqqi"
   },
   "source": [
    "### 1.5 1.3の結果と`df_passengers_train`を用いて、乗客数データのSTL分解を行ってください。その際には周期を1.3で得られた結果から自分で設定し、結果を描画することでトレンドや季節成分を確認してください。"
   ]
  },
  {
   "cell_type": "code",
   "execution_count": null,
   "metadata": {
    "colab": {
     "base_uri": "https://localhost:8080/",
     "height": 297
    },
    "executionInfo": {
     "elapsed": 1881,
     "status": "ok",
     "timestamp": 1673606104276,
     "user": {
      "displayName": "大谷津椋",
      "userId": "03391922001198405443"
     },
     "user_tz": -540
    },
    "id": "0zpKdY3YfYkW",
    "outputId": "3a9ec451-09a7-4bc3-c07b-f8b1546a82dc"
   },
   "outputs": [
    {
     "data": {
      "image/png": "[encoded data removed]",
      "text/plain": [
       "<Figure size 432x288 with 4 Axes>"
      ]
     },
     "metadata": {
      "needs_background": "light"
     },
     "output_type": "display_data"
    }
   ],
   "source": [
    "from statsmodels.tsa.seasonal import STL\n",
    "res = STL(df_passengers_train['passengers'], period=12).fit()\n",
    "fig = res.plot()"
   ]
  },
  {
   "cell_type": "markdown",
   "metadata": {
    "id": "NW-4xZvii3uM"
   },
   "source": [
    "この結果から、乗客数のデータはトレンド成分が基本になっていて、それに加えて時期を増すごとに強い季節性が出てきていることがわかります。また、残差は極めて小さい値を取っています。このような非定常データに時系列モデルを適用してみます。"
   ]
  },
  {
   "cell_type": "markdown",
   "metadata": {
    "id": "W5rZ3LK7jiQ8"
   },
   "source": [
    "### 1.6 それでは、時系列モデルを用いたモデリングに移っていきます。まずは1.3の結果から、ARモデルの遅れを[1, 2, 11, 12]と設定します。ARモデルを用いて`df_passengers_train`の乗客数をモデリングしてください。その際には`statsmodels.tsa.arima.model.ARIMA`クラスを用いて、季節成分などは考慮しないようにしてください。また、モデルによって予測した結果を1.2の折れ線グラフと重ねて描画してください。"
   ]
  },
  {
   "cell_type": "code",
   "execution_count": null,
   "metadata": {
    "colab": {
     "base_uri": "https://localhost:8080/",
     "height": 300
    },
    "executionInfo": {
     "elapsed": 1726,
     "status": "ok",
     "timestamp": 1673608908533,
     "user": {
      "displayName": "大谷津椋",
      "userId": "03391922001198405443"
     },
     "user_tz": -540
    },
    "id": "_b36Mmr_etuR",
    "outputId": "6169cb55-0b25-4de0-d623-08411d765e73"
   },
   "outputs": [
    {
     "name": "stderr",
     "output_type": "stream",
     "text": [
      "/usr/local/lib/python3.8/dist-packages/statsmodels/tsa/statespace/sarimax.py:966: UserWarning: Non-stationary starting autoregressive parameters found. Using zeros as starting parameters.\n",
      "  warn('Non-stationary starting autoregressive parameters'\n"
     ]
    },
    {
     "data": {
      "image/png": "[encoded data removed]",
      "text/plain": [
       "<Figure size 432x288 with 1 Axes>"
      ]
     },
     "metadata": {
      "needs_background": "light"
     },
     "output_type": "display_data"
    }
   ],
   "source": [
    "from statsmodels.tsa.arima.model import ARIMA\n",
    "ar_model = ARIMA(df_passengers_train['passengers'], order=([1, 2, 11, 12], 0, 0)).fit()\n",
    "ar_pred = ar_model.predict()\n",
    "plt.plot(ar_pred)\n",
    "plt.plot(df_passengers_train['passengers'])\n",
    "plt.show()"
   ]
  },
  {
   "cell_type": "markdown",
   "metadata": {
    "id": "IS4CbdOye_PX"
   },
   "source": [
    "### 1.7 それでは、次は実際にテストデータに対する予測を行います。1.6のモデルを用いて、学習データ以降の24期にわたって予測を行い、`df_passengers_test`と重ねて描画してください。\n"
   ]
  },
  {
   "cell_type": "code",
   "execution_count": null,
   "metadata": {
    "colab": {
     "base_uri": "https://localhost:8080/",
     "height": 264
    },
    "executionInfo": {
     "elapsed": 776,
     "status": "ok",
     "timestamp": 1673608940765,
     "user": {
      "displayName": "大谷津椋",
      "userId": "03391922001198405443"
     },
     "user_tz": -540
    },
    "id": "rLwowvLCm-DH",
    "outputId": "32b77e84-36b4-4717-e407-b46ce80fcc67"
   },
   "outputs": [
    {
     "data": {
      "image/png": "[encoded data removed]",
      "text/plain": [
       "<Figure size 432x288 with 1 Axes>"
      ]
     },
     "metadata": {
      "needs_background": "light"
     },
     "output_type": "display_data"
    }
   ],
   "source": [
    "test_pred = ar_model.predict(df_passengers_test.index[0], df_passengers_test.index[-1])\n",
    "plt.plot(test_pred, label='予測値')\n",
    "plt.plot(df_passengers_train['passengers'])\n",
    "plt.plot(df_passengers_test['passengers'], label='実測値')\n",
    "plt.legend()\n",
    "plt.show()"
   ]
  },
  {
   "cell_type": "markdown",
   "metadata": {
    "id": "arJk2BufmbAo"
   },
   "source": [
    "このように、単純なARモデルを用いてトレンドや季節性を考慮したデータを予測することは難しいということがわかります。"
   ]
  },
  {
   "cell_type": "markdown",
   "metadata": {
    "id": "uVd0YvSlpEHV"
   },
   "source": [
    "### 1.8 1.7のように非定常なデータに対してARモデルはうまく機能しません。そこで、次はARIMAモデルを用いて1.6と同様にモデリングを行い、予測した結果を描画してください。また、AR部分の次数は1.5で推定したものを用いて、差分とMA部分の次数はどちらも1を指定してください。"
   ]
  },
  {
   "cell_type": "code",
   "execution_count": null,
   "metadata": {
    "colab": {
     "base_uri": "https://localhost:8080/",
     "height": 300
    },
    "executionInfo": {
     "elapsed": 1455,
     "status": "ok",
     "timestamp": 1673610991913,
     "user": {
      "displayName": "大谷津椋",
      "userId": "03391922001198405443"
     },
     "user_tz": -540
    },
    "id": "g5pnIoFfpCHB",
    "outputId": "b8fb7dd9-a83b-4499-af9c-1a5a329f898f"
   },
   "outputs": [
    {
     "name": "stderr",
     "output_type": "stream",
     "text": [
      "/usr/local/lib/python3.8/dist-packages/statsmodels/tsa/statespace/sarimax.py:966: UserWarning: Non-stationary starting autoregressive parameters found. Using zeros as starting parameters.\n",
      "  warn('Non-stationary starting autoregressive parameters'\n"
     ]
    },
    {
     "data": {
      "image/png": "[encoded data removed]",
      "text/plain": [
       "<Figure size 432x288 with 1 Axes>"
      ]
     },
     "metadata": {
      "needs_background": "light"
     },
     "output_type": "display_data"
    }
   ],
   "source": [
    "model = ARIMA(df_passengers_train['passengers'], order=([1, 2, 11, 12], 1, 1)).fit()\n",
    "y_pred = model.predict()\n",
    "plt.plot(y_pred)\n",
    "plt.plot(df_passengers_train['passengers'])\n",
    "plt.show()"
   ]
  },
  {
   "cell_type": "markdown",
   "metadata": {
    "id": "7Lxp7GHaovyb"
   },
   "source": [
    "このように、ARIMAモデルを用いると**トレンドが強い非定常なデータ**に対してもうまくモデリングさせることができます。また、単純な季節性を持っているようなデータに対してAR部分の次数をうまく設定することで季節性のあるデータに対してもモデルを用いることもできます。"
   ]
  },
  {
   "cell_type": "markdown",
   "metadata": {
    "id": "Z_AnsPa2Bot-"
   },
   "source": [
    "### 1.9 1.8ではうまくモデリングできているように思えます。そこで、次はモデルのAICを表示して精度を確認してください。"
   ]
  },
  {
   "cell_type": "code",
   "execution_count": null,
   "metadata": {
    "colab": {
     "base_uri": "https://localhost:8080/"
    },
    "executionInfo": {
     "elapsed": 297,
     "status": "ok",
     "timestamp": 1673611002337,
     "user": {
      "displayName": "大谷津椋",
      "userId": "03391922001198405443"
     },
     "user_tz": -540
    },
    "id": "hG6Mny8fNb1F",
    "outputId": "5f011af9-215e-4460-a61a-401a5b5ebb7c"
   },
   "outputs": [
    {
     "data": {
      "text/plain": [
       "924.2058918234567"
      ]
     },
     "execution_count": 52,
     "metadata": {},
     "output_type": "execute_result"
    }
   ],
   "source": [
    "model.aic"
   ]
  },
  {
   "cell_type": "markdown",
   "metadata": {
    "id": "vzXL83VEqHvF"
   },
   "source": [
    "aicはモデルの精度と複雑さを同時に評価する指標で、低いほど良い指標になります。精度が良くなるほどAICの値は低くなり、モデルが複雑になる程AICの値は増加します。これは相対的な指標で、1つのモデルのaicでモデルを評価することはできません、\n"
   ]
  },
  {
   "cell_type": "markdown",
   "metadata": {
    "id": "gc0rmuPDIIyE"
   },
   "source": [
    "### 1.10 それでは、次は実際にテストデータに対する予測を行います。1.8のモデルを用いて、学習データ以降の24期にわたって予測を行い、`df_passengers_test`と重ねて描画してください。"
   ]
  },
  {
   "cell_type": "code",
   "execution_count": null,
   "metadata": {
    "colab": {
     "base_uri": "https://localhost:8080/",
     "height": 264
    },
    "executionInfo": {
     "elapsed": 867,
     "status": "ok",
     "timestamp": 1673611005659,
     "user": {
      "displayName": "大谷津椋",
      "userId": "03391922001198405443"
     },
     "user_tz": -540
    },
    "id": "Pguy7ikJGsiB",
    "outputId": "1a06ce40-f723-43db-fe98-3a51486a534b"
   },
   "outputs": [
    {
     "data": {
      "image/png": "[encoded data removed]",
      "text/plain": [
       "<Figure size 432x288 with 1 Axes>"
      ]
     },
     "metadata": {
      "needs_background": "light"
     },
     "output_type": "display_data"
    }
   ],
   "source": [
    "pred = model.predict(df_passengers_test.index[0], df_passengers_test.index[-1])\n",
    "plt.plot(pred, label='予測値')\n",
    "plt.plot(df_passengers_train['passengers'])\n",
    "plt.plot(df_passengers_test['passengers'], label='実測値')\n",
    "plt.legend()\n",
    "plt.show()"
   ]
  },
  {
   "cell_type": "markdown",
   "metadata": {
    "id": "RuhPspKaptLF"
   },
   "source": [
    "訓練データに対してうまく適合しているように見えましたが、予測データに対しては精度が出ませんでした。\n",
    "\\\n",
    "予測に焦点を当ててモデルを評価するには、RMSEやMAPEと行った指標を用いる必要があります。"
   ]
  },
  {
   "cell_type": "markdown",
   "metadata": {
    "id": "09lBa_JyKUc6"
   },
   "source": [
    "### 1.11 予測結果のテストデータに対するRMSE(平方根平均二乗誤差)とMAPE(平方根絶対パーセント誤差)を算出してください。"
   ]
  },
  {
   "cell_type": "code",
   "execution_count": null,
   "metadata": {
    "colab": {
     "base_uri": "https://localhost:8080/"
    },
    "executionInfo": {
     "elapsed": 271,
     "status": "ok",
     "timestamp": 1673611009438,
     "user": {
      "displayName": "大谷津椋",
      "userId": "03391922001198405443"
     },
     "user_tz": -540
    },
    "id": "-RX2ujKYGy1k",
    "outputId": "ff16053a-2191-4919-b953-96bb51d3e164"
   },
   "outputs": [
    {
     "name": "stdout",
     "output_type": "stream",
     "text": [
      "RMSE:  73.09781985759196\n",
      "MAPE:  0.1454943764534179\n"
     ]
    }
   ],
   "source": [
    "from sklearn.metrics import  mean_squared_error, mean_absolute_percentage_error\n",
    "rmse = mean_squared_error(df_passengers_test['passengers'], pred, squared=False)\n",
    "mape = mean_absolute_percentage_error(df_passengers_test['passengers'], pred)\n",
    "print('RMSE: ', rmse)\n",
    "print('MAPE: ', mape)"
   ]
  },
  {
   "cell_type": "markdown",
   "metadata": {
    "id": "8A3npK6Brj_3"
   },
   "source": [
    "MAPEは算出の際に実際の値が分母に来る指標であるため、データの値の大小に影響を受けてしまいます。そのため、評価指標にはRMSEのような平均的な誤差を算出した指標を用いることが一般的となっています。\n",
    "\n",
    "またこれらも相対的な指標であるため、これだけでモデルを評価することはできません。"
   ]
  },
  {
   "cell_type": "markdown",
   "metadata": {
    "id": "rzvidp-62Sou"
   },
   "source": [
    "### 1.12 1.8ではうまくモデリングできているように見えましたが、1.10の結果を見ると予測結果は実際のデータと少しずれています。そこで、次はSARIMAモデルを用いてモデリングを行ってください。この際に、`statsmodels.tsa.statespace.sarimax.SARIMAX`クラスを用いて`trend`引数に`'t'`、`order`引数`に(2, 1, 1)`、`seasonal_order`引数に`(2, 0, 0, 12)`を指定してください。また、その結果を1.8のように描画してください。"
   ]
  },
  {
   "cell_type": "code",
   "execution_count": null,
   "metadata": {
    "colab": {
     "base_uri": "https://localhost:8080/",
     "height": 300
    },
    "executionInfo": {
     "elapsed": 1758,
     "status": "ok",
     "timestamp": 1673611014212,
     "user": {
      "displayName": "大谷津椋",
      "userId": "03391922001198405443"
     },
     "user_tz": -540
    },
    "id": "28QUrOYtIKKg",
    "outputId": "24640a40-f715-40df-de8c-ad253fc654a7"
   },
   "outputs": [
    {
     "name": "stderr",
     "output_type": "stream",
     "text": [
      "/usr/local/lib/python3.8/dist-packages/statsmodels/tsa/statespace/sarimax.py:997: UserWarning: Non-stationary starting seasonal autoregressive Using zeros as starting parameters.\n",
      "  warn('Non-stationary starting seasonal autoregressive'\n"
     ]
    },
    {
     "data": {
      "image/png": "[encoded data removed]",
      "text/plain": [
       "<Figure size 432x288 with 1 Axes>"
      ]
     },
     "metadata": {
      "needs_background": "light"
     },
     "output_type": "display_data"
    }
   ],
   "source": [
    "from statsmodels.tsa.statespace.sarimax import SARIMAX\n",
    "sarima = SARIMAX(df_passengers_train['passengers'], order=(2, 1, 1), seasonal_order=(2, 0, 0, 12), trend='t').fit()\n",
    "sarima_pred = sarima.predict()\n",
    "plt.plot(sarima_pred)\n",
    "plt.plot(df_passengers_train['passengers'])\n",
    "plt.show()"
   ]
  },
  {
   "cell_type": "markdown",
   "metadata": {
    "id": "pRLA-oBa06-k"
   },
   "source": [
    "これを見ると、SARIMAモデルはARIMAモデルと同様にうまく当てはまっているように見えます。"
   ]
  },
  {
   "cell_type": "markdown",
   "metadata": {
    "id": "uFxH5iw82U5N"
   },
   "source": [
    "### 1.13 1.12もうまくモデリングできているように思えます。そこで、モデルのAICを表示してください。"
   ]
  },
  {
   "cell_type": "code",
   "execution_count": null,
   "metadata": {
    "colab": {
     "base_uri": "https://localhost:8080/"
    },
    "executionInfo": {
     "elapsed": 303,
     "status": "ok",
     "timestamp": 1673611039101,
     "user": {
      "displayName": "大谷津椋",
      "userId": "03391922001198405443"
     },
     "user_tz": -540
    },
    "id": "EbjQJN91OUC0",
    "outputId": "131deff6-ec2e-4e24-b606-4dca2c9daac0"
   },
   "outputs": [
    {
     "data": {
      "text/plain": [
       "1015.4316807486157"
      ]
     },
     "execution_count": 56,
     "metadata": {},
     "output_type": "execute_result"
    }
   ],
   "source": [
    "sarima.aic"
   ]
  },
  {
   "cell_type": "markdown",
   "metadata": {
    "id": "9VpvCTkz4bcO"
   },
   "source": [
    "AICはARIMAモデルよりも少しだけ増加しました。このように、AICはモデルが複雑になる程増加します。ただし、ARIMAからSARIMAにするに従ってモデルを複雑にしたにもかかわらずAICがあまり変わらないということは、それだけ**精度が向上している**ということが考えられます。"
   ]
  },
  {
   "cell_type": "markdown",
   "metadata": {
    "id": "hd2mXW2oHkpa"
   },
   "source": [
    "### 1.14 1.12のモデルを用いて、1.10と同様に24期分の予測を行って実際のデータと重ね合わせて描画してください。"
   ]
  },
  {
   "cell_type": "code",
   "execution_count": null,
   "metadata": {
    "colab": {
     "base_uri": "https://localhost:8080/",
     "height": 264
    },
    "executionInfo": {
     "elapsed": 344,
     "status": "ok",
     "timestamp": 1673610255556,
     "user": {
      "displayName": "大谷津椋",
      "userId": "03391922001198405443"
     },
     "user_tz": -540
    },
    "id": "Lh42lhD3KXR8",
    "outputId": "f12ee918-f776-4966-9aa0-89363cb74514"
   },
   "outputs": [
    {
     "data": {
      "image/png": "[encoded data removed]",
      "text/plain": [
       "<Figure size 432x288 with 1 Axes>"
      ]
     },
     "metadata": {
      "needs_background": "light"
     },
     "output_type": "display_data"
    }
   ],
   "source": [
    "s_pred = sarima.predict(df_passengers_test.index[0], df_passengers_test.index[-1])\n",
    "plt.plot(s_pred, label='予測値')\n",
    "plt.plot(df_passengers_train['passengers'])\n",
    "plt.plot(df_passengers_test['passengers'], label='実測値')\n",
    "plt.legend()\n",
    "plt.show()"
   ]
  },
  {
   "cell_type": "markdown",
   "metadata": {
    "id": "MDDx7PCb619e"
   },
   "source": [
    "このように予測した結果を描画すると、ARIMAモデルよりもさらに精度が向上したと考えることができます。\n",
    "\n",
    "ここで、ARIMAモデルと定量的に比較するための指標を用いて比較してみます。"
   ]
  },
  {
   "cell_type": "markdown",
   "metadata": {
    "id": "H6eXneQSHvVG"
   },
   "source": [
    "### 1.15 予測結果のテストデータに対するRMSE(平方根平均二乗誤差)とMAPE(平方根絶対パーセント誤差)を算出してください。"
   ]
  },
  {
   "cell_type": "code",
   "execution_count": null,
   "metadata": {
    "colab": {
     "base_uri": "https://localhost:8080/"
    },
    "executionInfo": {
     "elapsed": 478,
     "status": "ok",
     "timestamp": 1673610430549,
     "user": {
      "displayName": "大谷津椋",
      "userId": "03391922001198405443"
     },
     "user_tz": -540
    },
    "id": "cOB3cLePIGdo",
    "outputId": "14f4a838-7b12-4cbc-aa3c-87a6a3f11d99"
   },
   "outputs": [
    {
     "name": "stdout",
     "output_type": "stream",
     "text": [
      "RMSE:  60.25815427672946\n",
      "MAPE:  0.10757026519351287\n"
     ]
    }
   ],
   "source": [
    "sarima_rmse = mean_squared_error(df_passengers_test['passengers'], s_pred, squared=False)\n",
    "sarima_mape = mean_absolute_percentage_error(df_passengers_test['passengers'], s_pred)\n",
    "print('RMSE: ', sarima_rmse)\n",
    "print('MAPE: ', sarima_mape)"
   ]
  },
  {
   "cell_type": "markdown",
   "metadata": {
    "id": "45A84LHt8O67"
   },
   "source": [
    "どちらの指標を見ても、予測精度はARIMAモデルよりも改善したことがわかります。\n",
    "\n",
    "このように、何を重視するかによって用いる指標を決める必要があります。"
   ]
  },
  {
   "cell_type": "markdown",
   "metadata": {
    "id": "OLpeq58D8wWe"
   },
   "source": [
    "### 1.16 最後に状態空間モデルを用いて今後の予測を行います。次のセルを実行して、状態空間モデルを用いたモデリングを行なってください。"
   ]
  },
  {
   "cell_type": "code",
   "execution_count": null,
   "metadata": {
    "colab": {
     "base_uri": "https://localhost:8080/",
     "height": 425
    },
    "executionInfo": {
     "elapsed": 1166,
     "status": "ok",
     "timestamp": 1673611096531,
     "user": {
      "displayName": "大谷津椋",
      "userId": "03391922001198405443"
     },
     "user_tz": -540
    },
    "id": "ouyYjoPv84d7",
    "outputId": "d3339bbb-51c9-4ce8-f054-c2710da1c8f9"
   },
   "outputs": [
    {
     "name": "stdout",
     "output_type": "stream",
     "text": [
      "Optimization terminated successfully.\n",
      "         Current function value: 3.711826\n",
      "         Iterations: 461\n",
      "         Function evaluations: 789\n",
      "Optimization terminated successfully.\n",
      "         Current function value: 3.711826\n",
      "         Iterations: 0\n",
      "         Function evaluations: 1\n",
      "         Gradient evaluations: 1\n"
     ]
    },
    {
     "data": {
      "image/png": "[encoded data removed]",
      "text/plain": [
       "<Figure size 432x288 with 1 Axes>"
      ]
     },
     "metadata": {
      "needs_background": "light"
     },
     "output_type": "display_data"
    }
   ],
   "source": [
    "# こちらのセルを実行してください。\n",
    "from statsmodels.tsa.statespace.structural import UnobservedComponents\n",
    "\n",
    "unobserved_components_model = UnobservedComponents(df_passengers_train['passengers'], level='local linear trend', seasonal=12)\n",
    "res_model = unobserved_components_model.fit(method='bfgs', maxiter=500, start_params=unobserved_components_model.fit(method='nm', maxiter=500).params,)\n",
    "\n",
    "plt.plot(res_model.predict())\n",
    "plt.plot(df_passengers_train['passengers'])\n",
    "\n",
    "plt.show()"
   ]
  },
  {
   "cell_type": "markdown",
   "metadata": {
    "id": "dKmmgZkN7jtm"
   },
   "source": [
    "このモデルは次のようなモデルとなっています。\n",
    "- ある観測値(実際のデータ)は**今期の状態に今期のノイズを加えた値**となる。\n",
    "- 今期の状態は**前期の状態に前期のトレンドを加えて今期のノイズを加えた値**となる。\n",
    "- 今期のトレンドは**前期のトレンドに今期のノイズを加えた値**となる\n",
    "- また、上記の式を基本に季節成分が考慮される。"
   ]
  },
  {
   "cell_type": "markdown",
   "metadata": {
    "id": "YauOSMAKGWfA"
   },
   "source": [
    "この式をもとに状態空間モデルは推定されます。"
   ]
  },
  {
   "cell_type": "markdown",
   "metadata": {
    "id": "PAm-x3-j-6pX"
   },
   "source": [
    "### 1.17 1.16で作成したモデルに対してAICを算出してください。"
   ]
  },
  {
   "cell_type": "code",
   "execution_count": null,
   "metadata": {
    "colab": {
     "base_uri": "https://localhost:8080/"
    },
    "executionInfo": {
     "elapsed": 597,
     "status": "ok",
     "timestamp": 1673611136267,
     "user": {
      "displayName": "大谷津椋",
      "userId": "03391922001198405443"
     },
     "user_tz": -540
    },
    "id": "y7x3OJZYBQ9O",
    "outputId": "94ee6869-579b-43dd-85b7-f21be2a1b856"
   },
   "outputs": [
    {
     "data": {
      "text/plain": [
       "898.838278830138"
      ]
     },
     "execution_count": 58,
     "metadata": {},
     "output_type": "execute_result"
    }
   ],
   "source": [
    "res_model.aic"
   ]
  },
  {
   "cell_type": "markdown",
   "metadata": {
    "id": "7TQVW2Sc78MV"
   },
   "source": [
    "ARIMAモデルやSARIMAモデルを用いたモデリングに比べてAICがかなり低くなりました。"
   ]
  },
  {
   "cell_type": "markdown",
   "metadata": {
    "id": "0oILtNbg7h4C"
   },
   "source": [
    "### 1.18 1.16のモデルを用いて、1.10と同様に24期分の予測を行って実際のデータと重ね合わせて描画してください。"
   ]
  },
  {
   "cell_type": "code",
   "execution_count": null,
   "metadata": {
    "colab": {
     "base_uri": "https://localhost:8080/",
     "height": 264
    },
    "executionInfo": {
     "elapsed": 324,
     "status": "ok",
     "timestamp": 1673611264611,
     "user": {
      "displayName": "大谷津椋",
      "userId": "03391922001198405443"
     },
     "user_tz": -540
    },
    "id": "lqQTcCy9-7Z6",
    "outputId": "7ed53f63-d0cb-494e-9985-015e3adc055b"
   },
   "outputs": [
    {
     "data": {
      "image/png": "[encoded data removed]",
      "text/plain": [
       "<Figure size 432x288 with 1 Axes>"
      ]
     },
     "metadata": {
      "needs_background": "light"
     },
     "output_type": "display_data"
    }
   ],
   "source": [
    "res_pred = res_model.predict(df_passengers_test.index[0], df_passengers_test.index[-1])\n",
    "plt.plot(res_pred, label='予測値')\n",
    "plt.plot(df_passengers_train['passengers'])\n",
    "plt.plot(df_passengers_test['passengers'], label='実測値')\n",
    "plt.legend()\n",
    "plt.show()"
   ]
  },
  {
   "cell_type": "markdown",
   "metadata": {
    "id": "u8LLwZPg8PEu"
   },
   "source": [
    "このモデルでは、トレンドをうまく掴めていないことがわかります。\n"
   ]
  },
  {
   "cell_type": "markdown",
   "metadata": {
    "id": "mwtZ2nHMDCfF"
   },
   "source": [
    "### 1.19  状態空間モデルを用いると、データの分析まで行うことができます。データから推定された状態部分の推定値は`状態空間モデル.level['smoothed']`、トレンド成分は`状態空間モデル.trend['smoothed']`、季節成分は`状態空間モデル.seasonal['smoothed']`、残差は`状態空間モデル.resid`で取得できます。これらを元データと重ねて折れ線グラフで描画してください。"
   ]
  },
  {
   "cell_type": "code",
   "execution_count": null,
   "metadata": {
    "colab": {
     "base_uri": "https://localhost:8080/",
     "height": 482
    },
    "executionInfo": {
     "elapsed": 1159,
     "status": "ok",
     "timestamp": 1673611831347,
     "user": {
      "displayName": "大谷津椋",
      "userId": "03391922001198405443"
     },
     "user_tz": -540
    },
    "id": "vZ7422nkATky",
    "outputId": "74508cb3-f3b2-45b4-855e-eb1b3ae918e2"
   },
   "outputs": [
    {
     "data": {
      "image/png": "[encoded data removed]",
      "text/plain": [
       "<Figure size 1008x576 with 1 Axes>"
      ]
     },
     "metadata": {
      "needs_background": "light"
     },
     "output_type": "display_data"
    }
   ],
   "source": [
    "plt.figure(figsize=(14, 8))\n",
    "plt.plot(res_model.level['smoothed'], label='状態成分')\n",
    "plt.plot(res_model.trend['smoothed'], label='トレンド成分')\n",
    "plt.plot(res_model.seasonal['smoothed'], label='季節成分')\n",
    "plt.plot(res_model.resid, label='残差')\n",
    "plt.plot(df_passengers_train['passengers'], '--', label='元データ')\n",
    "plt.legend()\n",
    "plt.show()"
   ]
  },
  {
   "cell_type": "markdown",
   "metadata": {
    "id": "Vd4BlEBNEqEy"
   },
   "source": [
    "このモデルを用いた推定では、**データにはトレンドがなく、ほとんどが季節成分と残差によって構成されている**という推定がされています。\n",
    "\n",
    "状態空間は式をもとにモデルを推定するため、人間の直感とは離れた結果が出ることもあります。\n",
    "\\\n",
    "また、状態空間モデルを用いて正確に予測を行うためにはある程度のデータ数が必要であること覚えておきましょう。"
   ]
  },
  {
   "cell_type": "markdown",
   "metadata": {
    "id": "LmlTXhOeaf5s"
   },
   "source": [
    "## 2. 株価データを用いて時系列分析や株価データの特徴について学習します。**[補足]** "
   ]
  },
  {
   "cell_type": "markdown",
   "metadata": {
    "id": "zU-3aARdUSO8"
   },
   "source": [
    "前提として、時系列モデルによって株価の予測を行うことは非常に難しいです。 それには例として次のような原因があります。\n",
    "- データに定常性が認められない。\n",
    "- 様々な要因が複雑に絡まっていて、過去の値だけで値が決まらない。\n",
    "- ノイズ要素が大きいが、予測にノイズを組み込むことが難しい。\n"
   ]
  },
  {
   "cell_type": "markdown",
   "metadata": {
    "id": "DT1W-RXk6Q8X"
   },
   "source": [
    "これらの要因から、時系列モデルを用いて株価を正確に予測することは非常に難しいということが知られています。\n",
    "\\\n",
    "そのため、今回は株価の予測精度に焦点を置かず、株価データを通じて時系列モデルの特徴や振る舞いについて勉強をしていきます。"
   ]
  },
  {
   "cell_type": "markdown",
   "metadata": {
    "id": "cVJSF82c3-NH"
   },
   "source": [
    "### 2.1 次のデータは、2012年1月1日から2022年3月31日までのトヨタの株価データです。次のセルを実行してデータを確認してください。"
   ]
  },
  {
   "cell_type": "code",
   "execution_count": 3,
   "metadata": {
    "id": "kYVp_APKtiHd"
   },
   "outputs": [
    {
     "data": {
      "text/html": [
       "<div>\n",
       "<style scoped>\n",
       "    .dataframe tbody tr th:only-of-type {\n",
       "        vertical-align: middle;\n",
       "    }\n",
       "\n",
       "    .dataframe tbody tr th {\n",
       "        vertical-align: top;\n",
       "    }\n",
       "\n",
       "    .dataframe thead th {\n",
       "        text-align: right;\n",
       "    }\n",
       "</style>\n",
       "<table border=\"1\" class=\"dataframe\">\n",
       "  <thead>\n",
       "    <tr style=\"text-align: right;\">\n",
       "      <th></th>\n",
       "      <th>Date</th>\n",
       "      <th>Open</th>\n",
       "      <th>High</th>\n",
       "      <th>Low</th>\n",
       "      <th>Close</th>\n",
       "      <th>Volume</th>\n",
       "    </tr>\n",
       "  </thead>\n",
       "  <tbody>\n",
       "    <tr>\n",
       "      <th>0</th>\n",
       "      <td>2012-01-04</td>\n",
       "      <td>466.39</td>\n",
       "      <td>474.07</td>\n",
       "      <td>464.42</td>\n",
       "      <td>472.29</td>\n",
       "      <td>55627060</td>\n",
       "    </tr>\n",
       "    <tr>\n",
       "      <th>1</th>\n",
       "      <td>2012-01-05</td>\n",
       "      <td>472.64</td>\n",
       "      <td>474.96</td>\n",
       "      <td>470.32</td>\n",
       "      <td>472.29</td>\n",
       "      <td>43975300</td>\n",
       "    </tr>\n",
       "    <tr>\n",
       "      <th>2</th>\n",
       "      <td>2012-01-06</td>\n",
       "      <td>472.29</td>\n",
       "      <td>472.46</td>\n",
       "      <td>467.64</td>\n",
       "      <td>471.21</td>\n",
       "      <td>35458030</td>\n",
       "    </tr>\n",
       "    <tr>\n",
       "      <th>3</th>\n",
       "      <td>2012-01-10</td>\n",
       "      <td>471.57</td>\n",
       "      <td>472.82</td>\n",
       "      <td>468.53</td>\n",
       "      <td>469.07</td>\n",
       "      <td>26413395</td>\n",
       "    </tr>\n",
       "    <tr>\n",
       "      <th>4</th>\n",
       "      <td>2012-01-11</td>\n",
       "      <td>469.78</td>\n",
       "      <td>471.21</td>\n",
       "      <td>466.21</td>\n",
       "      <td>469.07</td>\n",
       "      <td>21040700</td>\n",
       "    </tr>\n",
       "    <tr>\n",
       "      <th>...</th>\n",
       "      <td>...</td>\n",
       "      <td>...</td>\n",
       "      <td>...</td>\n",
       "      <td>...</td>\n",
       "      <td>...</td>\n",
       "      <td>...</td>\n",
       "    </tr>\n",
       "    <tr>\n",
       "      <th>2498</th>\n",
       "      <td>2022-03-25</td>\n",
       "      <td>2210.00</td>\n",
       "      <td>2216.50</td>\n",
       "      <td>2180.00</td>\n",
       "      <td>2189.00</td>\n",
       "      <td>25328700</td>\n",
       "    </tr>\n",
       "    <tr>\n",
       "      <th>2499</th>\n",
       "      <td>2022-03-28</td>\n",
       "      <td>2212.00</td>\n",
       "      <td>2217.00</td>\n",
       "      <td>2182.50</td>\n",
       "      <td>2202.00</td>\n",
       "      <td>23368400</td>\n",
       "    </tr>\n",
       "    <tr>\n",
       "      <th>2500</th>\n",
       "      <td>2022-03-29</td>\n",
       "      <td>2221.50</td>\n",
       "      <td>2261.00</td>\n",
       "      <td>2220.50</td>\n",
       "      <td>2261.00</td>\n",
       "      <td>43733900</td>\n",
       "    </tr>\n",
       "    <tr>\n",
       "      <th>2501</th>\n",
       "      <td>2022-03-30</td>\n",
       "      <td>2216.00</td>\n",
       "      <td>2247.50</td>\n",
       "      <td>2189.00</td>\n",
       "      <td>2218.50</td>\n",
       "      <td>36673400</td>\n",
       "    </tr>\n",
       "    <tr>\n",
       "      <th>2502</th>\n",
       "      <td>2022-03-31</td>\n",
       "      <td>2200.50</td>\n",
       "      <td>2262.00</td>\n",
       "      <td>2191.00</td>\n",
       "      <td>2222.50</td>\n",
       "      <td>38235600</td>\n",
       "    </tr>\n",
       "  </tbody>\n",
       "</table>\n",
       "<p>2503 rows × 6 columns</p>\n",
       "</div>"
      ],
      "text/plain": [
       "           Date     Open     High      Low    Close    Volume\n",
       "0    2012-01-04   466.39   474.07   464.42   472.29  55627060\n",
       "1    2012-01-05   472.64   474.96   470.32   472.29  43975300\n",
       "2    2012-01-06   472.29   472.46   467.64   471.21  35458030\n",
       "3    2012-01-10   471.57   472.82   468.53   469.07  26413395\n",
       "4    2012-01-11   469.78   471.21   466.21   469.07  21040700\n",
       "...         ...      ...      ...      ...      ...       ...\n",
       "2498 2022-03-25  2210.00  2216.50  2180.00  2189.00  25328700\n",
       "2499 2022-03-28  2212.00  2217.00  2182.50  2202.00  23368400\n",
       "2500 2022-03-29  2221.50  2261.00  2220.50  2261.00  43733900\n",
       "2501 2022-03-30  2216.00  2247.50  2189.00  2218.50  36673400\n",
       "2502 2022-03-31  2200.50  2262.00  2191.00  2222.50  38235600\n",
       "\n",
       "[2503 rows x 6 columns]"
      ]
     },
     "execution_count": 3,
     "metadata": {},
     "output_type": "execute_result"
    }
   ],
   "source": [
    "# こちらのセルを実行してください。\n",
    "import pandas as pd\n",
    "from pandas_datareader import data\n",
    "\n",
    "# 2012年1月1日から2022年3月31日までのトヨタの株価を取得\n",
    "df_toyota_stock = data.DataReader('7203.JP', 'stooq', start='2012-01-01', end='2022-03-31').iloc[::-1].reset_index()\n",
    "\n",
    "# 長期予測用のデータとして2020年以前を訓練用・2020年以降をテスト用に分割\n",
    "df_toyota_stock_long_train = df_toyota_stock[df_toyota_stock['Date'].dt.year <= 2020].copy()\n",
    "df_toyota_stock_long_test = df_toyota_stock[df_toyota_stock['Date'].dt.year > 2020].copy()\n",
    "\n",
    "# 短期予測用のデータとして最後の5日までを訓練用・最後の5日をテスト用に分割\n",
    "df_toyota_stock_short_train = df_toyota_stock.iloc[:-5, :].copy()\n",
    "df_toyota_stock_short_test = df_toyota_stock.iloc[-5:, :].copy()\n",
    "\n",
    "df_toyota_stock"
   ]
  },
  {
   "cell_type": "markdown",
   "metadata": {
    "id": "wyi49A4K4Ub7"
   },
   "source": [
    "### 2.2 トヨタの株価データの終値(`df_toyota_stock['Close']`)を折れ線グラフを用いて可視化してください。"
   ]
  },
  {
   "cell_type": "code",
   "execution_count": null,
   "metadata": {
    "id": "FtoyfZDZgbj5"
   },
   "outputs": [],
   "source": []
  },
  {
   "cell_type": "markdown",
   "metadata": {
    "id": "NgnXIfvUIMHM"
   },
   "source": [
    "描画してデータを可視化すると、トヨタの株価は上下に揺れながら少しずつ上昇していることが読み取れます。"
   ]
  },
  {
   "cell_type": "markdown",
   "metadata": {
    "id": "D45CXPc6l26w"
   },
   "source": [
    "### 2.3 トヨタの株価データの終値(`df_toyota_stock['Close']`)の遅れ30までの自己相関の値を描画してください。"
   ]
  },
  {
   "cell_type": "code",
   "execution_count": null,
   "metadata": {
    "id": "cd61t3aFlXqg"
   },
   "outputs": [],
   "source": []
  },
  {
   "cell_type": "markdown",
   "metadata": {
    "id": "SYMtAt3yIkR4"
   },
   "source": [
    "遅れ30までの自己相関の値を描画すると、遅れ30までの全ての時期において自己相関の値が非常に高くなっています。これは株価のデータが少しずつ上昇していることが理由だと考えられます。"
   ]
  },
  {
   "cell_type": "markdown",
   "metadata": {
    "id": "IbLnkUY3mE8k"
   },
   "source": [
    "### 2.4 トヨタの株価データの終値(`df_toyota_stock['Close']`)の遅れ30までの偏自己相関の値を描画してください。"
   ]
  },
  {
   "cell_type": "code",
   "execution_count": null,
   "metadata": {
    "id": "qf2GekfDlkQY"
   },
   "outputs": [],
   "source": []
  },
  {
   "cell_type": "markdown",
   "metadata": {
    "id": "AIQ-C1B7I-gq"
   },
   "source": [
    "偏自己相関の値を描画すると、遅れ1以外のデータはほとんど有意な自己相関がありません。\n",
    "\\\n",
    "ここから、**ある時期の株価と直接関係している株価はせいぜい1期前の株価である**ことがわかります。\n",
    "\n",
    "ここからも株価の時系列モデルを用いた予測は非常に難しいということがわかります。"
   ]
  },
  {
   "cell_type": "markdown",
   "metadata": {
    "id": "c8X7xXyRncuY"
   },
   "source": [
    "### 2.5 トヨタの株価データの終値(`df_toyota_stock['Close']`)に対して周期22としたSTL分解を行い、その結果を描画してください。"
   ]
  },
  {
   "cell_type": "code",
   "execution_count": null,
   "metadata": {
    "id": "d-cxYriOlLc3"
   },
   "outputs": [],
   "source": []
  },
  {
   "cell_type": "markdown",
   "metadata": {
    "id": "YVCWN2LCJob3"
   },
   "source": [
    "この結果を確認すると、株価のデータは残差がとても大きく、季節成分がほとんど関係ないということがわかります。残差がこれほど大きいデータだと、分析は非常に難しいです。"
   ]
  },
  {
   "cell_type": "markdown",
   "metadata": {
    "id": "ZA2Au4VZoeeT"
   },
   "source": [
    "### 2.6 トヨタの株価データの終値(`df_toyota_stock['Close']`)の前期との差分をとったデータを折れ線グラフを用いて描画してください。"
   ]
  },
  {
   "cell_type": "code",
   "execution_count": null,
   "metadata": {
    "id": "9c8qCXk1od2B"
   },
   "outputs": [],
   "source": []
  },
  {
   "cell_type": "markdown",
   "metadata": {
    "id": "-jWWe1Jk3-AP"
   },
   "source": [
    "株価のデータでさえも、差分を取るとある程度定常性が認められそうです。"
   ]
  },
  {
   "cell_type": "markdown",
   "metadata": {
    "id": "hPL0XgWSn9Ki"
   },
   "source": [
    "### 2.7 トヨタの株価データの終値(`df_toyota_stock['Close']`)の前期との差分をとったデータに対しての遅れ30までの自己相関の値を描画してください。"
   ]
  },
  {
   "cell_type": "code",
   "execution_count": null,
   "metadata": {
    "id": "NUNNa-JRn7bG"
   },
   "outputs": [],
   "source": []
  },
  {
   "cell_type": "markdown",
   "metadata": {
    "id": "vkq8gCl_oJWM"
   },
   "source": [
    "### 2.8 トヨタの株価データの終値(`df_toyota_stock['Close']`)の前期との差分をとったデータに対しての遅れ30までの偏自己相関の値を描画してください。"
   ]
  },
  {
   "cell_type": "code",
   "execution_count": null,
   "metadata": {
    "id": "LFE_J6bRn7-V"
   },
   "outputs": [],
   "source": []
  },
  {
   "cell_type": "markdown",
   "metadata": {
    "id": "y9yCzjHToxU1"
   },
   "source": [
    "### 2.9 それでは実際にモデリングを試してみます。まずは`statsmodels.tsa.arima.model.ARIMA`を用いて`df_toyota_stock_long_train['Close']`に対してモデリングを行ってください。その際に`order=(1, 1, 1)`を引数に指定してください。また、訓練用データの数だけ予測を行って、実際のデータと重ねて折れ線グラフで描画することで結果を確認してください。"
   ]
  },
  {
   "cell_type": "code",
   "execution_count": null,
   "metadata": {
    "id": "9jLzxDi7tT4-"
   },
   "outputs": [],
   "source": []
  },
  {
   "cell_type": "markdown",
   "metadata": {
    "id": "3Sh3RvBFuEKd"
   },
   "source": [
    "### 2.10 次に`statsmodels.tsa.statespace.sarimax.SARIMAX`を用いて`df_toyota_stock_long_train['Close']`に対してモデリングを行ってください。その際に`order=(2, 1, 3), seasonal_order=(1, 1, 2, 22), trend=[0, -1, 1]`を引数に指定してください。また、訓練用データの数だけ予測を行って、実際のデータと重ねて折れ線グラフで描画することで結果を確認してください。"
   ]
  },
  {
   "cell_type": "code",
   "execution_count": null,
   "metadata": {
    "id": "l9jE9KNruAGj"
   },
   "outputs": [],
   "source": []
  },
  {
   "cell_type": "markdown",
   "metadata": {
    "id": "m_M87jX859Yp"
   },
   "source": [
    "### 2.11 それでは、短期予測をするとどうなるでしょうか。`statsmodels.tsa.statespace.sarimax.SARIMAX`を用いて`df_toyota_stock_short_train['Close']`に対してモデリングを行ってください。その際に`order=(2, 1, 3), seasonal_order=(1, 1, 2, 22), trend=[0, -1, 1]`を引数に指定してください。また、訓練用データの数だけ予測を行って、実際のデータと重ねて折れ線グラフで描画することで結果を確認してください。"
   ]
  },
  {
   "cell_type": "code",
   "execution_count": null,
   "metadata": {
    "id": "Og1SIMkB5-t7"
   },
   "outputs": [],
   "source": []
  },
  {
   "cell_type": "markdown",
   "metadata": {
    "id": "Y0bLe90L6F05"
   },
   "source": [
    "### 2.12 2.11で表示したグラフでは結果があまり分かりません。そこで、最後の5日の予測結果と実際の値のみを折れ線グラフで描画してください。"
   ]
  },
  {
   "cell_type": "code",
   "execution_count": null,
   "metadata": {
    "id": "b2IxPBgf7wxT"
   },
   "outputs": [],
   "source": []
  },
  {
   "cell_type": "markdown",
   "metadata": {
    "id": "jG3lRgK06OED"
   },
   "source": [
    "### 2.13 2.1と同様に、同職種である日産の株価データを用います。次のセルを実行してデータを確認してください。"
   ]
  },
  {
   "cell_type": "code",
   "execution_count": null,
   "metadata": {
    "id": "WDFOIin86RCS"
   },
   "outputs": [],
   "source": [
    "# こちらのセルを実行してください。\n",
    "df_nissan_stock = data.DataReader('7201.JP', 'stooq', start='2012-01-01', end='2022-03-31').iloc[::-1].reset_index()\n",
    "\n",
    "# 長期予測用のデータとして2020年以前を訓練用・2020年以降をテスト用に分割\n",
    "df_nissan_stock_long_train = df_nissan_stock[df_nissan_stock['Date'].dt.year <= 2020].copy()\n",
    "df_nissan_stock_long_test = df_nissan_stock[df_nissan_stock['Date'].dt.year > 2020].copy()\n",
    "\n",
    "# 短期予測用のデータとして最後の5日までを訓練用・最後の5日をテスト用に分割\n",
    "df_nissan_stock_short_train = df_nissan_stock.iloc[:-5, :].copy()\n",
    "df_nissan_stock_short_test = df_nissan_stock.iloc[-5:, :].copy()\n",
    "\n",
    "df_nissan_stock"
   ]
  },
  {
   "cell_type": "markdown",
   "metadata": {
    "id": "0cc1ldiA8Pur"
   },
   "source": [
    "### 2.14 2.2と同様にトヨタ、日産の終値データをそれぞれ折れ線グラフにして描画してください。"
   ]
  },
  {
   "cell_type": "code",
   "execution_count": null,
   "metadata": {
    "id": "5b4Ka5kN8oIs"
   },
   "outputs": [],
   "source": []
  },
  {
   "cell_type": "markdown",
   "metadata": {
    "id": "q8U1mEhu8vnr"
   },
   "source": [
    "###2.15 トヨタと日産の毎日の終値データを格納したデータフレームを作成してください。"
   ]
  },
  {
   "cell_type": "code",
   "execution_count": null,
   "metadata": {
    "id": "H2Y6u9n8IfOE"
   },
   "outputs": [],
   "source": []
  },
  {
   "cell_type": "markdown",
   "metadata": {
    "id": "jlvK2OX585aJ"
   },
   "source": [
    "### 2.16 今までは、単一の時系列データのみを用いて時系列データを扱いました。そこで、次は応用として多変量の時系列データを扱うモデルであるVAR(Vector AutoRegression)モデルを紹介します。次のセルを実行して、VARモデルを用いたモデリングを行ってください。**[応用]**"
   ]
  },
  {
   "cell_type": "code",
   "execution_count": null,
   "metadata": {
    "id": "5EYDXMT786Ty"
   },
   "outputs": [],
   "source": [
    "# 次のセルを実行してください。\n",
    "from statsmodels.tsa.vector_ar.var_model import VAR\n",
    "\n",
    "var_long_model = VAR(df_long_train_merged).fit()\n",
    "var_long_model"
   ]
  },
  {
   "cell_type": "markdown",
   "metadata": {
    "id": "tholyg7E24y7"
   },
   "source": [
    "**[補足]**\n",
    "\n",
    "**VARモデル**は**複数の時系列データを用いて分析を行う**ことのできるモデルです。このモデルを用いると、時系列データ同士の関係を分析したり、複数の時系列データを用いて今後のデータを予測することができます。\n",
    "\n",
    "また、これまで我々が用いていた`SARIMAX`クラスは、SARIMAXモデルといってSARIMAモデルに対してさらに外因変数を考慮することができるモデルです。どちらも複数の変数を扱うことができるモデルですが、SARIMAXモデルとVARモデルの違いは、**変数同士が相互に関係しているかどうか**です。VARモデルの場合は、**変数同士が相互に関係している**という仮定の元モデリングを行います。そのため、複数のデータ同士の関係を分析したり、複数のデータに対して予測を行うことができます。SARIMAXモデルは、あくまでも外因変数は目的変数に関係しますが、目的変数は外因変数に影響をもたらしません。"
   ]
  },
  {
   "cell_type": "markdown",
   "metadata": {
    "id": "YgQcDOve86f9"
   },
   "source": [
    "### 2.17 VARモデルは他のモデルと同様に`VARモデル.forecast(VARモデル.endog, steps=予測する期間数)`を用いると指定した時期だけ予測を行うことができます。次のセルを実行して予測を行い、結果を描画してください。"
   ]
  },
  {
   "cell_type": "code",
   "execution_count": null,
   "metadata": {
    "id": "sf0xBYmC88Md"
   },
   "outputs": [],
   "source": [
    "# VARモデルを用いて予測を行い、それをトヨタと日産で分割する\n",
    "pred_toyota, pred_nissan= list(zip(*var_long_model.forecast(y=var_long_model.endog, steps=len(df_long_test_merged))))\n",
    "\n",
    "# トヨタと日産の実際の値を表示\n",
    "true_toyota, true_nissan = list(zip(*df_long_test_merged.values))\n",
    "\n",
    "fig = plt.figure(figsize=(15, 8))\n",
    "ax_toyota = fig.add_subplot(211)\n",
    "ax_nissan = fig.add_subplot(212)\n",
    "\n",
    "# 実際の値\n",
    "ax_toyota.plot(true_toyota)\n",
    "ax_nissan.plot(true_nissan)\n",
    "ax_toyota.plot(list(pred_toyota))\n",
    "ax_nissan.plot(list(pred_nissan))\n",
    "\n",
    "fig.show()"
   ]
  },
  {
   "cell_type": "markdown",
   "metadata": {
    "id": "r5NqpwGjJF7e"
   },
   "source": [
    "VARモデルを用いても株価の予測はうまくいきません。このように、時系列モデルにおいて長期予測を行うと、結果は一定の振る舞いに収束してしまいます。そのため、次は短期予測を行なって結果を確認したいと思います。"
   ]
  },
  {
   "cell_type": "markdown",
   "metadata": {
    "id": "aLjxIJ5i89Lk"
   },
   "source": [
    "### 2.18 次は短期予測を行います。2.16を参考にして`df_short_train_merged`に対してVARモデルをモデリングしてください。"
   ]
  },
  {
   "cell_type": "code",
   "execution_count": null,
   "metadata": {
    "id": "yquDcqqw8--C"
   },
   "outputs": [],
   "source": []
  },
  {
   "cell_type": "markdown",
   "metadata": {
    "id": "PGLCh_Ek8_m1"
   },
   "source": [
    "### 2.19 2.18で作成したモデルを用いて5日分の予測を行って、2.17と同様に折れ線グラフで描画してください。"
   ]
  },
  {
   "cell_type": "code",
   "execution_count": null,
   "metadata": {
    "id": "rmKc6n8M9A65"
   },
   "outputs": [],
   "source": []
  },
  {
   "cell_type": "markdown",
   "metadata": {
    "id": "X1Gk4wl4J-gk"
   },
   "source": [
    "短期予測を行なっても、結果はうまく出ませんでした。"
   ]
  },
  {
   "cell_type": "markdown",
   "metadata": {
    "id": "Njfiho949BMN"
   },
   "source": [
    "### 2.20 時系列モデルでは定常性の仮定できるデータに対してモデリングを行います。そこで、次のように前期との差分をとったデータを用いてモデリングを行なってください。"
   ]
  },
  {
   "cell_type": "code",
   "execution_count": null,
   "metadata": {
    "id": "vwRlFuncCsKI"
   },
   "outputs": [],
   "source": [
    "# こちらのセルを実行してください。\n",
    "var_long_model = VAR(df_long_train_merged.diff()[1:].reset_index(drop=True)).fit()\n",
    "var_long_model"
   ]
  },
  {
   "cell_type": "markdown",
   "metadata": {
    "id": "i-Uwa5M9KZ3l"
   },
   "source": [
    "これによって、株価データの差分をとって定常化したデータに対してモデリングを行うことができました。"
   ]
  },
  {
   "cell_type": "markdown",
   "metadata": {
    "id": "tB7TnVrKCqSq"
   },
   "source": [
    "### 2.21 それでは、2.20で作成したモデルを用いて差分データに対して予測を行なってください。また、その結果を2.17と同様に折れ線グラフで描画してください。"
   ]
  },
  {
   "cell_type": "code",
   "execution_count": null,
   "metadata": {
    "id": "pO_Ny7uLC8Hc"
   },
   "outputs": [],
   "source": []
  },
  {
   "cell_type": "markdown",
   "metadata": {
    "id": "K_VLVOBGL6QX"
   },
   "source": [
    "このように、株価データのようにノイズが大きいデータに対して定常化したデータをモデリングすると、予測の段階でほとんどノイズが反映できないということがあります。そのため、ほとんど上下することがない予測になりました。\n",
    "\n"
   ]
  },
  {
   "cell_type": "markdown",
   "metadata": {
    "id": "SDYm5diGSUqt"
   },
   "source": [
    "時系列モデルがうまく適合するパターンを大問1, 適合しないパターンを大問2で扱いました。\n",
    "\n",
    "時系列モデルにうまく適合するデータは次のような特徴があります。\n",
    "- 定常性がある\n",
    "- 傾向から予測できるようなデータである\n",
    "- ノイズが激しくなく、周期性が強いデータ\n",
    "\n",
    "また、色々な変数が関係しているようなデータに対しては精度が出ないので機械学習のモデルを用いる方が良いと考えることができます。\n"
   ]
  },
  {
   "cell_type": "markdown",
   "metadata": {
    "id": "cmk3chcRSS79"
   },
   "source": [
    "ここまでで如何に株価データを予測することが難しいかということが学習できました。実際に株価のデータをある程度の精度で予測しようとするなら、モデルよりも特徴量をかなり工夫する必要があります。(Pythonには`TA-Lib`というテクニカル指標の計算ライブラリが存在します。Ta-Libは、株価の推移から将来の値動きを予想する「テクニカル指標」を200以上計算できるライブラリです。そのようなライブラリを活用して、精度を向上させることもできます。ぜひお試しください！)また、そのように予測モデルを組んだとしても、突発的な株価の高騰・暴落は予測することができません。"
   ]
  },
  {
   "cell_type": "markdown",
   "metadata": {
    "id": "KmM8MYEENDmE"
   },
   "source": [
    "これで時系列モデルについての特徴や、株価データの特徴について学習することができました。ぜひ身の回りの時系列データに対して用いてみてください！"
   ]
  }
 ],
 "metadata": {
  "colab": {
   "provenance": [
    {
     "file_id": "1D0yoE_K_9GICB8u63tNxOMT7tcngnuuk",
     "timestamp": 1672818356832
    }
   ]
  },
  "kernelspec": {
   "display_name": "Python 3 (ipykernel)",
   "language": "python",
   "name": "python3"
  },
  "language_info": {
   "codemirror_mode": {
    "name": "ipython",
    "version": 3
   },
   "file_extension": ".py",
   "mimetype": "text/x-python",
   "name": "python",
   "nbconvert_exporter": "python",
   "pygments_lexer": "ipython3",
   "version": "3.9.13"
  }
 },
 "nbformat": 4,
 "nbformat_minor": 4
}
