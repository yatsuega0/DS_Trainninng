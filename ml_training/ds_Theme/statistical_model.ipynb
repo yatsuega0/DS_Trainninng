{
 "cells": [
  {
   "cell_type": "markdown",
   "metadata": {
    "id": "YIoN9vIhJphh"
   },
   "source": [
    "# 統計の基礎知識・統計モデルの演習課題\n",
    "\n",
    "1. 推定・検定について学習します。(10問)\n",
    "2. 相関・回帰について学習します。(12問)\n",
    "3. 回帰分析について学習します。(13問)\n",
    "4. ロジスティック分析について学習します。(10問)"
   ]
  },
  {
   "cell_type": "markdown",
   "metadata": {
    "id": "AoZibpwcwMLF"
   },
   "source": [
    "## 1. 推定・検定について学習します。(10問)"
   ]
  },
  {
   "cell_type": "markdown",
   "metadata": {
    "id": "14ZF4Wqp4MUe"
   },
   "source": [
    "### 1.1 ある工場で生産された10個の製品の長さを測るとそれぞれ次のようになりました。次のコードを実行して、それらの長さ(cm)を確かめてください。"
   ]
  },
  {
   "cell_type": "code",
   "execution_count": 2,
   "metadata": {},
   "outputs": [],
   "source": [
    "import pandas as pd\n",
    "from scipy import stats\n",
    "import seaborn as sns\n",
    "import numpy as np\n",
    "import matplotlib.pyplot as plt\n",
    "%matplotlib inline"
   ]
  },
  {
   "cell_type": "code",
   "execution_count": 1,
   "metadata": {
    "colab": {
     "base_uri": "https://localhost:8080/"
    },
    "executionInfo": {
     "elapsed": 1103,
     "status": "ok",
     "timestamp": 1679924696947,
     "user": {
      "displayName": "大谷津椋",
      "userId": "03391922001198405443"
     },
     "user_tz": -540
    },
    "id": "j8F706V-4Lv7",
    "outputId": "6413c4f9-428d-44ed-fa3b-a52affbd2eed"
   },
   "outputs": [
    {
     "data": {
      "text/plain": [
       "array([101. , 103.1,  99. , 101.9, 100.4,  99.5, 101.5, 100.5,  98.8,\n",
       "       100.9])"
      ]
     },
     "execution_count": 1,
     "metadata": {},
     "output_type": "execute_result"
    }
   ],
   "source": [
    "product_length = np.array([101.0, 103.1, 99.0, 101.9, 100.4, 99.5, 101.5, 100.5, 98.8, 100.9])\n",
    "product_length"
   ]
  },
  {
   "cell_type": "markdown",
   "metadata": {
    "id": "vkkViGjGn_bQ"
   },
   "source": [
    "### 1.2 10個の製品の長さの平均値と、不偏標準偏差を算出してください。"
   ]
  },
  {
   "cell_type": "code",
   "execution_count": 2,
   "metadata": {
    "colab": {
     "base_uri": "https://localhost:8080/"
    },
    "executionInfo": {
     "elapsed": 5,
     "status": "ok",
     "timestamp": 1679924700351,
     "user": {
      "displayName": "大谷津椋",
      "userId": "03391922001198405443"
     },
     "user_tz": -540
    },
    "id": "kAIsOKP3v7kh",
    "outputId": "6862108f-60f9-490a-810a-94a3e3057484"
   },
   "outputs": [
    {
     "name": "stdout",
     "output_type": "stream",
     "text": [
      "平均: 100.66\n",
      "不偏分散の平方根: 1.3343329586143198\n"
     ]
    },
    {
     "data": {
      "text/plain": [
       "1.3343329586143198"
      ]
     },
     "execution_count": 2,
     "metadata": {},
     "output_type": "execute_result"
    }
   ],
   "source": [
    "print(f'平均: {np.mean(product_length)}')\n",
    "print(f'不偏分散の平方根: {np.std(product_length, ddof=1)}')\n",
    "np.sqrt(stats.tvar(product_length))"
   ]
  },
  {
   "cell_type": "markdown",
   "metadata": {
    "id": "JJ50uFtrpOBB"
   },
   "source": [
    "### 1.3 これらの製品の長さは正規分布に従うとします。この時、製品の長さの平均値の95%信頼区間を算出してください。"
   ]
  },
  {
   "cell_type": "code",
   "execution_count": 5,
   "metadata": {
    "colab": {
     "base_uri": "https://localhost:8080/"
    },
    "executionInfo": {
     "elapsed": 304,
     "status": "ok",
     "timestamp": 1679924750865,
     "user": {
      "displayName": "大谷津椋",
      "userId": "03391922001198405443"
     },
     "user_tz": -540
    },
    "id": "7jH8KvdEpiOW",
    "outputId": "babb48e7-1bbb-4342-a59f-ddf57ea1c83e"
   },
   "outputs": [
    {
     "name": "stdout",
     "output_type": "stream",
     "text": [
      "(99.8329870608106, 101.4870129391894)\n",
      "(99.70547570321511, 101.61452429678488)\n"
     ]
    }
   ],
   "source": [
    "n = len(product_length)\n",
    "product_mean = np.mean(product_length)\n",
    "product_var = stats.tvar(product_length)\n",
    "print(stats.norm.interval(0.95, loc=product_mean, scale=np.sqrt(product_var / n))) # 正規分布の方が区間推定が厳しくなる\n",
    "print(stats.t.interval(0.95, loc=product_mean, scale=np.sqrt(product_var/n), df=n-1)) # t分布"
   ]
  },
  {
   "cell_type": "markdown",
   "metadata": {
    "id": "xFfhjkmuqyfW"
   },
   "source": [
    "### 1.4 これらの製品の長さの平均値は100cmであると考えてもいいのでしょうか。これを検定するにあたって立てる帰無仮説・対立仮説を記述して表示してください。"
   ]
  },
  {
   "cell_type": "code",
   "execution_count": 6,
   "metadata": {
    "colab": {
     "base_uri": "https://localhost:8080/"
    },
    "executionInfo": {
     "elapsed": 1047,
     "status": "ok",
     "timestamp": 1679924765204,
     "user": {
      "displayName": "大谷津椋",
      "userId": "03391922001198405443"
     },
     "user_tz": -540
    },
    "id": "gUDucWKzsWRb",
    "outputId": "b2d95580-33bb-4c6b-bd39-2b2b2e1302c8"
   },
   "outputs": [
    {
     "name": "stdout",
     "output_type": "stream",
     "text": [
      "帰無仮説: 平均値は100cmである(μ=100)\n",
      "対立仮説: 平均値は100cmではない(μ≠100)\n"
     ]
    }
   ],
   "source": [
    "print('帰無仮説: 平均値は100cmである(μ=100)')\n",
    "print('対立仮説: 平均値は100cmではない(μ≠100)')"
   ]
  },
  {
   "cell_type": "markdown",
   "metadata": {
    "id": "kvWvxUXesy1L"
   },
   "source": [
    "### 1.5 1.4で立てた帰無仮説をもとに適切な検定方法を用いて有意水準5%で検定してください。また、検定結果のp値を表示してください。"
   ]
  },
  {
   "cell_type": "code",
   "execution_count": 10,
   "metadata": {
    "colab": {
     "base_uri": "https://localhost:8080/"
    },
    "executionInfo": {
     "elapsed": 4,
     "status": "ok",
     "timestamp": 1679924889095,
     "user": {
      "displayName": "大谷津椋",
      "userId": "03391922001198405443"
     },
     "user_tz": -540
    },
    "id": "OUZiz89Gq8Oh",
    "outputId": "cda565e7-6c8e-43de-de43-6e913ce53927"
   },
   "outputs": [
    {
     "name": "stdout",
     "output_type": "stream",
     "text": [
      "t値: 1.564154765298264,  p値: 0.15221974534157642\n"
     ]
    }
   ],
   "source": [
    "t, p = stats.ttest_1samp(product_length, popmean=100, alternative='two-sided')\n",
    "print(f\"t値: {t},  p値: {p}\")"
   ]
  },
  {
   "cell_type": "markdown",
   "metadata": {
    "id": "n_sKyHvctJdl"
   },
   "source": [
    "### 1.6 1.5で得られた結果からわかることを記述して表示してください。"
   ]
  },
  {
   "cell_type": "code",
   "execution_count": 11,
   "metadata": {
    "colab": {
     "base_uri": "https://localhost:8080/"
    },
    "executionInfo": {
     "elapsed": 426,
     "status": "ok",
     "timestamp": 1679924911943,
     "user": {
      "displayName": "大谷津椋",
      "userId": "03391922001198405443"
     },
     "user_tz": -540
    },
    "id": "3o4TlsPntbxp",
    "outputId": "0df24363-ef34-482e-c58d-0dc7e81aa1d5"
   },
   "outputs": [
    {
     "name": "stdout",
     "output_type": "stream",
     "text": [
      "p値:  0.15221974534157642\n",
      "False\n",
      "帰無仮説を棄却できず平均値は100ではないと否定できない\n"
     ]
    }
   ],
   "source": [
    "print('p値: ', p)\n",
    "a = 0.05\n",
    "# p値が有意水準5％を下回ると帰無仮説を棄却\n",
    "print(a > p)\n",
    "print('帰無仮説を棄却できず平均値は100ではないと否定できない')"
   ]
  },
  {
   "cell_type": "markdown",
   "metadata": {
    "id": "qWC4BtuNtsFv"
   },
   "source": [
    "### 1.7 ある男女10人ずつにある学力検査をさせると、結果は次のようになりました。次のコードを実行して、結果を確認してください。"
   ]
  },
  {
   "cell_type": "code",
   "execution_count": 12,
   "metadata": {
    "colab": {
     "base_uri": "https://localhost:8080/",
     "height": 381
    },
    "executionInfo": {
     "elapsed": 1938,
     "status": "ok",
     "timestamp": 1679924930186,
     "user": {
      "displayName": "大谷津椋",
      "userId": "03391922001198405443"
     },
     "user_tz": -540
    },
    "id": "xjDTbs6ovWJe",
    "outputId": "6879f5e4-e6ae-4dcc-8727-0cddfa209e1b"
   },
   "outputs": [
    {
     "name": "stdout",
     "output_type": "stream",
     "text": [
      "/bin/bash: pipinstall: command not found\n"
     ]
    },
    {
     "data": {
      "text/html": [
       "\n",
       "  <div id=\"df-1b48bb57-9e77-478f-92ee-4c4dcba17589\">\n",
       "    <div class=\"colab-df-container\">\n",
       "      <div>\n",
       "<style scoped>\n",
       "    .dataframe tbody tr th:only-of-type {\n",
       "        vertical-align: middle;\n",
       "    }\n",
       "\n",
       "    .dataframe tbody tr th {\n",
       "        vertical-align: top;\n",
       "    }\n",
       "\n",
       "    .dataframe thead th {\n",
       "        text-align: right;\n",
       "    }\n",
       "</style>\n",
       "<table border=\"1\" class=\"dataframe\">\n",
       "  <thead>\n",
       "    <tr style=\"text-align: right;\">\n",
       "      <th></th>\n",
       "      <th>男</th>\n",
       "      <th>女</th>\n",
       "    </tr>\n",
       "  </thead>\n",
       "  <tbody>\n",
       "    <tr>\n",
       "      <th>0</th>\n",
       "      <td>20.4</td>\n",
       "      <td>19.2</td>\n",
       "    </tr>\n",
       "    <tr>\n",
       "      <th>1</th>\n",
       "      <td>23.3</td>\n",
       "      <td>20.9</td>\n",
       "    </tr>\n",
       "    <tr>\n",
       "      <th>2</th>\n",
       "      <td>21.5</td>\n",
       "      <td>21.0</td>\n",
       "    </tr>\n",
       "    <tr>\n",
       "      <th>3</th>\n",
       "      <td>22.4</td>\n",
       "      <td>19.0</td>\n",
       "    </tr>\n",
       "    <tr>\n",
       "      <th>4</th>\n",
       "      <td>23.9</td>\n",
       "      <td>22.0</td>\n",
       "    </tr>\n",
       "    <tr>\n",
       "      <th>5</th>\n",
       "      <td>22.2</td>\n",
       "      <td>18.8</td>\n",
       "    </tr>\n",
       "    <tr>\n",
       "      <th>6</th>\n",
       "      <td>20.0</td>\n",
       "      <td>20.2</td>\n",
       "    </tr>\n",
       "    <tr>\n",
       "      <th>7</th>\n",
       "      <td>20.7</td>\n",
       "      <td>19.5</td>\n",
       "    </tr>\n",
       "    <tr>\n",
       "      <th>8</th>\n",
       "      <td>22.9</td>\n",
       "      <td>20.0</td>\n",
       "    </tr>\n",
       "    <tr>\n",
       "      <th>9</th>\n",
       "      <td>21.5</td>\n",
       "      <td>19.4</td>\n",
       "    </tr>\n",
       "  </tbody>\n",
       "</table>\n",
       "</div>\n",
       "      <button class=\"colab-df-convert\" onclick=\"convertToInteractive('df-1b48bb57-9e77-478f-92ee-4c4dcba17589')\"\n",
       "              title=\"Convert this dataframe to an interactive table.\"\n",
       "              style=\"display:none;\">\n",
       "        \n",
       "  <svg xmlns=\"http://www.w3.org/2000/svg\" height=\"24px\"viewBox=\"0 0 24 24\"\n",
       "       width=\"24px\">\n",
       "    <path d=\"M0 0h24v24H0V0z\" fill=\"none\"/>\n",
       "    <path d=\"M18.56 5.44l.94 2.06.94-2.06 2.06-.94-2.06-.94-.94-2.06-.94 2.06-2.06.94zm-11 1L8.5 8.5l.94-2.06 2.06-.94-2.06-.94L8.5 2.5l-.94 2.06-2.06.94zm10 10l.94 2.06.94-2.06 2.06-.94-2.06-.94-.94-2.06-.94 2.06-2.06.94z\"/><path d=\"M17.41 7.96l-1.37-1.37c-.4-.4-.92-.59-1.43-.59-.52 0-1.04.2-1.43.59L10.3 9.45l-7.72 7.72c-.78.78-.78 2.05 0 2.83L4 21.41c.39.39.9.59 1.41.59.51 0 1.02-.2 1.41-.59l7.78-7.78 2.81-2.81c.8-.78.8-2.07 0-2.86zM5.41 20L4 18.59l7.72-7.72 1.47 1.35L5.41 20z\"/>\n",
       "  </svg>\n",
       "      </button>\n",
       "      \n",
       "  <style>\n",
       "    .colab-df-container {\n",
       "      display:flex;\n",
       "      flex-wrap:wrap;\n",
       "      gap: 12px;\n",
       "    }\n",
       "\n",
       "    .colab-df-convert {\n",
       "      background-color: #E8F0FE;\n",
       "      border: none;\n",
       "      border-radius: 50%;\n",
       "      cursor: pointer;\n",
       "      display: none;\n",
       "      fill: #1967D2;\n",
       "      height: 32px;\n",
       "      padding: 0 0 0 0;\n",
       "      width: 32px;\n",
       "    }\n",
       "\n",
       "    .colab-df-convert:hover {\n",
       "      background-color: #E2EBFA;\n",
       "      box-shadow: 0px 1px 2px rgba(60, 64, 67, 0.3), 0px 1px 3px 1px rgba(60, 64, 67, 0.15);\n",
       "      fill: #174EA6;\n",
       "    }\n",
       "\n",
       "    [theme=dark] .colab-df-convert {\n",
       "      background-color: #3B4455;\n",
       "      fill: #D2E3FC;\n",
       "    }\n",
       "\n",
       "    [theme=dark] .colab-df-convert:hover {\n",
       "      background-color: #434B5C;\n",
       "      box-shadow: 0px 1px 3px 1px rgba(0, 0, 0, 0.15);\n",
       "      filter: drop-shadow(0px 1px 2px rgba(0, 0, 0, 0.3));\n",
       "      fill: #FFFFFF;\n",
       "    }\n",
       "  </style>\n",
       "\n",
       "      <script>\n",
       "        const buttonEl =\n",
       "          document.querySelector('#df-1b48bb57-9e77-478f-92ee-4c4dcba17589 button.colab-df-convert');\n",
       "        buttonEl.style.display =\n",
       "          google.colab.kernel.accessAllowed ? 'block' : 'none';\n",
       "\n",
       "        async function convertToInteractive(key) {\n",
       "          const element = document.querySelector('#df-1b48bb57-9e77-478f-92ee-4c4dcba17589');\n",
       "          const dataTable =\n",
       "            await google.colab.kernel.invokeFunction('convertToInteractive',\n",
       "                                                     [key], {});\n",
       "          if (!dataTable) return;\n",
       "\n",
       "          const docLinkHtml = 'Like what you see? Visit the ' +\n",
       "            '<a target=\"_blank\" href=https://colab.research.google.com/notebooks/data_table.ipynb>data table notebook</a>'\n",
       "            + ' to learn more about interactive tables.';\n",
       "          element.innerHTML = '';\n",
       "          dataTable['output_type'] = 'display_data';\n",
       "          await google.colab.output.renderOutput(dataTable, element);\n",
       "          const docLink = document.createElement('div');\n",
       "          docLink.innerHTML = docLinkHtml;\n",
       "          element.appendChild(docLink);\n",
       "        }\n",
       "      </script>\n",
       "    </div>\n",
       "  </div>\n",
       "  "
      ],
      "text/plain": [
       "      男     女\n",
       "0  20.4  19.2\n",
       "1  23.3  20.9\n",
       "2  21.5  21.0\n",
       "3  22.4  19.0\n",
       "4  23.9  22.0\n",
       "5  22.2  18.8\n",
       "6  20.0  20.2\n",
       "7  20.7  19.5\n",
       "8  22.9  20.0\n",
       "9  21.5  19.4"
      ]
     },
     "execution_count": 12,
     "metadata": {},
     "output_type": "execute_result"
    }
   ],
   "source": [
    "df = pd.DataFrame({'男': [20.4, 23.3, 21.5, 22.4, 23.9, 22.2, 20.0, 20.7, 22.9, 21.5],\n",
    "                    '女': [19.2, 20.9, 21.0, 19.0, 22.0, 18.8, 20.2, 19.5, 20.0, 19.4]})\n",
    "\n",
    "df"
   ]
  },
  {
   "cell_type": "markdown",
   "metadata": {
    "id": "X4Isyfc1wTvP"
   },
   "source": [
    "### 1.8 この結果から、学力検査の結果に男女差があるかを検定します。どのような帰無仮説と対立仮説を立てるか、記述して表示してください。"
   ]
  },
  {
   "cell_type": "code",
   "execution_count": 13,
   "metadata": {
    "colab": {
     "base_uri": "https://localhost:8080/"
    },
    "executionInfo": {
     "elapsed": 286,
     "status": "ok",
     "timestamp": 1679924936808,
     "user": {
      "displayName": "大谷津椋",
      "userId": "03391922001198405443"
     },
     "user_tz": -540
    },
    "id": "fif9PjbEwi3a",
    "outputId": "80f21c78-a5ad-4171-fefb-b26a4dec31b1"
   },
   "outputs": [
    {
     "name": "stdout",
     "output_type": "stream",
     "text": [
      "帰無仮説: 男女の学力に差がない（男女の平均値に差はない）\n",
      "対立仮説: 男女の学力に差がある(男女の平均値に差はある)\n"
     ]
    }
   ],
   "source": [
    "print('帰無仮説: 男女の学力に差がない（男女の平均値に差はない）')\n",
    "print('対立仮説: 男女の学力に差がある(男女の平均値に差はある)')"
   ]
  },
  {
   "cell_type": "markdown",
   "metadata": {
    "id": "79-NdwnBw-Ha"
   },
   "source": [
    "### 1.9 学力検査の結果は正規分布に従うとします。この時、1.8で立てた仮説をもとに、等分散性を仮定せずに有意水準5%で検定を行なってください。また、検定結果のp値を表示してください。"
   ]
  },
  {
   "cell_type": "code",
   "execution_count": 14,
   "metadata": {
    "colab": {
     "base_uri": "https://localhost:8080/"
    },
    "executionInfo": {
     "elapsed": 1259,
     "status": "ok",
     "timestamp": 1679924952436,
     "user": {
      "displayName": "大谷津椋",
      "userId": "03391922001198405443"
     },
     "user_tz": -540
    },
    "id": "4Ek8C76kxcW3",
    "outputId": "17600877-e374-4213-8212-e7e82db6deaa"
   },
   "outputs": [
    {
     "name": "stdout",
     "output_type": "stream",
     "text": [
      "21.88\n",
      "20.0\n",
      "p値:  0.0021488395200926777\n"
     ]
    }
   ],
   "source": [
    "# 正規分布で等分散性を担保しない >>> ウェルチのt検定\n",
    "male_ability = df['男']\n",
    "female_ability = df['女']\n",
    "print(np.mean(df['男']))\n",
    "print(np.mean(df['女']))\n",
    "#　np.mean(df['男'])とnp.mean(df['女'])の差は統計的に優位であるか\n",
    "t, p = stats.ttest_ind(male_ability, female_ability, equal_var=False, alternative='two-sided')\n",
    "print('p値: ', p)"
   ]
  },
  {
   "cell_type": "markdown",
   "metadata": {
    "id": "4QTPB5C3yWia"
   },
   "source": [
    "### 1.10 1.9で得られた結果から何がわかるかを記述して表示してください。"
   ]
  },
  {
   "cell_type": "code",
   "execution_count": 15,
   "metadata": {
    "colab": {
     "base_uri": "https://localhost:8080/"
    },
    "executionInfo": {
     "elapsed": 242,
     "status": "ok",
     "timestamp": 1679924970983,
     "user": {
      "displayName": "大谷津椋",
      "userId": "03391922001198405443"
     },
     "user_tz": -540
    },
    "id": "8NERkTzOycXb",
    "outputId": "0b0eccbd-6302-46c3-e328-ab6bbb80c20c"
   },
   "outputs": [
    {
     "name": "stdout",
     "output_type": "stream",
     "text": [
      "True\n",
      "帰無仮説を棄却する(男女の学力の結果に差があるといえる)\n"
     ]
    }
   ],
   "source": [
    "# 有意水準5％ > p値　: 帰無仮説を棄却\n",
    "a = 0.05\n",
    "print(a > p)\n",
    "print('帰無仮説を棄却する(男女の学力の結果に差があるといえる)')"
   ]
  },
  {
   "cell_type": "markdown",
   "metadata": {
    "id": "1pN1-bYKxCI0"
   },
   "source": [
    "## 2. 相関・回帰について学習します。(12問)"
   ]
  },
  {
   "cell_type": "markdown",
   "metadata": {
    "id": "OPtt4tRSMztM"
   },
   "source": [
    "### 2.1 次のデータは、2009年・2010年のビールの売り上げ箱数と月平均気温に関するデータです。次のコードを実行して、結果を確認してください。\n",
    "> 出典: アサヒ: 「月次販売データ」https://www.asahibeer.co.jp/ir/monthlydata/index.html\n",
    "\n",
    "> ・気象庁: 「2010年の月毎の気候」(http://www.data.jma.go.jp/obd/stats/etrn/view/monthly_s1.php?prec_no=44&block_no=47662&year=2010&month=&day=&view=)\n",
    "\n",
    "> ・気象庁: 「2009年の月毎の気候」(http://www.data.jma.go.jp/obd/stats/etrn/view/monthly_s1.php?prec_no=44&block_no=47662&year=2009&month=&day=&view=)"
   ]
  },
  {
   "cell_type": "code",
   "execution_count": 16,
   "metadata": {
    "colab": {
     "base_uri": "https://localhost:8080/",
     "height": 802
    },
    "executionInfo": {
     "elapsed": 376,
     "status": "ok",
     "timestamp": 1679924987994,
     "user": {
      "displayName": "大谷津椋",
      "userId": "03391922001198405443"
     },
     "user_tz": -540
    },
    "id": "B6uIJeEhxE12",
    "outputId": "633d575a-bc45-428c-aa5d-2006fd8203a7"
   },
   "outputs": [
    {
     "data": {
      "text/html": [
       "\n",
       "  <div id=\"df-67e2768b-6c2b-4be0-bc3f-dff36bac0ab3\">\n",
       "    <div class=\"colab-df-container\">\n",
       "      <div>\n",
       "<style scoped>\n",
       "    .dataframe tbody tr th:only-of-type {\n",
       "        vertical-align: middle;\n",
       "    }\n",
       "\n",
       "    .dataframe tbody tr th {\n",
       "        vertical-align: top;\n",
       "    }\n",
       "\n",
       "    .dataframe thead th {\n",
       "        text-align: right;\n",
       "    }\n",
       "</style>\n",
       "<table border=\"1\" class=\"dataframe\">\n",
       "  <thead>\n",
       "    <tr style=\"text-align: right;\">\n",
       "      <th></th>\n",
       "      <th>平均気温</th>\n",
       "      <th>売上箱数</th>\n",
       "    </tr>\n",
       "  </thead>\n",
       "  <tbody>\n",
       "    <tr>\n",
       "      <th>2009-01</th>\n",
       "      <td>6.8</td>\n",
       "      <td>5107</td>\n",
       "    </tr>\n",
       "    <tr>\n",
       "      <th>2009-02</th>\n",
       "      <td>7.8</td>\n",
       "      <td>7267</td>\n",
       "    </tr>\n",
       "    <tr>\n",
       "      <th>2009-03</th>\n",
       "      <td>10.0</td>\n",
       "      <td>8706</td>\n",
       "    </tr>\n",
       "    <tr>\n",
       "      <th>2009-04</th>\n",
       "      <td>15.7</td>\n",
       "      <td>10170</td>\n",
       "    </tr>\n",
       "    <tr>\n",
       "      <th>2009-05</th>\n",
       "      <td>20.1</td>\n",
       "      <td>9760</td>\n",
       "    </tr>\n",
       "    <tr>\n",
       "      <th>2009-06</th>\n",
       "      <td>22.5</td>\n",
       "      <td>12001</td>\n",
       "    </tr>\n",
       "    <tr>\n",
       "      <th>2009-07</th>\n",
       "      <td>26.3</td>\n",
       "      <td>12980</td>\n",
       "    </tr>\n",
       "    <tr>\n",
       "      <th>2009-08</th>\n",
       "      <td>26.6</td>\n",
       "      <td>11939</td>\n",
       "    </tr>\n",
       "    <tr>\n",
       "      <th>2009-09</th>\n",
       "      <td>23.0</td>\n",
       "      <td>9175</td>\n",
       "    </tr>\n",
       "    <tr>\n",
       "      <th>2009-10</th>\n",
       "      <td>19.0</td>\n",
       "      <td>9177</td>\n",
       "    </tr>\n",
       "    <tr>\n",
       "      <th>2009-11</th>\n",
       "      <td>13.5</td>\n",
       "      <td>9066</td>\n",
       "    </tr>\n",
       "    <tr>\n",
       "      <th>2009-12</th>\n",
       "      <td>9.0</td>\n",
       "      <td>15626</td>\n",
       "    </tr>\n",
       "    <tr>\n",
       "      <th>2010-01</th>\n",
       "      <td>7.0</td>\n",
       "      <td>4693</td>\n",
       "    </tr>\n",
       "    <tr>\n",
       "      <th>2010-02</th>\n",
       "      <td>6.5</td>\n",
       "      <td>6426</td>\n",
       "    </tr>\n",
       "    <tr>\n",
       "      <th>2010-03</th>\n",
       "      <td>9.1</td>\n",
       "      <td>8661</td>\n",
       "    </tr>\n",
       "    <tr>\n",
       "      <th>2010-04</th>\n",
       "      <td>12.4</td>\n",
       "      <td>9769</td>\n",
       "    </tr>\n",
       "    <tr>\n",
       "      <th>2010-05</th>\n",
       "      <td>19.0</td>\n",
       "      <td>8655</td>\n",
       "    </tr>\n",
       "    <tr>\n",
       "      <th>2010-06</th>\n",
       "      <td>23.6</td>\n",
       "      <td>12370</td>\n",
       "    </tr>\n",
       "    <tr>\n",
       "      <th>2010-07</th>\n",
       "      <td>28.0</td>\n",
       "      <td>12678</td>\n",
       "    </tr>\n",
       "    <tr>\n",
       "      <th>2010-08</th>\n",
       "      <td>29.6</td>\n",
       "      <td>11740</td>\n",
       "    </tr>\n",
       "    <tr>\n",
       "      <th>2010-09</th>\n",
       "      <td>25.1</td>\n",
       "      <td>9160</td>\n",
       "    </tr>\n",
       "    <tr>\n",
       "      <th>2010-10</th>\n",
       "      <td>18.9</td>\n",
       "      <td>8370</td>\n",
       "    </tr>\n",
       "    <tr>\n",
       "      <th>2010-11</th>\n",
       "      <td>13.5</td>\n",
       "      <td>9494</td>\n",
       "    </tr>\n",
       "    <tr>\n",
       "      <th>2010-12</th>\n",
       "      <td>9.9</td>\n",
       "      <td>14638</td>\n",
       "    </tr>\n",
       "  </tbody>\n",
       "</table>\n",
       "</div>\n",
       "      <button class=\"colab-df-convert\" onclick=\"convertToInteractive('df-67e2768b-6c2b-4be0-bc3f-dff36bac0ab3')\"\n",
       "              title=\"Convert this dataframe to an interactive table.\"\n",
       "              style=\"display:none;\">\n",
       "        \n",
       "  <svg xmlns=\"http://www.w3.org/2000/svg\" height=\"24px\"viewBox=\"0 0 24 24\"\n",
       "       width=\"24px\">\n",
       "    <path d=\"M0 0h24v24H0V0z\" fill=\"none\"/>\n",
       "    <path d=\"M18.56 5.44l.94 2.06.94-2.06 2.06-.94-2.06-.94-.94-2.06-.94 2.06-2.06.94zm-11 1L8.5 8.5l.94-2.06 2.06-.94-2.06-.94L8.5 2.5l-.94 2.06-2.06.94zm10 10l.94 2.06.94-2.06 2.06-.94-2.06-.94-.94-2.06-.94 2.06-2.06.94z\"/><path d=\"M17.41 7.96l-1.37-1.37c-.4-.4-.92-.59-1.43-.59-.52 0-1.04.2-1.43.59L10.3 9.45l-7.72 7.72c-.78.78-.78 2.05 0 2.83L4 21.41c.39.39.9.59 1.41.59.51 0 1.02-.2 1.41-.59l7.78-7.78 2.81-2.81c.8-.78.8-2.07 0-2.86zM5.41 20L4 18.59l7.72-7.72 1.47 1.35L5.41 20z\"/>\n",
       "  </svg>\n",
       "      </button>\n",
       "      \n",
       "  <style>\n",
       "    .colab-df-container {\n",
       "      display:flex;\n",
       "      flex-wrap:wrap;\n",
       "      gap: 12px;\n",
       "    }\n",
       "\n",
       "    .colab-df-convert {\n",
       "      background-color: #E8F0FE;\n",
       "      border: none;\n",
       "      border-radius: 50%;\n",
       "      cursor: pointer;\n",
       "      display: none;\n",
       "      fill: #1967D2;\n",
       "      height: 32px;\n",
       "      padding: 0 0 0 0;\n",
       "      width: 32px;\n",
       "    }\n",
       "\n",
       "    .colab-df-convert:hover {\n",
       "      background-color: #E2EBFA;\n",
       "      box-shadow: 0px 1px 2px rgba(60, 64, 67, 0.3), 0px 1px 3px 1px rgba(60, 64, 67, 0.15);\n",
       "      fill: #174EA6;\n",
       "    }\n",
       "\n",
       "    [theme=dark] .colab-df-convert {\n",
       "      background-color: #3B4455;\n",
       "      fill: #D2E3FC;\n",
       "    }\n",
       "\n",
       "    [theme=dark] .colab-df-convert:hover {\n",
       "      background-color: #434B5C;\n",
       "      box-shadow: 0px 1px 3px 1px rgba(0, 0, 0, 0.15);\n",
       "      filter: drop-shadow(0px 1px 2px rgba(0, 0, 0, 0.3));\n",
       "      fill: #FFFFFF;\n",
       "    }\n",
       "  </style>\n",
       "\n",
       "      <script>\n",
       "        const buttonEl =\n",
       "          document.querySelector('#df-67e2768b-6c2b-4be0-bc3f-dff36bac0ab3 button.colab-df-convert');\n",
       "        buttonEl.style.display =\n",
       "          google.colab.kernel.accessAllowed ? 'block' : 'none';\n",
       "\n",
       "        async function convertToInteractive(key) {\n",
       "          const element = document.querySelector('#df-67e2768b-6c2b-4be0-bc3f-dff36bac0ab3');\n",
       "          const dataTable =\n",
       "            await google.colab.kernel.invokeFunction('convertToInteractive',\n",
       "                                                     [key], {});\n",
       "          if (!dataTable) return;\n",
       "\n",
       "          const docLinkHtml = 'Like what you see? Visit the ' +\n",
       "            '<a target=\"_blank\" href=https://colab.research.google.com/notebooks/data_table.ipynb>data table notebook</a>'\n",
       "            + ' to learn more about interactive tables.';\n",
       "          element.innerHTML = '';\n",
       "          dataTable['output_type'] = 'display_data';\n",
       "          await google.colab.output.renderOutput(dataTable, element);\n",
       "          const docLink = document.createElement('div');\n",
       "          docLink.innerHTML = docLinkHtml;\n",
       "          element.appendChild(docLink);\n",
       "        }\n",
       "      </script>\n",
       "    </div>\n",
       "  </div>\n",
       "  "
      ],
      "text/plain": [
       "         平均気温   売上箱数\n",
       "2009-01   6.8   5107\n",
       "2009-02   7.8   7267\n",
       "2009-03  10.0   8706\n",
       "2009-04  15.7  10170\n",
       "2009-05  20.1   9760\n",
       "2009-06  22.5  12001\n",
       "2009-07  26.3  12980\n",
       "2009-08  26.6  11939\n",
       "2009-09  23.0   9175\n",
       "2009-10  19.0   9177\n",
       "2009-11  13.5   9066\n",
       "2009-12   9.0  15626\n",
       "2010-01   7.0   4693\n",
       "2010-02   6.5   6426\n",
       "2010-03   9.1   8661\n",
       "2010-04  12.4   9769\n",
       "2010-05  19.0   8655\n",
       "2010-06  23.6  12370\n",
       "2010-07  28.0  12678\n",
       "2010-08  29.6  11740\n",
       "2010-09  25.1   9160\n",
       "2010-10  18.9   8370\n",
       "2010-11  13.5   9494\n",
       "2010-12   9.9  14638"
      ]
     },
     "execution_count": 16,
     "metadata": {},
     "output_type": "execute_result"
    }
   ],
   "source": [
    "beer_sale = [5107, 7267, 8706, 10170, 9760, 12001, 12980, 11939, 9175, 9177, 9066, 15626, 4693, 6426, 8661, 9769, 8655, 12370, 12678, 11740, 9160, 8370, 9494,14638]\n",
    "temperature = [6.8, 7.8, 10.0, 15.7, 20.1, 22.5, 26.3, 26.6, 23.0, 19.0, 13.5, 9.0, 7.0, 6.5, 9.1, 12.4, 19.0, 23.6, 28.0, 29.6, 25.1, 18.9, 13.5, 9.9]\n",
    "\n",
    "df_beer = pd.DataFrame({'平均気温': temperature, '売上箱数': beer_sale},\n",
    "                          index=[str(date)[:7] for date in np.arange('2009-01', '2011-01', dtype='datetime64[M]')])\n",
    "\n",
    "df_beer"
   ]
  },
  {
   "cell_type": "markdown",
   "metadata": {
    "id": "spj8c-IHPKSn"
   },
   "source": [
    "### 2.2 気温によって売り上げ箱数が変化するのでしょうか。横軸に平均気温、縦軸に売り上げ箱数をとった散布図を描画することで関係を可視化してください。"
   ]
  },
  {
   "cell_type": "code",
   "execution_count": 17,
   "metadata": {
    "colab": {
     "base_uri": "https://localhost:8080/"
    },
    "executionInfo": {
     "elapsed": 6054,
     "status": "ok",
     "timestamp": 1679925003893,
     "user": {
      "displayName": "大谷津椋",
      "userId": "03391922001198405443"
     },
     "user_tz": -540
    },
    "id": "BGnCMsEfQTth",
    "outputId": "542876f1-8a9e-4c29-e214-a6f1a4493da5"
   },
   "outputs": [
    {
     "name": "stdout",
     "output_type": "stream",
     "text": [
      "Looking in indexes: https://pypi.org/simple, https://us-python.pkg.dev/colab-wheels/public/simple/\n",
      "Collecting japanize-matplotlib\n",
      "  Downloading japanize-matplotlib-1.1.3.tar.gz (4.1 MB)\n",
      "\u001b[2K     \u001b[90m━━━━━━━━━━━━━━━━━━━━━━━━━━━━━━━━━━━━━━━━\u001b[0m \u001b[32m4.1/4.1 MB\u001b[0m \u001b[31m51.6 MB/s\u001b[0m eta \u001b[36m0:00:00\u001b[0m\n",
      "\u001b[?25h  Preparing metadata (setup.py) ... \u001b[?25l\u001b[?25hdone\n",
      "Requirement already satisfied: matplotlib in /usr/local/lib/python3.9/dist-packages (from japanize-matplotlib) (3.7.1)\n",
      "Requirement already satisfied: cycler>=0.10 in /usr/local/lib/python3.9/dist-packages (from matplotlib->japanize-matplotlib) (0.11.0)\n",
      "Requirement already satisfied: numpy>=1.20 in /usr/local/lib/python3.9/dist-packages (from matplotlib->japanize-matplotlib) (1.22.4)\n",
      "Requirement already satisfied: fonttools>=4.22.0 in /usr/local/lib/python3.9/dist-packages (from matplotlib->japanize-matplotlib) (4.39.2)\n",
      "Requirement already satisfied: packaging>=20.0 in /usr/local/lib/python3.9/dist-packages (from matplotlib->japanize-matplotlib) (23.0)\n",
      "Requirement already satisfied: python-dateutil>=2.7 in /usr/local/lib/python3.9/dist-packages (from matplotlib->japanize-matplotlib) (2.8.2)\n",
      "Requirement already satisfied: contourpy>=1.0.1 in /usr/local/lib/python3.9/dist-packages (from matplotlib->japanize-matplotlib) (1.0.7)\n",
      "Requirement already satisfied: pillow>=6.2.0 in /usr/local/lib/python3.9/dist-packages (from matplotlib->japanize-matplotlib) (8.4.0)\n",
      "Requirement already satisfied: importlib-resources>=3.2.0 in /usr/local/lib/python3.9/dist-packages (from matplotlib->japanize-matplotlib) (5.12.0)\n",
      "Requirement already satisfied: kiwisolver>=1.0.1 in /usr/local/lib/python3.9/dist-packages (from matplotlib->japanize-matplotlib) (1.4.4)\n",
      "Requirement already satisfied: pyparsing>=2.3.1 in /usr/local/lib/python3.9/dist-packages (from matplotlib->japanize-matplotlib) (3.0.9)\n",
      "Requirement already satisfied: zipp>=3.1.0 in /usr/local/lib/python3.9/dist-packages (from importlib-resources>=3.2.0->matplotlib->japanize-matplotlib) (3.15.0)\n",
      "Requirement already satisfied: six>=1.5 in /usr/local/lib/python3.9/dist-packages (from python-dateutil>=2.7->matplotlib->japanize-matplotlib) (1.16.0)\n",
      "Building wheels for collected packages: japanize-matplotlib\n",
      "  Building wheel for japanize-matplotlib (setup.py) ... \u001b[?25l\u001b[?25hdone\n",
      "  Created wheel for japanize-matplotlib: filename=japanize_matplotlib-1.1.3-py3-none-any.whl size=4120274 sha256=4b57d0b686728873df3a8dffd88bb2c3d74a2cf6ba0a4fbe5791d1902b183101\n",
      "  Stored in directory: /root/.cache/pip/wheels/91/8f/c2/83055ad0c9591b0a094730aa7cb2cc12fedacbcd2241baf534\n",
      "Successfully built japanize-matplotlib\n",
      "Installing collected packages: japanize-matplotlib\n",
      "Successfully installed japanize-matplotlib-1.1.3\n"
     ]
    }
   ],
   "source": [
    "!pip install japanize-matplotlib\n",
    "import matplotlib.pyplot as plt\n",
    "import seaborn as sns\n",
    "import japanize_matplotlib\n",
    "from scipy import stats\n",
    "%matplotlib inline"
   ]
  },
  {
   "cell_type": "code",
   "execution_count": 18,
   "metadata": {
    "colab": {
     "base_uri": "https://localhost:8080/",
     "height": 293
    },
    "executionInfo": {
     "elapsed": 1628,
     "status": "ok",
     "timestamp": 1679925043545,
     "user": {
      "displayName": "大谷津椋",
      "userId": "03391922001198405443"
     },
     "user_tz": -540
    },
    "id": "IpNKZ-ewPbzT",
    "outputId": "16bd279c-16a0-4db1-ce22-3e0c98d98116"
   },
   "outputs": [
    {
     "data": {
      "image/png": "[encoded data removed]",
      "text/plain": [
       "<Figure size 432x288 with 1 Axes>"
      ]
     },
     "metadata": {
      "needs_background": "light"
     },
     "output_type": "display_data"
    }
   ],
   "source": [
    "plt.scatter('平均気温', '売上箱数', data=df_beer)\n",
    "plt.xlabel('平均気温')\n",
    "plt.ylabel('売上箱数')\n",
    "plt.title('平均気温とビールの売上箱数の関係')\n",
    "plt.show()"
   ]
  },
  {
   "cell_type": "markdown",
   "metadata": {
    "id": "3Tch7xDCSLL8"
   },
   "source": [
    "### 2.3 次は変数間の相関関係を定量的に判定します。変数間の相関係数を算出して表示してください。"
   ]
  },
  {
   "cell_type": "code",
   "execution_count": 19,
   "metadata": {
    "colab": {
     "base_uri": "https://localhost:8080/"
    },
    "executionInfo": {
     "elapsed": 315,
     "status": "ok",
     "timestamp": 1679925053860,
     "user": {
      "displayName": "大谷津椋",
      "userId": "03391922001198405443"
     },
     "user_tz": -540
    },
    "id": "NhaABKxPSaP6",
    "outputId": "a7eea23d-9000-431e-f2d2-7bd72457d033"
   },
   "outputs": [
    {
     "name": "stdout",
     "output_type": "stream",
     "text": [
      "0.4587063549301076\n"
     ]
    }
   ],
   "source": [
    "correlation, p = stats.pearsonr(df_beer['平均気温'], df_beer['売上箱数'])\n",
    "print(correlation)"
   ]
  },
  {
   "cell_type": "markdown",
   "metadata": {
    "id": "lYh-re8k9hMd"
   },
   "source": [
    "相関係数で考えると、平均気温とビールの売上にそれほど相関があるとは言えません。"
   ]
  },
  {
   "cell_type": "markdown",
   "metadata": {
    "id": "_BdpCXmKSvZH"
   },
   "source": [
    "### 2.4 次は、平均気温を用いてビールの売上箱数を予測することを考えます。平均気温を説明変数、売上箱数を目的変数として、線形回帰を行なってください。また、切片と説明変数の係数を表示してください。"
   ]
  },
  {
   "cell_type": "code",
   "execution_count": 20,
   "metadata": {
    "colab": {
     "base_uri": "https://localhost:8080/"
    },
    "executionInfo": {
     "elapsed": 1351,
     "status": "ok",
     "timestamp": 1679925074194,
     "user": {
      "displayName": "大谷津椋",
      "userId": "03391922001198405443"
     },
     "user_tz": -540
    },
    "id": "uF0yxG_aTJOz",
    "outputId": "444c7d3d-fc1d-4c2e-f1b4-d60c8f59a5f2"
   },
   "outputs": [
    {
     "name": "stdout",
     "output_type": "stream",
     "text": [
      "intercept: 7152.104649120409\n",
      "coefficient: 163.75648652546582\n"
     ]
    }
   ],
   "source": [
    "from sklearn.linear_model import LinearRegression\n",
    "x = df_beer[['平均気温']].values\n",
    "y = df_beer['売上箱数'].values\n",
    "lr = LinearRegression()\n",
    "lr.fit(x, y)\n",
    "print(f\"intercept: {lr.intercept_}\")\n",
    "print(f\"coefficient: {lr.coef_[0]}\")"
   ]
  },
  {
   "cell_type": "markdown",
   "metadata": {
    "id": "tu1eczpCTult"
   },
   "source": [
    "### 2.5 2.4で作成したモデルを用いて、2.2と同様の散布図にモデルから得られた回帰直線を重ねて描画してください。"
   ]
  },
  {
   "cell_type": "code",
   "execution_count": 22,
   "metadata": {
    "colab": {
     "base_uri": "https://localhost:8080/",
     "height": 293
    },
    "executionInfo": {
     "elapsed": 718,
     "status": "ok",
     "timestamp": 1679925105139,
     "user": {
      "displayName": "大谷津椋",
      "userId": "03391922001198405443"
     },
     "user_tz": -540
    },
    "id": "PCQ-HR8MTuGg",
    "outputId": "b0703ef7-99d3-4085-a474-9397ff6f6445"
   },
   "outputs": [
    {
     "data": {
      "image/png": "[encoded data removed]",
      "text/plain": [
       "<Figure size 432x288 with 1 Axes>"
      ]
     },
     "metadata": {
      "needs_background": "light"
     },
     "output_type": "display_data"
    }
   ],
   "source": [
    "y_pred = lr.predict(x)\n",
    "plt.scatter('平均気温', '売上箱数', data=df_beer)\n",
    "plt.xlabel('平均気温')\n",
    "plt.ylabel('売上箱数')\n",
    "plt.title('平均気温とビールの売上箱数の関係')\n",
    "plt.plot(x, y_pred, color='r')\n",
    "plt.show()"
   ]
  },
  {
   "cell_type": "markdown",
   "metadata": {
    "id": "7WyuRZMQZBmP"
   },
   "source": [
    "###2.6 RMSEを算出して表示してください。"
   ]
  },
  {
   "cell_type": "code",
   "execution_count": 23,
   "metadata": {
    "colab": {
     "base_uri": "https://localhost:8080/"
    },
    "executionInfo": {
     "elapsed": 1117,
     "status": "ok",
     "timestamp": 1679925122778,
     "user": {
      "displayName": "大谷津椋",
      "userId": "03391922001198405443"
     },
     "user_tz": -540
    },
    "id": "HsntfCl0ZIXx",
    "outputId": "696bee51-0ec0-41ec-a79c-133163a50d82"
   },
   "outputs": [
    {
     "name": "stdout",
     "output_type": "stream",
     "text": [
      "RMSE:  2357.985589431331\n"
     ]
    }
   ],
   "source": [
    "from sklearn.metrics import mean_squared_error\n",
    "print('RMSE: ', np.sqrt(mean_squared_error(y, y_pred)))\n",
    "# mean_squared_error(y, pred, squared=False)"
   ]
  },
  {
   "cell_type": "markdown",
   "metadata": {
    "id": "mN2qd1b6UgnJ"
   },
   "source": [
    "### 2.7 2.5で描画した散布図を見ると、外れ値が確認できます。次のコードを実行すると、それぞれの点の周囲の10個の点からの距離から、それぞれの点が外れ値かどうかを判定することができます。次のコードを実行して、その結果を確認してください。"
   ]
  },
  {
   "cell_type": "code",
   "execution_count": 24,
   "metadata": {
    "colab": {
     "base_uri": "https://localhost:8080/",
     "height": 834
    },
    "executionInfo": {
     "elapsed": 295,
     "status": "ok",
     "timestamp": 1679925140046,
     "user": {
      "displayName": "大谷津椋",
      "userId": "03391922001198405443"
     },
     "user_tz": -540
    },
    "id": "UnvsQbd2VUpa",
    "outputId": "399ff3ca-81e7-4f33-dc9d-d61d643bc585"
   },
   "outputs": [
    {
     "data": {
      "text/html": [
       "\n",
       "  <div id=\"df-d6b54e69-f553-41d1-a5d0-4eb8aaa9c28d\">\n",
       "    <div class=\"colab-df-container\">\n",
       "      <div>\n",
       "<style scoped>\n",
       "    .dataframe tbody tr th:only-of-type {\n",
       "        vertical-align: middle;\n",
       "    }\n",
       "\n",
       "    .dataframe tbody tr th {\n",
       "        vertical-align: top;\n",
       "    }\n",
       "\n",
       "    .dataframe thead th {\n",
       "        text-align: right;\n",
       "    }\n",
       "</style>\n",
       "<table border=\"1\" class=\"dataframe\">\n",
       "  <thead>\n",
       "    <tr style=\"text-align: right;\">\n",
       "      <th></th>\n",
       "      <th>平均気温</th>\n",
       "      <th>売上箱数</th>\n",
       "    </tr>\n",
       "  </thead>\n",
       "  <tbody>\n",
       "    <tr>\n",
       "      <th>2009-02</th>\n",
       "      <td>7.8</td>\n",
       "      <td>7267</td>\n",
       "    </tr>\n",
       "    <tr>\n",
       "      <th>2009-03</th>\n",
       "      <td>10.0</td>\n",
       "      <td>8706</td>\n",
       "    </tr>\n",
       "    <tr>\n",
       "      <th>2009-04</th>\n",
       "      <td>15.7</td>\n",
       "      <td>10170</td>\n",
       "    </tr>\n",
       "    <tr>\n",
       "      <th>2009-05</th>\n",
       "      <td>20.1</td>\n",
       "      <td>9760</td>\n",
       "    </tr>\n",
       "    <tr>\n",
       "      <th>2009-06</th>\n",
       "      <td>22.5</td>\n",
       "      <td>12001</td>\n",
       "    </tr>\n",
       "    <tr>\n",
       "      <th>2009-07</th>\n",
       "      <td>26.3</td>\n",
       "      <td>12980</td>\n",
       "    </tr>\n",
       "    <tr>\n",
       "      <th>2009-08</th>\n",
       "      <td>26.6</td>\n",
       "      <td>11939</td>\n",
       "    </tr>\n",
       "    <tr>\n",
       "      <th>2009-09</th>\n",
       "      <td>23.0</td>\n",
       "      <td>9175</td>\n",
       "    </tr>\n",
       "    <tr>\n",
       "      <th>2009-10</th>\n",
       "      <td>19.0</td>\n",
       "      <td>9177</td>\n",
       "    </tr>\n",
       "    <tr>\n",
       "      <th>2009-11</th>\n",
       "      <td>13.5</td>\n",
       "      <td>9066</td>\n",
       "    </tr>\n",
       "    <tr>\n",
       "      <th>2010-03</th>\n",
       "      <td>9.1</td>\n",
       "      <td>8661</td>\n",
       "    </tr>\n",
       "    <tr>\n",
       "      <th>2010-04</th>\n",
       "      <td>12.4</td>\n",
       "      <td>9769</td>\n",
       "    </tr>\n",
       "    <tr>\n",
       "      <th>2010-05</th>\n",
       "      <td>19.0</td>\n",
       "      <td>8655</td>\n",
       "    </tr>\n",
       "    <tr>\n",
       "      <th>2010-06</th>\n",
       "      <td>23.6</td>\n",
       "      <td>12370</td>\n",
       "    </tr>\n",
       "    <tr>\n",
       "      <th>2010-07</th>\n",
       "      <td>28.0</td>\n",
       "      <td>12678</td>\n",
       "    </tr>\n",
       "    <tr>\n",
       "      <th>2010-08</th>\n",
       "      <td>29.6</td>\n",
       "      <td>11740</td>\n",
       "    </tr>\n",
       "    <tr>\n",
       "      <th>2010-09</th>\n",
       "      <td>25.1</td>\n",
       "      <td>9160</td>\n",
       "    </tr>\n",
       "    <tr>\n",
       "      <th>2010-10</th>\n",
       "      <td>18.9</td>\n",
       "      <td>8370</td>\n",
       "    </tr>\n",
       "    <tr>\n",
       "      <th>2010-11</th>\n",
       "      <td>13.5</td>\n",
       "      <td>9494</td>\n",
       "    </tr>\n",
       "  </tbody>\n",
       "</table>\n",
       "</div>\n",
       "      <button class=\"colab-df-convert\" onclick=\"convertToInteractive('df-d6b54e69-f553-41d1-a5d0-4eb8aaa9c28d')\"\n",
       "              title=\"Convert this dataframe to an interactive table.\"\n",
       "              style=\"display:none;\">\n",
       "        \n",
       "  <svg xmlns=\"http://www.w3.org/2000/svg\" height=\"24px\"viewBox=\"0 0 24 24\"\n",
       "       width=\"24px\">\n",
       "    <path d=\"M0 0h24v24H0V0z\" fill=\"none\"/>\n",
       "    <path d=\"M18.56 5.44l.94 2.06.94-2.06 2.06-.94-2.06-.94-.94-2.06-.94 2.06-2.06.94zm-11 1L8.5 8.5l.94-2.06 2.06-.94-2.06-.94L8.5 2.5l-.94 2.06-2.06.94zm10 10l.94 2.06.94-2.06 2.06-.94-2.06-.94-.94-2.06-.94 2.06-2.06.94z\"/><path d=\"M17.41 7.96l-1.37-1.37c-.4-.4-.92-.59-1.43-.59-.52 0-1.04.2-1.43.59L10.3 9.45l-7.72 7.72c-.78.78-.78 2.05 0 2.83L4 21.41c.39.39.9.59 1.41.59.51 0 1.02-.2 1.41-.59l7.78-7.78 2.81-2.81c.8-.78.8-2.07 0-2.86zM5.41 20L4 18.59l7.72-7.72 1.47 1.35L5.41 20z\"/>\n",
       "  </svg>\n",
       "      </button>\n",
       "      \n",
       "  <style>\n",
       "    .colab-df-container {\n",
       "      display:flex;\n",
       "      flex-wrap:wrap;\n",
       "      gap: 12px;\n",
       "    }\n",
       "\n",
       "    .colab-df-convert {\n",
       "      background-color: #E8F0FE;\n",
       "      border: none;\n",
       "      border-radius: 50%;\n",
       "      cursor: pointer;\n",
       "      display: none;\n",
       "      fill: #1967D2;\n",
       "      height: 32px;\n",
       "      padding: 0 0 0 0;\n",
       "      width: 32px;\n",
       "    }\n",
       "\n",
       "    .colab-df-convert:hover {\n",
       "      background-color: #E2EBFA;\n",
       "      box-shadow: 0px 1px 2px rgba(60, 64, 67, 0.3), 0px 1px 3px 1px rgba(60, 64, 67, 0.15);\n",
       "      fill: #174EA6;\n",
       "    }\n",
       "\n",
       "    [theme=dark] .colab-df-convert {\n",
       "      background-color: #3B4455;\n",
       "      fill: #D2E3FC;\n",
       "    }\n",
       "\n",
       "    [theme=dark] .colab-df-convert:hover {\n",
       "      background-color: #434B5C;\n",
       "      box-shadow: 0px 1px 3px 1px rgba(0, 0, 0, 0.15);\n",
       "      filter: drop-shadow(0px 1px 2px rgba(0, 0, 0, 0.3));\n",
       "      fill: #FFFFFF;\n",
       "    }\n",
       "  </style>\n",
       "\n",
       "      <script>\n",
       "        const buttonEl =\n",
       "          document.querySelector('#df-d6b54e69-f553-41d1-a5d0-4eb8aaa9c28d button.colab-df-convert');\n",
       "        buttonEl.style.display =\n",
       "          google.colab.kernel.accessAllowed ? 'block' : 'none';\n",
       "\n",
       "        async function convertToInteractive(key) {\n",
       "          const element = document.querySelector('#df-d6b54e69-f553-41d1-a5d0-4eb8aaa9c28d');\n",
       "          const dataTable =\n",
       "            await google.colab.kernel.invokeFunction('convertToInteractive',\n",
       "                                                     [key], {});\n",
       "          if (!dataTable) return;\n",
       "\n",
       "          const docLinkHtml = 'Like what you see? Visit the ' +\n",
       "            '<a target=\"_blank\" href=https://colab.research.google.com/notebooks/data_table.ipynb>data table notebook</a>'\n",
       "            + ' to learn more about interactive tables.';\n",
       "          element.innerHTML = '';\n",
       "          dataTable['output_type'] = 'display_data';\n",
       "          await google.colab.output.renderOutput(dataTable, element);\n",
       "          const docLink = document.createElement('div');\n",
       "          docLink.innerHTML = docLinkHtml;\n",
       "          element.appendChild(docLink);\n",
       "        }\n",
       "      </script>\n",
       "    </div>\n",
       "  </div>\n",
       "  "
      ],
      "text/plain": [
       "         平均気温   売上箱数\n",
       "2009-02   7.8   7267\n",
       "2009-03  10.0   8706\n",
       "2009-04  15.7  10170\n",
       "2009-05  20.1   9760\n",
       "2009-06  22.5  12001\n",
       "2009-07  26.3  12980\n",
       "2009-08  26.6  11939\n",
       "2009-09  23.0   9175\n",
       "2009-10  19.0   9177\n",
       "2009-11  13.5   9066\n",
       "2010-03   9.1   8661\n",
       "2010-04  12.4   9769\n",
       "2010-05  19.0   8655\n",
       "2010-06  23.6  12370\n",
       "2010-07  28.0  12678\n",
       "2010-08  29.6  11740\n",
       "2010-09  25.1   9160\n",
       "2010-10  18.9   8370\n",
       "2010-11  13.5   9494"
      ]
     },
     "metadata": {},
     "output_type": "display_data"
    },
    {
     "data": {
      "text/html": [
       "\n",
       "  <div id=\"df-6d40115b-9fb9-47d2-81e9-2d221c0518cd\">\n",
       "    <div class=\"colab-df-container\">\n",
       "      <div>\n",
       "<style scoped>\n",
       "    .dataframe tbody tr th:only-of-type {\n",
       "        vertical-align: middle;\n",
       "    }\n",
       "\n",
       "    .dataframe tbody tr th {\n",
       "        vertical-align: top;\n",
       "    }\n",
       "\n",
       "    .dataframe thead th {\n",
       "        text-align: right;\n",
       "    }\n",
       "</style>\n",
       "<table border=\"1\" class=\"dataframe\">\n",
       "  <thead>\n",
       "    <tr style=\"text-align: right;\">\n",
       "      <th></th>\n",
       "      <th>平均気温</th>\n",
       "      <th>売上箱数</th>\n",
       "    </tr>\n",
       "  </thead>\n",
       "  <tbody>\n",
       "    <tr>\n",
       "      <th>2009-01</th>\n",
       "      <td>6.8</td>\n",
       "      <td>5107</td>\n",
       "    </tr>\n",
       "    <tr>\n",
       "      <th>2009-12</th>\n",
       "      <td>9.0</td>\n",
       "      <td>15626</td>\n",
       "    </tr>\n",
       "    <tr>\n",
       "      <th>2010-01</th>\n",
       "      <td>7.0</td>\n",
       "      <td>4693</td>\n",
       "    </tr>\n",
       "    <tr>\n",
       "      <th>2010-02</th>\n",
       "      <td>6.5</td>\n",
       "      <td>6426</td>\n",
       "    </tr>\n",
       "    <tr>\n",
       "      <th>2010-12</th>\n",
       "      <td>9.9</td>\n",
       "      <td>14638</td>\n",
       "    </tr>\n",
       "  </tbody>\n",
       "</table>\n",
       "</div>\n",
       "      <button class=\"colab-df-convert\" onclick=\"convertToInteractive('df-6d40115b-9fb9-47d2-81e9-2d221c0518cd')\"\n",
       "              title=\"Convert this dataframe to an interactive table.\"\n",
       "              style=\"display:none;\">\n",
       "        \n",
       "  <svg xmlns=\"http://www.w3.org/2000/svg\" height=\"24px\"viewBox=\"0 0 24 24\"\n",
       "       width=\"24px\">\n",
       "    <path d=\"M0 0h24v24H0V0z\" fill=\"none\"/>\n",
       "    <path d=\"M18.56 5.44l.94 2.06.94-2.06 2.06-.94-2.06-.94-.94-2.06-.94 2.06-2.06.94zm-11 1L8.5 8.5l.94-2.06 2.06-.94-2.06-.94L8.5 2.5l-.94 2.06-2.06.94zm10 10l.94 2.06.94-2.06 2.06-.94-2.06-.94-.94-2.06-.94 2.06-2.06.94z\"/><path d=\"M17.41 7.96l-1.37-1.37c-.4-.4-.92-.59-1.43-.59-.52 0-1.04.2-1.43.59L10.3 9.45l-7.72 7.72c-.78.78-.78 2.05 0 2.83L4 21.41c.39.39.9.59 1.41.59.51 0 1.02-.2 1.41-.59l7.78-7.78 2.81-2.81c.8-.78.8-2.07 0-2.86zM5.41 20L4 18.59l7.72-7.72 1.47 1.35L5.41 20z\"/>\n",
       "  </svg>\n",
       "      </button>\n",
       "      \n",
       "  <style>\n",
       "    .colab-df-container {\n",
       "      display:flex;\n",
       "      flex-wrap:wrap;\n",
       "      gap: 12px;\n",
       "    }\n",
       "\n",
       "    .colab-df-convert {\n",
       "      background-color: #E8F0FE;\n",
       "      border: none;\n",
       "      border-radius: 50%;\n",
       "      cursor: pointer;\n",
       "      display: none;\n",
       "      fill: #1967D2;\n",
       "      height: 32px;\n",
       "      padding: 0 0 0 0;\n",
       "      width: 32px;\n",
       "    }\n",
       "\n",
       "    .colab-df-convert:hover {\n",
       "      background-color: #E2EBFA;\n",
       "      box-shadow: 0px 1px 2px rgba(60, 64, 67, 0.3), 0px 1px 3px 1px rgba(60, 64, 67, 0.15);\n",
       "      fill: #174EA6;\n",
       "    }\n",
       "\n",
       "    [theme=dark] .colab-df-convert {\n",
       "      background-color: #3B4455;\n",
       "      fill: #D2E3FC;\n",
       "    }\n",
       "\n",
       "    [theme=dark] .colab-df-convert:hover {\n",
       "      background-color: #434B5C;\n",
       "      box-shadow: 0px 1px 3px 1px rgba(0, 0, 0, 0.15);\n",
       "      filter: drop-shadow(0px 1px 2px rgba(0, 0, 0, 0.3));\n",
       "      fill: #FFFFFF;\n",
       "    }\n",
       "  </style>\n",
       "\n",
       "      <script>\n",
       "        const buttonEl =\n",
       "          document.querySelector('#df-6d40115b-9fb9-47d2-81e9-2d221c0518cd button.colab-df-convert');\n",
       "        buttonEl.style.display =\n",
       "          google.colab.kernel.accessAllowed ? 'block' : 'none';\n",
       "\n",
       "        async function convertToInteractive(key) {\n",
       "          const element = document.querySelector('#df-6d40115b-9fb9-47d2-81e9-2d221c0518cd');\n",
       "          const dataTable =\n",
       "            await google.colab.kernel.invokeFunction('convertToInteractive',\n",
       "                                                     [key], {});\n",
       "          if (!dataTable) return;\n",
       "\n",
       "          const docLinkHtml = 'Like what you see? Visit the ' +\n",
       "            '<a target=\"_blank\" href=https://colab.research.google.com/notebooks/data_table.ipynb>data table notebook</a>'\n",
       "            + ' to learn more about interactive tables.';\n",
       "          element.innerHTML = '';\n",
       "          dataTable['output_type'] = 'display_data';\n",
       "          await google.colab.output.renderOutput(dataTable, element);\n",
       "          const docLink = document.createElement('div');\n",
       "          docLink.innerHTML = docLinkHtml;\n",
       "          element.appendChild(docLink);\n",
       "        }\n",
       "      </script>\n",
       "    </div>\n",
       "  </div>\n",
       "  "
      ],
      "text/plain": [
       "         平均気温   売上箱数\n",
       "2009-01   6.8   5107\n",
       "2009-12   9.0  15626\n",
       "2010-01   7.0   4693\n",
       "2010-02   6.5   6426\n",
       "2010-12   9.9  14638"
      ]
     },
     "metadata": {},
     "output_type": "display_data"
    }
   ],
   "source": [
    "from sklearn.neighbors import LocalOutlierFactor\n",
    "\n",
    "lof = LocalOutlierFactor(n_neighbors=10, contamination=0.2)\n",
    "\n",
    "# 正常値の値を格納したDataFrame\n",
    "df_beer_in = df_beer.loc[lof.fit_predict(df_beer.values) > 0, :]\n",
    "display(df_beer_in)\n",
    "\n",
    "# 異常値の値を格納したDataFrame\n",
    "df_beer_out = df_beer.loc[lof.fit_predict(df_beer.values) < 0, :]\n",
    "display(df_beer_out)"
   ]
  },
  {
   "cell_type": "markdown",
   "metadata": {
    "id": "2EWmdI8-9qo6"
   },
   "source": [
    "12月はお歳暮・お年賀によって売り上げが上昇していると考えられるため、気温の割には売上箱数が多く外れ値と判断されました。"
   ]
  },
  {
   "cell_type": "markdown",
   "metadata": {
    "id": "LbxbO8tiXj2H"
   },
   "source": [
    "### 2.8 2.7で正常値と外れ値をそれぞれ分別することができました。次は、2.6で作成したDataFrameを用いて、正常値と外れ値をそれぞれ重ねて散布図として描画してください。"
   ]
  },
  {
   "cell_type": "code",
   "execution_count": 25,
   "metadata": {
    "colab": {
     "base_uri": "https://localhost:8080/",
     "height": 311
    },
    "executionInfo": {
     "elapsed": 1767,
     "status": "ok",
     "timestamp": 1679925147586,
     "user": {
      "displayName": "大谷津椋",
      "userId": "03391922001198405443"
     },
     "user_tz": -540
    },
    "id": "CkyToyFUXi3B",
    "outputId": "66c248e2-3cea-4b07-e01e-e803480adda4"
   },
   "outputs": [
    {
     "data": {
      "text/plain": [
       "<matplotlib.legend.Legend at 0x7fc6f65fa160>"
      ]
     },
     "execution_count": 25,
     "metadata": {},
     "output_type": "execute_result"
    },
    {
     "data": {
      "image/png": "[encoded data removed]",
      "text/plain": [
       "<Figure size 432x288 with 1 Axes>"
      ]
     },
     "metadata": {
      "needs_background": "light"
     },
     "output_type": "display_data"
    }
   ],
   "source": [
    "plt.scatter('平均気温', '売上箱数', data=df_beer_in, label='正常値')\n",
    "plt.scatter('平均気温', '売上箱数', data=df_beer_out, label='外れ値')\n",
    "plt.xlabel('平均気温')\n",
    "plt.ylabel('売上箱数')\n",
    "plt.title('平均気温とビールの売上箱数の関係')\n",
    "plt.legend()"
   ]
  },
  {
   "cell_type": "markdown",
   "metadata": {
    "id": "3KHIvjvIYKqz"
   },
   "source": [
    "たしかに、外れ値と思われる値が除外されていることがわかります。"
   ]
  },
  {
   "cell_type": "markdown",
   "metadata": {
    "id": "PNsg7MTuXjfb"
   },
   "source": [
    "### 2.9 2.8より外れ値が除外されました。次は、正常値のみを用いて相関係数を算出して表示してください。"
   ]
  },
  {
   "cell_type": "code",
   "execution_count": 26,
   "metadata": {
    "colab": {
     "base_uri": "https://localhost:8080/"
    },
    "executionInfo": {
     "elapsed": 310,
     "status": "ok",
     "timestamp": 1679925162188,
     "user": {
      "displayName": "大谷津椋",
      "userId": "03391922001198405443"
     },
     "user_tz": -540
    },
    "id": "D0YUD72FWpQF",
    "outputId": "1ef86e2c-fd28-4bb6-8920-f641506aa457"
   },
   "outputs": [
    {
     "name": "stdout",
     "output_type": "stream",
     "text": [
      "0.749537440885372\n"
     ]
    }
   ],
   "source": [
    "correlation_in, p = stats.pearsonr(df_beer_in['平均気温'], df_beer_in['売上箱数'])\n",
    "print(correlation_in)"
   ]
  },
  {
   "cell_type": "markdown",
   "metadata": {
    "id": "zPAoR21z9ZWo"
   },
   "source": [
    "相関係数で考えると、平均気温とビールの売上には相関があると言えそうです。"
   ]
  },
  {
   "cell_type": "markdown",
   "metadata": {
    "id": "5Y6CBiJ1YauS"
   },
   "source": [
    "### 2.10 2.9で相関係数が大幅に増加しました。次は、正常値のみを用いて線形回帰モデルを作成してください。また、モデルから算出される切片と回帰係数を表示してください。"
   ]
  },
  {
   "cell_type": "code",
   "execution_count": 27,
   "metadata": {
    "colab": {
     "base_uri": "https://localhost:8080/"
    },
    "executionInfo": {
     "elapsed": 1233,
     "status": "ok",
     "timestamp": 1679925220353,
     "user": {
      "displayName": "大谷津椋",
      "userId": "03391922001198405443"
     },
     "user_tz": -540
    },
    "id": "ZCpUiCoQYqZX",
    "outputId": "dc0819ed-b702-4422-9f13-4d90e400d161"
   },
   "outputs": [
    {
     "name": "stdout",
     "output_type": "stream",
     "text": [
      "intercept: 6458.054526841079\n",
      "coefficient: 188.16322240863207\n"
     ]
    }
   ],
   "source": [
    "X_ = df_beer_in[['平均気温']].values\n",
    "y_ = df_beer_in['売上箱数'].values\n",
    "lr = LinearRegression()\n",
    "lr.fit(X_, y_)\n",
    "print(f\"intercept: {lr.intercept_}\")\n",
    "print(f\"coefficient: {lr.coef_[0]}\")"
   ]
  },
  {
   "cell_type": "markdown",
   "metadata": {
    "id": "R37n0_4hY2TP"
   },
   "source": [
    "### 2.11 2.10で作成したモデルを用いて、正常データにおける回帰直線を散布図と重ねて描画してください。"
   ]
  },
  {
   "cell_type": "code",
   "execution_count": 28,
   "metadata": {
    "colab": {
     "base_uri": "https://localhost:8080/",
     "height": 293
    },
    "executionInfo": {
     "elapsed": 7,
     "status": "ok",
     "timestamp": 1679925253014,
     "user": {
      "displayName": "大谷津椋",
      "userId": "03391922001198405443"
     },
     "user_tz": -540
    },
    "id": "wcCQtFKwY0Jy",
    "outputId": "1e1e936d-3801-4696-db2e-fa9cc50d18f6"
   },
   "outputs": [
    {
     "data": {
      "image/png": "[encoded data removed]",
      "text/plain": [
       "<Figure size 432x288 with 1 Axes>"
      ]
     },
     "metadata": {
      "needs_background": "light"
     },
     "output_type": "display_data"
    }
   ],
   "source": [
    "y_pred_in = lr.predict(X_)\n",
    "plt.scatter('平均気温', '売上箱数', data=df_beer_in)\n",
    "plt.xlabel('平均気温')\n",
    "plt.ylabel('売上箱数')\n",
    "plt.title('平均気温とビールの売上箱数の関係')\n",
    "plt.plot(X_, y_pred_in, color='r')\n",
    "plt.show()"
   ]
  },
  {
   "cell_type": "markdown",
   "metadata": {
    "id": "AEUztYXQ9Xzn"
   },
   "source": [
    "可視化して確認すると、平均気温とビールの売上の箱数にはある程度の相関があると言えそうです。"
   ]
  },
  {
   "cell_type": "markdown",
   "metadata": {
    "id": "E1ZlRv44Zqlq"
   },
   "source": [
    "### 2.12 正常値のみを用いた回帰モデルにおいてRMSEを算出し、表示してください。"
   ]
  },
  {
   "cell_type": "code",
   "execution_count": 29,
   "metadata": {
    "colab": {
     "base_uri": "https://localhost:8080/"
    },
    "executionInfo": {
     "elapsed": 253,
     "status": "ok",
     "timestamp": 1679925286848,
     "user": {
      "displayName": "大谷津椋",
      "userId": "03391922001198405443"
     },
     "user_tz": -540
    },
    "id": "zHd73Xc-Y0FP",
    "outputId": "93390af7-5f7e-4eea-d074-56668a276f66"
   },
   "outputs": [
    {
     "name": "stdout",
     "output_type": "stream",
     "text": [
      "RMSE:  1085.8738120490075\n"
     ]
    }
   ],
   "source": [
    "print('RMSE: ', mean_squared_error(y_, y_pred_in, squared=False))"
   ]
  },
  {
   "cell_type": "markdown",
   "metadata": {
    "id": "RmsmWUzYUdWk"
   },
   "source": [
    "## 3. 回帰分析について学習します。(13問)"
   ]
  },
  {
   "cell_type": "markdown",
   "metadata": {
    "id": "U9ke6dYTWfFB"
   },
   "source": [
    "### 3.1 次のデータは、糖尿病患者に関するデータで、`X`に説明変数、`y`に目的変数が格納されています。また、DataFrameの`target`列がその目的変数です。次のコードを実行して、データを確認してください。"
   ]
  },
  {
   "cell_type": "code",
   "execution_count": 1,
   "metadata": {
    "colab": {
     "base_uri": "https://localhost:8080/",
     "height": 424
    },
    "executionInfo": {
     "elapsed": 287,
     "status": "ok",
     "timestamp": 1679925315856,
     "user": {
      "displayName": "大谷津椋",
      "userId": "03391922001198405443"
     },
     "user_tz": -540
    },
    "id": "icYKEx21UiBB",
    "outputId": "11794566-173d-455b-8014-eae231ed0b04"
   },
   "outputs": [
    {
     "data": {
      "text/html": [
       "<div>\n",
       "<style scoped>\n",
       "    .dataframe tbody tr th:only-of-type {\n",
       "        vertical-align: middle;\n",
       "    }\n",
       "\n",
       "    .dataframe tbody tr th {\n",
       "        vertical-align: top;\n",
       "    }\n",
       "\n",
       "    .dataframe thead th {\n",
       "        text-align: right;\n",
       "    }\n",
       "</style>\n",
       "<table border=\"1\" class=\"dataframe\">\n",
       "  <thead>\n",
       "    <tr style=\"text-align: right;\">\n",
       "      <th></th>\n",
       "      <th>age</th>\n",
       "      <th>sex</th>\n",
       "      <th>bmi</th>\n",
       "      <th>bp</th>\n",
       "      <th>s1</th>\n",
       "      <th>s2</th>\n",
       "      <th>s3</th>\n",
       "      <th>s4</th>\n",
       "      <th>s5</th>\n",
       "      <th>s6</th>\n",
       "      <th>target</th>\n",
       "    </tr>\n",
       "  </thead>\n",
       "  <tbody>\n",
       "    <tr>\n",
       "      <th>0</th>\n",
       "      <td>0.038076</td>\n",
       "      <td>0.050680</td>\n",
       "      <td>0.061696</td>\n",
       "      <td>0.021872</td>\n",
       "      <td>-0.044223</td>\n",
       "      <td>-0.034821</td>\n",
       "      <td>-0.043401</td>\n",
       "      <td>-0.002592</td>\n",
       "      <td>0.019907</td>\n",
       "      <td>-0.017646</td>\n",
       "      <td>151.0</td>\n",
       "    </tr>\n",
       "    <tr>\n",
       "      <th>1</th>\n",
       "      <td>-0.001882</td>\n",
       "      <td>-0.044642</td>\n",
       "      <td>-0.051474</td>\n",
       "      <td>-0.026328</td>\n",
       "      <td>-0.008449</td>\n",
       "      <td>-0.019163</td>\n",
       "      <td>0.074412</td>\n",
       "      <td>-0.039493</td>\n",
       "      <td>-0.068332</td>\n",
       "      <td>-0.092204</td>\n",
       "      <td>75.0</td>\n",
       "    </tr>\n",
       "    <tr>\n",
       "      <th>2</th>\n",
       "      <td>0.085299</td>\n",
       "      <td>0.050680</td>\n",
       "      <td>0.044451</td>\n",
       "      <td>-0.005670</td>\n",
       "      <td>-0.045599</td>\n",
       "      <td>-0.034194</td>\n",
       "      <td>-0.032356</td>\n",
       "      <td>-0.002592</td>\n",
       "      <td>0.002861</td>\n",
       "      <td>-0.025930</td>\n",
       "      <td>141.0</td>\n",
       "    </tr>\n",
       "    <tr>\n",
       "      <th>3</th>\n",
       "      <td>-0.089063</td>\n",
       "      <td>-0.044642</td>\n",
       "      <td>-0.011595</td>\n",
       "      <td>-0.036656</td>\n",
       "      <td>0.012191</td>\n",
       "      <td>0.024991</td>\n",
       "      <td>-0.036038</td>\n",
       "      <td>0.034309</td>\n",
       "      <td>0.022688</td>\n",
       "      <td>-0.009362</td>\n",
       "      <td>206.0</td>\n",
       "    </tr>\n",
       "    <tr>\n",
       "      <th>4</th>\n",
       "      <td>0.005383</td>\n",
       "      <td>-0.044642</td>\n",
       "      <td>-0.036385</td>\n",
       "      <td>0.021872</td>\n",
       "      <td>0.003935</td>\n",
       "      <td>0.015596</td>\n",
       "      <td>0.008142</td>\n",
       "      <td>-0.002592</td>\n",
       "      <td>-0.031988</td>\n",
       "      <td>-0.046641</td>\n",
       "      <td>135.0</td>\n",
       "    </tr>\n",
       "    <tr>\n",
       "      <th>...</th>\n",
       "      <td>...</td>\n",
       "      <td>...</td>\n",
       "      <td>...</td>\n",
       "      <td>...</td>\n",
       "      <td>...</td>\n",
       "      <td>...</td>\n",
       "      <td>...</td>\n",
       "      <td>...</td>\n",
       "      <td>...</td>\n",
       "      <td>...</td>\n",
       "      <td>...</td>\n",
       "    </tr>\n",
       "    <tr>\n",
       "      <th>437</th>\n",
       "      <td>0.041708</td>\n",
       "      <td>0.050680</td>\n",
       "      <td>0.019662</td>\n",
       "      <td>0.059744</td>\n",
       "      <td>-0.005697</td>\n",
       "      <td>-0.002566</td>\n",
       "      <td>-0.028674</td>\n",
       "      <td>-0.002592</td>\n",
       "      <td>0.031193</td>\n",
       "      <td>0.007207</td>\n",
       "      <td>178.0</td>\n",
       "    </tr>\n",
       "    <tr>\n",
       "      <th>438</th>\n",
       "      <td>-0.005515</td>\n",
       "      <td>0.050680</td>\n",
       "      <td>-0.015906</td>\n",
       "      <td>-0.067642</td>\n",
       "      <td>0.049341</td>\n",
       "      <td>0.079165</td>\n",
       "      <td>-0.028674</td>\n",
       "      <td>0.034309</td>\n",
       "      <td>-0.018114</td>\n",
       "      <td>0.044485</td>\n",
       "      <td>104.0</td>\n",
       "    </tr>\n",
       "    <tr>\n",
       "      <th>439</th>\n",
       "      <td>0.041708</td>\n",
       "      <td>0.050680</td>\n",
       "      <td>-0.015906</td>\n",
       "      <td>0.017293</td>\n",
       "      <td>-0.037344</td>\n",
       "      <td>-0.013840</td>\n",
       "      <td>-0.024993</td>\n",
       "      <td>-0.011080</td>\n",
       "      <td>-0.046883</td>\n",
       "      <td>0.015491</td>\n",
       "      <td>132.0</td>\n",
       "    </tr>\n",
       "    <tr>\n",
       "      <th>440</th>\n",
       "      <td>-0.045472</td>\n",
       "      <td>-0.044642</td>\n",
       "      <td>0.039062</td>\n",
       "      <td>0.001215</td>\n",
       "      <td>0.016318</td>\n",
       "      <td>0.015283</td>\n",
       "      <td>-0.028674</td>\n",
       "      <td>0.026560</td>\n",
       "      <td>0.044529</td>\n",
       "      <td>-0.025930</td>\n",
       "      <td>220.0</td>\n",
       "    </tr>\n",
       "    <tr>\n",
       "      <th>441</th>\n",
       "      <td>-0.045472</td>\n",
       "      <td>-0.044642</td>\n",
       "      <td>-0.073030</td>\n",
       "      <td>-0.081413</td>\n",
       "      <td>0.083740</td>\n",
       "      <td>0.027809</td>\n",
       "      <td>0.173816</td>\n",
       "      <td>-0.039493</td>\n",
       "      <td>-0.004222</td>\n",
       "      <td>0.003064</td>\n",
       "      <td>57.0</td>\n",
       "    </tr>\n",
       "  </tbody>\n",
       "</table>\n",
       "<p>442 rows × 11 columns</p>\n",
       "</div>"
      ],
      "text/plain": [
       "          age       sex       bmi        bp        s1        s2        s3  \\\n",
       "0    0.038076  0.050680  0.061696  0.021872 -0.044223 -0.034821 -0.043401   \n",
       "1   -0.001882 -0.044642 -0.051474 -0.026328 -0.008449 -0.019163  0.074412   \n",
       "2    0.085299  0.050680  0.044451 -0.005670 -0.045599 -0.034194 -0.032356   \n",
       "3   -0.089063 -0.044642 -0.011595 -0.036656  0.012191  0.024991 -0.036038   \n",
       "4    0.005383 -0.044642 -0.036385  0.021872  0.003935  0.015596  0.008142   \n",
       "..        ...       ...       ...       ...       ...       ...       ...   \n",
       "437  0.041708  0.050680  0.019662  0.059744 -0.005697 -0.002566 -0.028674   \n",
       "438 -0.005515  0.050680 -0.015906 -0.067642  0.049341  0.079165 -0.028674   \n",
       "439  0.041708  0.050680 -0.015906  0.017293 -0.037344 -0.013840 -0.024993   \n",
       "440 -0.045472 -0.044642  0.039062  0.001215  0.016318  0.015283 -0.028674   \n",
       "441 -0.045472 -0.044642 -0.073030 -0.081413  0.083740  0.027809  0.173816   \n",
       "\n",
       "           s4        s5        s6  target  \n",
       "0   -0.002592  0.019907 -0.017646   151.0  \n",
       "1   -0.039493 -0.068332 -0.092204    75.0  \n",
       "2   -0.002592  0.002861 -0.025930   141.0  \n",
       "3    0.034309  0.022688 -0.009362   206.0  \n",
       "4   -0.002592 -0.031988 -0.046641   135.0  \n",
       "..        ...       ...       ...     ...  \n",
       "437 -0.002592  0.031193  0.007207   178.0  \n",
       "438  0.034309 -0.018114  0.044485   104.0  \n",
       "439 -0.011080 -0.046883  0.015491   132.0  \n",
       "440  0.026560  0.044529 -0.025930   220.0  \n",
       "441 -0.039493 -0.004222  0.003064    57.0  \n",
       "\n",
       "[442 rows x 11 columns]"
      ]
     },
     "execution_count": 1,
     "metadata": {},
     "output_type": "execute_result"
    }
   ],
   "source": [
    "# こちらのセルを実行してください。\n",
    "from sklearn.datasets import load_diabetes\n",
    "import pandas as pd\n",
    "import numpy as np\n",
    "\n",
    "diabetes = load_diabetes()\n",
    "\n",
    "X = diabetes.data\n",
    "y = diabetes.target\n",
    "\n",
    "df_diabetes = pd.DataFrame(X, columns=diabetes.feature_names)\n",
    "df_diabetes['target'] = y\n",
    "df_diabetes"
   ]
  },
  {
   "cell_type": "markdown",
   "metadata": {
    "id": "GTKJQqu4JRNB"
   },
   "source": [
    "- age: 年齢\n",
    "- sex: 性別\n",
    "- bmi: ボディマス指数\n",
    "- bp: 平均血圧\n",
    "- s1: 総血清コレステロール\n",
    "- s2: 低密度リポタンパク質\n",
    "- s3: 高密度リポタンパク質\n",
    "- s4: 総コレステロール/ HDL\n",
    "- s5: おそらく血清トリグリセリドレベルの対数\n",
    "- s6: 血糖値\n",
    "- target: 糖尿病の進行具合"
   ]
  },
  {
   "cell_type": "markdown",
   "metadata": {
    "id": "o5YpNR91G-sW"
   },
   "source": [
    "### 3.2 `statsmodels`ライブラリを用いて、3.1の説明変数を用いた目的変数に対する線形回帰を行なってください。回帰の際には切片を考慮してください。その後、`summary`関数を用いることで結果を表示してください。"
   ]
  },
  {
   "cell_type": "code",
   "execution_count": 31,
   "metadata": {
    "colab": {
     "base_uri": "https://localhost:8080/",
     "height": 644
    },
    "executionInfo": {
     "elapsed": 2184,
     "status": "ok",
     "timestamp": 1679925332808,
     "user": {
      "displayName": "大谷津椋",
      "userId": "03391922001198405443"
     },
     "user_tz": -540
    },
    "id": "qyy0sCyFGJ_T",
    "outputId": "e850d5d7-6abc-409b-cdc0-7005ff309dfc"
   },
   "outputs": [
    {
     "data": {
      "text/html": [
       "<table class=\"simpletable\">\n",
       "<caption>OLS Regression Results</caption>\n",
       "<tr>\n",
       "  <th>Dep. Variable:</th>            <td>y</td>        <th>  R-squared:         </th> <td>   0.518</td>\n",
       "</tr>\n",
       "<tr>\n",
       "  <th>Model:</th>                   <td>OLS</td>       <th>  Adj. R-squared:    </th> <td>   0.507</td>\n",
       "</tr>\n",
       "<tr>\n",
       "  <th>Method:</th>             <td>Least Squares</td>  <th>  F-statistic:       </th> <td>   46.27</td>\n",
       "</tr>\n",
       "<tr>\n",
       "  <th>Date:</th>             <td>Mon, 27 Mar 2023</td> <th>  Prob (F-statistic):</th> <td>3.83e-62</td>\n",
       "</tr>\n",
       "<tr>\n",
       "  <th>Time:</th>                 <td>13:55:31</td>     <th>  Log-Likelihood:    </th> <td> -2386.0</td>\n",
       "</tr>\n",
       "<tr>\n",
       "  <th>No. Observations:</th>      <td>   442</td>      <th>  AIC:               </th> <td>   4794.</td>\n",
       "</tr>\n",
       "<tr>\n",
       "  <th>Df Residuals:</th>          <td>   431</td>      <th>  BIC:               </th> <td>   4839.</td>\n",
       "</tr>\n",
       "<tr>\n",
       "  <th>Df Model:</th>              <td>    10</td>      <th>                     </th>     <td> </td>   \n",
       "</tr>\n",
       "<tr>\n",
       "  <th>Covariance Type:</th>      <td>nonrobust</td>    <th>                     </th>     <td> </td>   \n",
       "</tr>\n",
       "</table>\n",
       "<table class=\"simpletable\">\n",
       "<tr>\n",
       "    <td></td>       <th>coef</th>     <th>std err</th>      <th>t</th>      <th>P>|t|</th>  <th>[0.025</th>    <th>0.975]</th>  \n",
       "</tr>\n",
       "<tr>\n",
       "  <th>const</th> <td>  152.1335</td> <td>    2.576</td> <td>   59.061</td> <td> 0.000</td> <td>  147.071</td> <td>  157.196</td>\n",
       "</tr>\n",
       "<tr>\n",
       "  <th>x1</th>    <td>  -10.0099</td> <td>   59.749</td> <td>   -0.168</td> <td> 0.867</td> <td> -127.446</td> <td>  107.426</td>\n",
       "</tr>\n",
       "<tr>\n",
       "  <th>x2</th>    <td> -239.8156</td> <td>   61.222</td> <td>   -3.917</td> <td> 0.000</td> <td> -360.147</td> <td> -119.484</td>\n",
       "</tr>\n",
       "<tr>\n",
       "  <th>x3</th>    <td>  519.8459</td> <td>   66.533</td> <td>    7.813</td> <td> 0.000</td> <td>  389.076</td> <td>  650.616</td>\n",
       "</tr>\n",
       "<tr>\n",
       "  <th>x4</th>    <td>  324.3846</td> <td>   65.422</td> <td>    4.958</td> <td> 0.000</td> <td>  195.799</td> <td>  452.970</td>\n",
       "</tr>\n",
       "<tr>\n",
       "  <th>x5</th>    <td> -792.1756</td> <td>  416.680</td> <td>   -1.901</td> <td> 0.058</td> <td>-1611.153</td> <td>   26.802</td>\n",
       "</tr>\n",
       "<tr>\n",
       "  <th>x6</th>    <td>  476.7390</td> <td>  339.030</td> <td>    1.406</td> <td> 0.160</td> <td> -189.620</td> <td> 1143.098</td>\n",
       "</tr>\n",
       "<tr>\n",
       "  <th>x7</th>    <td>  101.0433</td> <td>  212.531</td> <td>    0.475</td> <td> 0.635</td> <td> -316.684</td> <td>  518.770</td>\n",
       "</tr>\n",
       "<tr>\n",
       "  <th>x8</th>    <td>  177.0632</td> <td>  161.476</td> <td>    1.097</td> <td> 0.273</td> <td> -140.315</td> <td>  494.441</td>\n",
       "</tr>\n",
       "<tr>\n",
       "  <th>x9</th>    <td>  751.2737</td> <td>  171.900</td> <td>    4.370</td> <td> 0.000</td> <td>  413.407</td> <td> 1089.140</td>\n",
       "</tr>\n",
       "<tr>\n",
       "  <th>x10</th>   <td>   67.6267</td> <td>   65.984</td> <td>    1.025</td> <td> 0.306</td> <td>  -62.064</td> <td>  197.318</td>\n",
       "</tr>\n",
       "</table>\n",
       "<table class=\"simpletable\">\n",
       "<tr>\n",
       "  <th>Omnibus:</th>       <td> 1.506</td> <th>  Durbin-Watson:     </th> <td>   2.029</td>\n",
       "</tr>\n",
       "<tr>\n",
       "  <th>Prob(Omnibus):</th> <td> 0.471</td> <th>  Jarque-Bera (JB):  </th> <td>   1.404</td>\n",
       "</tr>\n",
       "<tr>\n",
       "  <th>Skew:</th>          <td> 0.017</td> <th>  Prob(JB):          </th> <td>   0.496</td>\n",
       "</tr>\n",
       "<tr>\n",
       "  <th>Kurtosis:</th>      <td> 2.726</td> <th>  Cond. No.          </th> <td>    227.</td>\n",
       "</tr>\n",
       "</table><br/><br/>Notes:<br/>[1] Standard Errors assume that the covariance matrix of the errors is correctly specified."
      ],
      "text/plain": [
       "<class 'statsmodels.iolib.summary.Summary'>\n",
       "\"\"\"\n",
       "                            OLS Regression Results                            \n",
       "==============================================================================\n",
       "Dep. Variable:                      y   R-squared:                       0.518\n",
       "Model:                            OLS   Adj. R-squared:                  0.507\n",
       "Method:                 Least Squares   F-statistic:                     46.27\n",
       "Date:                Mon, 27 Mar 2023   Prob (F-statistic):           3.83e-62\n",
       "Time:                        13:55:31   Log-Likelihood:                -2386.0\n",
       "No. Observations:                 442   AIC:                             4794.\n",
       "Df Residuals:                     431   BIC:                             4839.\n",
       "Df Model:                          10                                         \n",
       "Covariance Type:            nonrobust                                         \n",
       "==============================================================================\n",
       "                 coef    std err          t      P>|t|      [0.025      0.975]\n",
       "------------------------------------------------------------------------------\n",
       "const        152.1335      2.576     59.061      0.000     147.071     157.196\n",
       "x1           -10.0099     59.749     -0.168      0.867    -127.446     107.426\n",
       "x2          -239.8156     61.222     -3.917      0.000    -360.147    -119.484\n",
       "x3           519.8459     66.533      7.813      0.000     389.076     650.616\n",
       "x4           324.3846     65.422      4.958      0.000     195.799     452.970\n",
       "x5          -792.1756    416.680     -1.901      0.058   -1611.153      26.802\n",
       "x6           476.7390    339.030      1.406      0.160    -189.620    1143.098\n",
       "x7           101.0433    212.531      0.475      0.635    -316.684     518.770\n",
       "x8           177.0632    161.476      1.097      0.273    -140.315     494.441\n",
       "x9           751.2737    171.900      4.370      0.000     413.407    1089.140\n",
       "x10           67.6267     65.984      1.025      0.306     -62.064     197.318\n",
       "==============================================================================\n",
       "Omnibus:                        1.506   Durbin-Watson:                   2.029\n",
       "Prob(Omnibus):                  0.471   Jarque-Bera (JB):                1.404\n",
       "Skew:                           0.017   Prob(JB):                        0.496\n",
       "Kurtosis:                       2.726   Cond. No.                         227.\n",
       "==============================================================================\n",
       "\n",
       "Notes:\n",
       "[1] Standard Errors assume that the covariance matrix of the errors is correctly specified.\n",
       "\"\"\""
      ]
     },
     "execution_count": 31,
     "metadata": {},
     "output_type": "execute_result"
    }
   ],
   "source": [
    "import statsmodels.api as sm\n",
    "x1 = sm.add_constant(df_diabetes.iloc[:, :10].values)\n",
    "y1 = df_diabetes['target'].values\n",
    "model = sm.OLS(y1, x1)\n",
    "res = model.fit()\n",
    "res.summary()"
   ]
  },
  {
   "cell_type": "markdown",
   "metadata": {
    "id": "n7EDADZfHKRA"
   },
   "source": [
    "### 3.3 回帰分析の目的は、各説明変数の係数を見ることで、目的変数に対する説明変数の影響を確認することです。それでは、各説明変数に対する係数を棒グラフで可視化してください。"
   ]
  },
  {
   "cell_type": "code",
   "execution_count": 32,
   "metadata": {
    "colab": {
     "base_uri": "https://localhost:8080/",
     "height": 264
    },
    "executionInfo": {
     "elapsed": 291,
     "status": "ok",
     "timestamp": 1679925341773,
     "user": {
      "displayName": "大谷津椋",
      "userId": "03391922001198405443"
     },
     "user_tz": -540
    },
    "id": "8tVfJJHQR_RU",
    "outputId": "6a49c780-ecda-44ee-a096-4260f44f666c"
   },
   "outputs": [
    {
     "data": {
      "image/png": "[encoded data removed]",
      "text/plain": [
       "<Figure size 432x288 with 1 Axes>"
      ]
     },
     "metadata": {
      "needs_background": "light"
     },
     "output_type": "display_data"
    }
   ],
   "source": [
    "import matplotlib.pyplot as plt\n",
    "x_label = df_diabetes.iloc[:, :10].columns\n",
    "y_label = res.params[1:]\n",
    "c = [('b' if i > 0 else 'r') for i in y_label]\n",
    "plt.bar(x_label, y_label, color=c)\n",
    "plt.show()"
   ]
  },
  {
   "cell_type": "markdown",
   "metadata": {
    "id": "OYimGlzF_6nV"
   },
   "source": [
    "この結果を確認すると、`bmi`や`bp`、`s5`の値が大きければ糖尿病が進行していて、逆に`s1`の値が低いほど糖尿病が進行していると考えることができます。"
   ]
  },
  {
   "cell_type": "markdown",
   "metadata": {
    "id": "FEoNq7nxAT1_"
   },
   "source": [
    "### 3.4 次に、各説明変数の係数の絶対値を取って、3.3と同様に描画してください。"
   ]
  },
  {
   "cell_type": "code",
   "execution_count": 33,
   "metadata": {
    "colab": {
     "base_uri": "https://localhost:8080/",
     "height": 264
    },
    "executionInfo": {
     "elapsed": 1179,
     "status": "ok",
     "timestamp": 1679925347784,
     "user": {
      "displayName": "大谷津椋",
      "userId": "03391922001198405443"
     },
     "user_tz": -540
    },
    "id": "IvSTAM_rAcAv",
    "outputId": "cd65f440-9ed1-4a82-d6d9-5d2ad84f3f2b"
   },
   "outputs": [
    {
     "data": {
      "image/png": "[encoded data removed]",
      "text/plain": [
       "<Figure size 432x288 with 1 Axes>"
      ]
     },
     "metadata": {
      "needs_background": "light"
     },
     "output_type": "display_data"
    }
   ],
   "source": [
    "plt.bar(x_label, abs(y_label), color=c)\n",
    "plt.show()"
   ]
  },
  {
   "cell_type": "markdown",
   "metadata": {
    "id": "1amUPXa9AjLF"
   },
   "source": [
    "これを見ると、変数の重要度としては`s1`, `s5`, `bmi`などが重要であると考えることができます。"
   ]
  },
  {
   "cell_type": "markdown",
   "metadata": {
    "id": "uzZVGbVyqjPc"
   },
   "source": [
    "### 3.5 3.2で作成したモデルを用いて予測される値のMAEを算出して表示してください。"
   ]
  },
  {
   "cell_type": "code",
   "execution_count": 34,
   "metadata": {
    "colab": {
     "base_uri": "https://localhost:8080/"
    },
    "executionInfo": {
     "elapsed": 4,
     "status": "ok",
     "timestamp": 1679925354237,
     "user": {
      "displayName": "大谷津椋",
      "userId": "03391922001198405443"
     },
     "user_tz": -540
    },
    "id": "ZvCWrsIkqjwa",
    "outputId": "72e4d037-d8ca-4acf-ee13-2751ddcea512"
   },
   "outputs": [
    {
     "name": "stdout",
     "output_type": "stream",
     "text": [
      "MAE 43.27745202531506\n"
     ]
    }
   ],
   "source": [
    "from statsmodels.tools.eval_measures import meanabs\n",
    "# df_diabetes.iloc[:, :10].shape\n",
    "pred_sm = res.predict(x1)\n",
    "mae = meanabs(y1, pred_sm)\n",
    "print('MAE', mae)"
   ]
  },
  {
   "cell_type": "markdown",
   "metadata": {
    "id": "LtAkRlemAW01"
   },
   "source": [
    "### 3.6 3.2の結果を確認すると、多重共線性の指標となる`Cond. No.`の値が少し大きいように見えます。`statsmodels`モジュールを用いて、各説明変数のVIFを算出してDataFrameとして表示してください。"
   ]
  },
  {
   "cell_type": "code",
   "execution_count": 35,
   "metadata": {
    "colab": {
     "base_uri": "https://localhost:8080/",
     "height": 363
    },
    "executionInfo": {
     "elapsed": 314,
     "status": "ok",
     "timestamp": 1679925360636,
     "user": {
      "displayName": "大谷津椋",
      "userId": "03391922001198405443"
     },
     "user_tz": -540
    },
    "id": "uDgJb3a6PxAY",
    "outputId": "d4e42691-d2ae-4d52-f8d7-28fde415c162"
   },
   "outputs": [
    {
     "data": {
      "text/html": [
       "\n",
       "  <div id=\"df-90ccc415-1cd8-4527-9706-2d5decdad9f8\">\n",
       "    <div class=\"colab-df-container\">\n",
       "      <div>\n",
       "<style scoped>\n",
       "    .dataframe tbody tr th:only-of-type {\n",
       "        vertical-align: middle;\n",
       "    }\n",
       "\n",
       "    .dataframe tbody tr th {\n",
       "        vertical-align: top;\n",
       "    }\n",
       "\n",
       "    .dataframe thead th {\n",
       "        text-align: right;\n",
       "    }\n",
       "</style>\n",
       "<table border=\"1\" class=\"dataframe\">\n",
       "  <thead>\n",
       "    <tr style=\"text-align: right;\">\n",
       "      <th></th>\n",
       "      <th>VIF</th>\n",
       "    </tr>\n",
       "  </thead>\n",
       "  <tbody>\n",
       "    <tr>\n",
       "      <th>age</th>\n",
       "      <td>1.217307</td>\n",
       "    </tr>\n",
       "    <tr>\n",
       "      <th>sex</th>\n",
       "      <td>1.278071</td>\n",
       "    </tr>\n",
       "    <tr>\n",
       "      <th>bmi</th>\n",
       "      <td>1.509437</td>\n",
       "    </tr>\n",
       "    <tr>\n",
       "      <th>bp</th>\n",
       "      <td>1.459428</td>\n",
       "    </tr>\n",
       "    <tr>\n",
       "      <th>s1</th>\n",
       "      <td>59.202510</td>\n",
       "    </tr>\n",
       "    <tr>\n",
       "      <th>s2</th>\n",
       "      <td>39.193370</td>\n",
       "    </tr>\n",
       "    <tr>\n",
       "      <th>s3</th>\n",
       "      <td>15.402156</td>\n",
       "    </tr>\n",
       "    <tr>\n",
       "      <th>s4</th>\n",
       "      <td>8.890986</td>\n",
       "    </tr>\n",
       "    <tr>\n",
       "      <th>s5</th>\n",
       "      <td>10.075967</td>\n",
       "    </tr>\n",
       "    <tr>\n",
       "      <th>s6</th>\n",
       "      <td>1.484623</td>\n",
       "    </tr>\n",
       "  </tbody>\n",
       "</table>\n",
       "</div>\n",
       "      <button class=\"colab-df-convert\" onclick=\"convertToInteractive('df-90ccc415-1cd8-4527-9706-2d5decdad9f8')\"\n",
       "              title=\"Convert this dataframe to an interactive table.\"\n",
       "              style=\"display:none;\">\n",
       "        \n",
       "  <svg xmlns=\"http://www.w3.org/2000/svg\" height=\"24px\"viewBox=\"0 0 24 24\"\n",
       "       width=\"24px\">\n",
       "    <path d=\"M0 0h24v24H0V0z\" fill=\"none\"/>\n",
       "    <path d=\"M18.56 5.44l.94 2.06.94-2.06 2.06-.94-2.06-.94-.94-2.06-.94 2.06-2.06.94zm-11 1L8.5 8.5l.94-2.06 2.06-.94-2.06-.94L8.5 2.5l-.94 2.06-2.06.94zm10 10l.94 2.06.94-2.06 2.06-.94-2.06-.94-.94-2.06-.94 2.06-2.06.94z\"/><path d=\"M17.41 7.96l-1.37-1.37c-.4-.4-.92-.59-1.43-.59-.52 0-1.04.2-1.43.59L10.3 9.45l-7.72 7.72c-.78.78-.78 2.05 0 2.83L4 21.41c.39.39.9.59 1.41.59.51 0 1.02-.2 1.41-.59l7.78-7.78 2.81-2.81c.8-.78.8-2.07 0-2.86zM5.41 20L4 18.59l7.72-7.72 1.47 1.35L5.41 20z\"/>\n",
       "  </svg>\n",
       "      </button>\n",
       "      \n",
       "  <style>\n",
       "    .colab-df-container {\n",
       "      display:flex;\n",
       "      flex-wrap:wrap;\n",
       "      gap: 12px;\n",
       "    }\n",
       "\n",
       "    .colab-df-convert {\n",
       "      background-color: #E8F0FE;\n",
       "      border: none;\n",
       "      border-radius: 50%;\n",
       "      cursor: pointer;\n",
       "      display: none;\n",
       "      fill: #1967D2;\n",
       "      height: 32px;\n",
       "      padding: 0 0 0 0;\n",
       "      width: 32px;\n",
       "    }\n",
       "\n",
       "    .colab-df-convert:hover {\n",
       "      background-color: #E2EBFA;\n",
       "      box-shadow: 0px 1px 2px rgba(60, 64, 67, 0.3), 0px 1px 3px 1px rgba(60, 64, 67, 0.15);\n",
       "      fill: #174EA6;\n",
       "    }\n",
       "\n",
       "    [theme=dark] .colab-df-convert {\n",
       "      background-color: #3B4455;\n",
       "      fill: #D2E3FC;\n",
       "    }\n",
       "\n",
       "    [theme=dark] .colab-df-convert:hover {\n",
       "      background-color: #434B5C;\n",
       "      box-shadow: 0px 1px 3px 1px rgba(0, 0, 0, 0.15);\n",
       "      filter: drop-shadow(0px 1px 2px rgba(0, 0, 0, 0.3));\n",
       "      fill: #FFFFFF;\n",
       "    }\n",
       "  </style>\n",
       "\n",
       "      <script>\n",
       "        const buttonEl =\n",
       "          document.querySelector('#df-90ccc415-1cd8-4527-9706-2d5decdad9f8 button.colab-df-convert');\n",
       "        buttonEl.style.display =\n",
       "          google.colab.kernel.accessAllowed ? 'block' : 'none';\n",
       "\n",
       "        async function convertToInteractive(key) {\n",
       "          const element = document.querySelector('#df-90ccc415-1cd8-4527-9706-2d5decdad9f8');\n",
       "          const dataTable =\n",
       "            await google.colab.kernel.invokeFunction('convertToInteractive',\n",
       "                                                     [key], {});\n",
       "          if (!dataTable) return;\n",
       "\n",
       "          const docLinkHtml = 'Like what you see? Visit the ' +\n",
       "            '<a target=\"_blank\" href=https://colab.research.google.com/notebooks/data_table.ipynb>data table notebook</a>'\n",
       "            + ' to learn more about interactive tables.';\n",
       "          element.innerHTML = '';\n",
       "          dataTable['output_type'] = 'display_data';\n",
       "          await google.colab.output.renderOutput(dataTable, element);\n",
       "          const docLink = document.createElement('div');\n",
       "          docLink.innerHTML = docLinkHtml;\n",
       "          element.appendChild(docLink);\n",
       "        }\n",
       "      </script>\n",
       "    </div>\n",
       "  </div>\n",
       "  "
      ],
      "text/plain": [
       "           VIF\n",
       "age   1.217307\n",
       "sex   1.278071\n",
       "bmi   1.509437\n",
       "bp    1.459428\n",
       "s1   59.202510\n",
       "s2   39.193370\n",
       "s3   15.402156\n",
       "s4    8.890986\n",
       "s5   10.075967\n",
       "s6    1.484623"
      ]
     },
     "execution_count": 35,
     "metadata": {},
     "output_type": "execute_result"
    }
   ],
   "source": [
    "from statsmodels.stats.outliers_influence import variance_inflation_factor\n",
    "vif_df = pd.DataFrame()\n",
    "vif_df[\"VIF\"] = [variance_inflation_factor(df_diabetes.iloc[:, :10].values, i) for i in range(len(df_diabetes.iloc[:, :10].columns))]\n",
    "vif_df = vif_df.set_index(df_diabetes.iloc[:, :10].columns)\n",
    "vif_df"
   ]
  },
  {
   "cell_type": "markdown",
   "metadata": {
    "id": "-ZQWRMklAoJc"
   },
   "source": [
    "### 3.7 3.6の結果を確認すると、VIFの値がかなり大きい説明変数がいくつか見られます。それに対処するために、は主成分分析を行い相関関係が強い変数同士をまとめるという方法があります。そこで、説明変数に対して主成分分析を行い、次元数を4つに落としてください。また、次元削減後の説明変数を表示してください。"
   ]
  },
  {
   "cell_type": "code",
   "execution_count": 36,
   "metadata": {
    "colab": {
     "base_uri": "https://localhost:8080/"
    },
    "executionInfo": {
     "elapsed": 517,
     "status": "ok",
     "timestamp": 1679925367393,
     "user": {
      "displayName": "大谷津椋",
      "userId": "03391922001198405443"
     },
     "user_tz": -540
    },
    "id": "Kb8yA1Moub8O",
    "outputId": "a2607dd5-1cf9-4ff4-bc52-4a5223c26f25"
   },
   "outputs": [
    {
     "data": {
      "text/plain": [
       "array([[ 0.02793021, -0.09260136,  0.02802565, -0.00393914],\n",
       "       [-0.13468668,  0.06526327,  0.00132849, -0.02235602],\n",
       "       [ 0.01294384, -0.07776432,  0.03516224, -0.03764745],\n",
       "       ...,\n",
       "       [-0.00976067, -0.05733918,  0.02360117, -0.06437324],\n",
       "       [ 0.03295652,  0.00999473, -0.04132099,  0.07690302],\n",
       "       [-0.09056122,  0.18910841, -0.0022992 , -0.01049425]])"
      ]
     },
     "execution_count": 36,
     "metadata": {},
     "output_type": "execute_result"
    }
   ],
   "source": [
    "# PCA\n",
    "from sklearn.decomposition import PCA\n",
    "pca = PCA(n_components=4)\n",
    "pca.fit(df_diabetes.iloc[:, :10].values)\n",
    "# 次元削減後のデータに変換\n",
    "decomposed = pca.transform(df_diabetes.iloc[:, :10].values)\n",
    "decomposed"
   ]
  },
  {
   "cell_type": "markdown",
   "metadata": {
    "id": "2WqTJsQ9BP7c"
   },
   "source": [
    "### 3.8 3.7で作成した説明変数を用いて、3.2と同様の線形回帰を行なってください。"
   ]
  },
  {
   "cell_type": "code",
   "execution_count": 37,
   "metadata": {
    "colab": {
     "base_uri": "https://localhost:8080/",
     "height": 516
    },
    "executionInfo": {
     "elapsed": 287,
     "status": "ok",
     "timestamp": 1679925373643,
     "user": {
      "displayName": "大谷津椋",
      "userId": "03391922001198405443"
     },
     "user_tz": -540
    },
    "id": "2WLGrywRvj2L",
    "outputId": "1c2f0dcc-b7a1-404e-de43-77254b5fa3d4"
   },
   "outputs": [
    {
     "data": {
      "text/html": [
       "<table class=\"simpletable\">\n",
       "<caption>OLS Regression Results</caption>\n",
       "<tr>\n",
       "  <th>Dep. Variable:</th>            <td>y</td>        <th>  R-squared:         </th> <td>   0.500</td>\n",
       "</tr>\n",
       "<tr>\n",
       "  <th>Model:</th>                   <td>OLS</td>       <th>  Adj. R-squared:    </th> <td>   0.496</td>\n",
       "</tr>\n",
       "<tr>\n",
       "  <th>Method:</th>             <td>Least Squares</td>  <th>  F-statistic:       </th> <td>   109.4</td>\n",
       "</tr>\n",
       "<tr>\n",
       "  <th>Date:</th>             <td>Mon, 27 Mar 2023</td> <th>  Prob (F-statistic):</th> <td>1.62e-64</td>\n",
       "</tr>\n",
       "<tr>\n",
       "  <th>Time:</th>                 <td>13:56:13</td>     <th>  Log-Likelihood:    </th> <td> -2393.8</td>\n",
       "</tr>\n",
       "<tr>\n",
       "  <th>No. Observations:</th>      <td>   442</td>      <th>  AIC:               </th> <td>   4798.</td>\n",
       "</tr>\n",
       "<tr>\n",
       "  <th>Df Residuals:</th>          <td>   437</td>      <th>  BIC:               </th> <td>   4818.</td>\n",
       "</tr>\n",
       "<tr>\n",
       "  <th>Df Model:</th>              <td>     4</td>      <th>                     </th>     <td> </td>   \n",
       "</tr>\n",
       "<tr>\n",
       "  <th>Covariance Type:</th>      <td>nonrobust</td>    <th>                     </th>     <td> </td>   \n",
       "</tr>\n",
       "</table>\n",
       "<table class=\"simpletable\">\n",
       "<tr>\n",
       "    <td></td>       <th>coef</th>     <th>std err</th>      <th>t</th>      <th>P>|t|</th>  <th>[0.025</th>    <th>0.975]</th>  \n",
       "</tr>\n",
       "<tr>\n",
       "  <th>const</th> <td>  152.1335</td> <td>    2.604</td> <td>   58.424</td> <td> 0.000</td> <td>  147.016</td> <td>  157.251</td>\n",
       "</tr>\n",
       "<tr>\n",
       "  <th>x1</th>    <td>  448.1948</td> <td>   27.290</td> <td>   16.423</td> <td> 0.000</td> <td>  394.559</td> <td>  501.831</td>\n",
       "</tr>\n",
       "<tr>\n",
       "  <th>x2</th>    <td> -256.7489</td> <td>   44.814</td> <td>   -5.729</td> <td> 0.000</td> <td> -344.827</td> <td> -168.671</td>\n",
       "</tr>\n",
       "<tr>\n",
       "  <th>x3</th>    <td>  238.2413</td> <td>   49.851</td> <td>    4.779</td> <td> 0.000</td> <td>  140.263</td> <td>  336.220</td>\n",
       "</tr>\n",
       "<tr>\n",
       "  <th>x4</th>    <td>  593.1035</td> <td>   56.006</td> <td>   10.590</td> <td> 0.000</td> <td>  483.029</td> <td>  703.178</td>\n",
       "</tr>\n",
       "</table>\n",
       "<table class=\"simpletable\">\n",
       "<tr>\n",
       "  <th>Omnibus:</th>       <td> 4.384</td> <th>  Durbin-Watson:     </th> <td>   1.950</td>\n",
       "</tr>\n",
       "<tr>\n",
       "  <th>Prob(Omnibus):</th> <td> 0.112</td> <th>  Jarque-Bera (JB):  </th> <td>   3.180</td>\n",
       "</tr>\n",
       "<tr>\n",
       "  <th>Skew:</th>          <td> 0.044</td> <th>  Prob(JB):          </th> <td>   0.204</td>\n",
       "</tr>\n",
       "<tr>\n",
       "  <th>Kurtosis:</th>      <td> 2.594</td> <th>  Cond. No.          </th> <td>    21.5</td>\n",
       "</tr>\n",
       "</table><br/><br/>Notes:<br/>[1] Standard Errors assume that the covariance matrix of the errors is correctly specified."
      ],
      "text/plain": [
       "<class 'statsmodels.iolib.summary.Summary'>\n",
       "\"\"\"\n",
       "                            OLS Regression Results                            \n",
       "==============================================================================\n",
       "Dep. Variable:                      y   R-squared:                       0.500\n",
       "Model:                            OLS   Adj. R-squared:                  0.496\n",
       "Method:                 Least Squares   F-statistic:                     109.4\n",
       "Date:                Mon, 27 Mar 2023   Prob (F-statistic):           1.62e-64\n",
       "Time:                        13:56:13   Log-Likelihood:                -2393.8\n",
       "No. Observations:                 442   AIC:                             4798.\n",
       "Df Residuals:                     437   BIC:                             4818.\n",
       "Df Model:                           4                                         \n",
       "Covariance Type:            nonrobust                                         \n",
       "==============================================================================\n",
       "                 coef    std err          t      P>|t|      [0.025      0.975]\n",
       "------------------------------------------------------------------------------\n",
       "const        152.1335      2.604     58.424      0.000     147.016     157.251\n",
       "x1           448.1948     27.290     16.423      0.000     394.559     501.831\n",
       "x2          -256.7489     44.814     -5.729      0.000    -344.827    -168.671\n",
       "x3           238.2413     49.851      4.779      0.000     140.263     336.220\n",
       "x4           593.1035     56.006     10.590      0.000     483.029     703.178\n",
       "==============================================================================\n",
       "Omnibus:                        4.384   Durbin-Watson:                   1.950\n",
       "Prob(Omnibus):                  0.112   Jarque-Bera (JB):                3.180\n",
       "Skew:                           0.044   Prob(JB):                        0.204\n",
       "Kurtosis:                       2.594   Cond. No.                         21.5\n",
       "==============================================================================\n",
       "\n",
       "Notes:\n",
       "[1] Standard Errors assume that the covariance matrix of the errors is correctly specified.\n",
       "\"\"\""
      ]
     },
     "execution_count": 37,
     "metadata": {},
     "output_type": "execute_result"
    }
   ],
   "source": [
    "df_pca=pd.DataFrame(decomposed,columns=[f\"x{i+1}\" for i in range(len(decomposed[0]))])\n",
    "df_pca['target'] = y\n",
    "# df_pca\n",
    "x2 = sm.add_constant(df_pca.iloc[:, :4])\n",
    "model_ = sm.OLS(df_pca['target'].values, x2)\n",
    "res_ = model_.fit()\n",
    "res_.summary()"
   ]
  },
  {
   "cell_type": "markdown",
   "metadata": {
    "id": "vk8f_VH7Bvrv"
   },
   "source": [
    "### 3.9 多重共線性に対処するために主成分分析を行うと、各説明変数が統合され、解釈性が落ちるという欠点があります。そこで別の方法として、L1正則化を行うことでいくつかの変数の係数を0にする方法もあります。それでは、`statsmodels`モジュールを用いて、L1正則化を用いたLasso回帰を行なってください。学習の際に`alpha`引数は1.0に指定してください。また、その結果得られた各変数の係数を表示してください。"
   ]
  },
  {
   "cell_type": "code",
   "execution_count": 38,
   "metadata": {
    "colab": {
     "base_uri": "https://localhost:8080/"
    },
    "executionInfo": {
     "elapsed": 310,
     "status": "ok",
     "timestamp": 1679925382034,
     "user": {
      "displayName": "大谷津椋",
      "userId": "03391922001198405443"
     },
     "user_tz": -540
    },
    "id": "lx6ZfjyTpChI",
    "outputId": "4b257cea-cf37-4080-991e-1ce85320f8d1"
   },
   "outputs": [
    {
     "data": {
      "text/plain": [
       "array([151.13348416,   0.        ,   0.        , 367.70162582,\n",
       "         6.30970264,   0.        ,   0.        ,   0.        ,\n",
       "         0.        , 307.60214746,   0.        ])"
      ]
     },
     "execution_count": 38,
     "metadata": {},
     "output_type": "execute_result"
    }
   ],
   "source": [
    "sml1 = sm.OLS(y1, x1).fit_regularized(alpha=1)\n",
    "sml1.params"
   ]
  },
  {
   "cell_type": "markdown",
   "metadata": {
    "id": "z_nXBZU0J_dY"
   },
   "source": [
    "### 3.10 3.9で得られた各説明変数の係数を3.3と同様に可視化してください。"
   ]
  },
  {
   "cell_type": "code",
   "execution_count": 39,
   "metadata": {
    "colab": {
     "base_uri": "https://localhost:8080/",
     "height": 264
    },
    "executionInfo": {
     "elapsed": 424,
     "status": "ok",
     "timestamp": 1679925386633,
     "user": {
      "displayName": "大谷津椋",
      "userId": "03391922001198405443"
     },
     "user_tz": -540
    },
    "id": "SlgfikVmKGEO",
    "outputId": "feaa7019-7431-41fd-cd70-684739ab007f"
   },
   "outputs": [
    {
     "data": {
      "image/png": "[encoded data removed]",
      "text/plain": [
       "<Figure size 432x288 with 1 Axes>"
      ]
     },
     "metadata": {
      "needs_background": "light"
     },
     "output_type": "display_data"
    }
   ],
   "source": [
    "plt.bar(df_diabetes.iloc[:, :10].columns, sml1.params[1:])\n",
    "plt.show()"
   ]
  },
  {
   "cell_type": "markdown",
   "metadata": {
    "id": "KGuMrtctEgRB"
   },
   "source": [
    "### 3.11 3.9で作成したモデルを用いて予測される値のMAEを算出してください。"
   ]
  },
  {
   "cell_type": "code",
   "execution_count": 40,
   "metadata": {
    "colab": {
     "base_uri": "https://localhost:8080/"
    },
    "executionInfo": {
     "elapsed": 305,
     "status": "ok",
     "timestamp": 1679925390942,
     "user": {
      "displayName": "大谷津椋",
      "userId": "03391922001198405443"
     },
     "user_tz": -540
    },
    "id": "S2iMbzpuEAJF",
    "outputId": "3676ff34-6fea-4b4a-f6eb-7cdce4cd5013"
   },
   "outputs": [
    {
     "name": "stdout",
     "output_type": "stream",
     "text": [
      "MAE 52.48840206825258\n"
     ]
    }
   ],
   "source": [
    "pred = sml1.predict(x1)\n",
    "mae = meanabs(y1, pred)\n",
    "print('MAE', mae)"
   ]
  },
  {
   "cell_type": "markdown",
   "metadata": {
    "id": "8t_K04jNXtDV"
   },
   "source": [
    "3つ以外の説明変数を全て削除してしまったため、MAEが大幅に増加しました。"
   ]
  },
  {
   "cell_type": "markdown",
   "metadata": {
    "id": "c2_2WjdNLpZm"
   },
   "source": [
    "### 3.12 3.9では、正則化によって説明変数が3つしか残りませんでした。そこで、次は`alpha`引数に0.1を指定して3.9と同様の学習を行なってください。また、その後各説明変数の結果を3.10と同様に可視化してください。"
   ]
  },
  {
   "cell_type": "code",
   "execution_count": 41,
   "metadata": {
    "colab": {
     "base_uri": "https://localhost:8080/",
     "height": 264
    },
    "executionInfo": {
     "elapsed": 757,
     "status": "ok",
     "timestamp": 1679925403340,
     "user": {
      "displayName": "大谷津椋",
      "userId": "03391922001198405443"
     },
     "user_tz": -540
    },
    "id": "kF0c8Ns9Lo4K",
    "outputId": "151b807e-75e6-43e7-c76f-b2e07d83cf2b"
   },
   "outputs": [
    {
     "data": {
      "image/png": "[encoded data removed]",
      "text/plain": [
       "<Figure size 432x288 with 1 Axes>"
      ]
     },
     "metadata": {
      "needs_background": "light"
     },
     "output_type": "display_data"
    }
   ],
   "source": [
    "sml2 = sm.OLS(y1, x1).fit_regularized(alpha=0.1)\n",
    "c2 = [('b' if i > 0 else 'r') for i in sml2.params[1:]]\n",
    "plt.bar(df_diabetes.iloc[:, :10].columns, sml2.params[1:], color=c2)\n",
    "plt.show()"
   ]
  },
  {
   "cell_type": "markdown",
   "metadata": {
    "id": "16GNf4W5Xar2"
   },
   "source": [
    "これで説明変数をある程度残したまま正則化を行うことができました。"
   ]
  },
  {
   "cell_type": "markdown",
   "metadata": {
    "id": "RYcLzuN1Lvb6"
   },
   "source": [
    "### 3.13 最後に、3.12で作成したモデルを用いてMAEを計算してください。"
   ]
  },
  {
   "cell_type": "code",
   "execution_count": 42,
   "metadata": {
    "colab": {
     "base_uri": "https://localhost:8080/"
    },
    "executionInfo": {
     "elapsed": 305,
     "status": "ok",
     "timestamp": 1679925408751,
     "user": {
      "displayName": "大谷津椋",
      "userId": "03391922001198405443"
     },
     "user_tz": -540
    },
    "id": "j0Dm31GIAhoq",
    "outputId": "8847669f-6598-404a-cecc-e5bcca9e6445"
   },
   "outputs": [
    {
     "name": "stdout",
     "output_type": "stream",
     "text": [
      "MAE 44.11951849747416\n"
     ]
    }
   ],
   "source": [
    "pred2 = sml2.predict(x1)\n",
    "mae = meanabs(y1, pred2)\n",
    "print('MAE', mae)"
   ]
  },
  {
   "cell_type": "markdown",
   "metadata": {
    "id": "lar1DZOHJnKO"
   },
   "source": [
    "## 4. ロジスティック分析について学習します。(10問)"
   ]
  },
  {
   "cell_type": "markdown",
   "metadata": {
    "id": "2yy9WwjFV8G2"
   },
   "source": [
    "### 4.1 次のデータは、赤ワインの成分に関するデータと、それぞれの赤ワインのクオリティを数値で表したデータです。クオリティは0から10で表されているので、これを5以下・6以上にわけてそれぞれ0, 1と割り振ったものを目的変数とします。`X_wine`, `y_wine`にそれぞれ説明変数と目的変数が格納されています。"
   ]
  },
  {
   "cell_type": "markdown",
   "metadata": {
    "id": "lqLtKIi7lUD-"
   },
   "source": [
    "> 出典: Dua, D. and Graff, C. (2019). UCI Machine Learning Repository [http://archive.ics.uci.edu/ml]. Irvine, CA: University of California, School of Information and Computer Science."
   ]
  },
  {
   "cell_type": "code",
   "execution_count": 43,
   "metadata": {
    "colab": {
     "base_uri": "https://localhost:8080/",
     "height": 424
    },
    "executionInfo": {
     "elapsed": 1640,
     "status": "ok",
     "timestamp": 1679925417059,
     "user": {
      "displayName": "大谷津椋",
      "userId": "03391922001198405443"
     },
     "user_tz": -540
    },
    "id": "IZS60ROsJpQD",
    "outputId": "81666897-8bf3-4251-d640-9426822085e0"
   },
   "outputs": [
    {
     "data": {
      "text/html": [
       "\n",
       "  <div id=\"df-91ded31d-078f-426c-b387-5c2c2354f07f\">\n",
       "    <div class=\"colab-df-container\">\n",
       "      <div>\n",
       "<style scoped>\n",
       "    .dataframe tbody tr th:only-of-type {\n",
       "        vertical-align: middle;\n",
       "    }\n",
       "\n",
       "    .dataframe tbody tr th {\n",
       "        vertical-align: top;\n",
       "    }\n",
       "\n",
       "    .dataframe thead th {\n",
       "        text-align: right;\n",
       "    }\n",
       "</style>\n",
       "<table border=\"1\" class=\"dataframe\">\n",
       "  <thead>\n",
       "    <tr style=\"text-align: right;\">\n",
       "      <th></th>\n",
       "      <th>fixed acidity</th>\n",
       "      <th>volatile acidity</th>\n",
       "      <th>citric acid</th>\n",
       "      <th>residual sugar</th>\n",
       "      <th>chlorides</th>\n",
       "      <th>free sulfur dioxide</th>\n",
       "      <th>total sulfur dioxide</th>\n",
       "      <th>density</th>\n",
       "      <th>pH</th>\n",
       "      <th>sulphates</th>\n",
       "      <th>alcohol</th>\n",
       "      <th>quality</th>\n",
       "      <th>quality_binary</th>\n",
       "    </tr>\n",
       "  </thead>\n",
       "  <tbody>\n",
       "    <tr>\n",
       "      <th>0</th>\n",
       "      <td>7.4</td>\n",
       "      <td>0.700</td>\n",
       "      <td>0.00</td>\n",
       "      <td>1.9</td>\n",
       "      <td>0.076</td>\n",
       "      <td>11.0</td>\n",
       "      <td>34.0</td>\n",
       "      <td>0.99780</td>\n",
       "      <td>3.51</td>\n",
       "      <td>0.56</td>\n",
       "      <td>9.4</td>\n",
       "      <td>5</td>\n",
       "      <td>0</td>\n",
       "    </tr>\n",
       "    <tr>\n",
       "      <th>1</th>\n",
       "      <td>7.8</td>\n",
       "      <td>0.880</td>\n",
       "      <td>0.00</td>\n",
       "      <td>2.6</td>\n",
       "      <td>0.098</td>\n",
       "      <td>25.0</td>\n",
       "      <td>67.0</td>\n",
       "      <td>0.99680</td>\n",
       "      <td>3.20</td>\n",
       "      <td>0.68</td>\n",
       "      <td>9.8</td>\n",
       "      <td>5</td>\n",
       "      <td>0</td>\n",
       "    </tr>\n",
       "    <tr>\n",
       "      <th>2</th>\n",
       "      <td>7.8</td>\n",
       "      <td>0.760</td>\n",
       "      <td>0.04</td>\n",
       "      <td>2.3</td>\n",
       "      <td>0.092</td>\n",
       "      <td>15.0</td>\n",
       "      <td>54.0</td>\n",
       "      <td>0.99700</td>\n",
       "      <td>3.26</td>\n",
       "      <td>0.65</td>\n",
       "      <td>9.8</td>\n",
       "      <td>5</td>\n",
       "      <td>0</td>\n",
       "    </tr>\n",
       "    <tr>\n",
       "      <th>3</th>\n",
       "      <td>11.2</td>\n",
       "      <td>0.280</td>\n",
       "      <td>0.56</td>\n",
       "      <td>1.9</td>\n",
       "      <td>0.075</td>\n",
       "      <td>17.0</td>\n",
       "      <td>60.0</td>\n",
       "      <td>0.99800</td>\n",
       "      <td>3.16</td>\n",
       "      <td>0.58</td>\n",
       "      <td>9.8</td>\n",
       "      <td>6</td>\n",
       "      <td>1</td>\n",
       "    </tr>\n",
       "    <tr>\n",
       "      <th>4</th>\n",
       "      <td>7.4</td>\n",
       "      <td>0.700</td>\n",
       "      <td>0.00</td>\n",
       "      <td>1.9</td>\n",
       "      <td>0.076</td>\n",
       "      <td>11.0</td>\n",
       "      <td>34.0</td>\n",
       "      <td>0.99780</td>\n",
       "      <td>3.51</td>\n",
       "      <td>0.56</td>\n",
       "      <td>9.4</td>\n",
       "      <td>5</td>\n",
       "      <td>0</td>\n",
       "    </tr>\n",
       "    <tr>\n",
       "      <th>...</th>\n",
       "      <td>...</td>\n",
       "      <td>...</td>\n",
       "      <td>...</td>\n",
       "      <td>...</td>\n",
       "      <td>...</td>\n",
       "      <td>...</td>\n",
       "      <td>...</td>\n",
       "      <td>...</td>\n",
       "      <td>...</td>\n",
       "      <td>...</td>\n",
       "      <td>...</td>\n",
       "      <td>...</td>\n",
       "      <td>...</td>\n",
       "    </tr>\n",
       "    <tr>\n",
       "      <th>1594</th>\n",
       "      <td>6.2</td>\n",
       "      <td>0.600</td>\n",
       "      <td>0.08</td>\n",
       "      <td>2.0</td>\n",
       "      <td>0.090</td>\n",
       "      <td>32.0</td>\n",
       "      <td>44.0</td>\n",
       "      <td>0.99490</td>\n",
       "      <td>3.45</td>\n",
       "      <td>0.58</td>\n",
       "      <td>10.5</td>\n",
       "      <td>5</td>\n",
       "      <td>0</td>\n",
       "    </tr>\n",
       "    <tr>\n",
       "      <th>1595</th>\n",
       "      <td>5.9</td>\n",
       "      <td>0.550</td>\n",
       "      <td>0.10</td>\n",
       "      <td>2.2</td>\n",
       "      <td>0.062</td>\n",
       "      <td>39.0</td>\n",
       "      <td>51.0</td>\n",
       "      <td>0.99512</td>\n",
       "      <td>3.52</td>\n",
       "      <td>0.76</td>\n",
       "      <td>11.2</td>\n",
       "      <td>6</td>\n",
       "      <td>1</td>\n",
       "    </tr>\n",
       "    <tr>\n",
       "      <th>1596</th>\n",
       "      <td>6.3</td>\n",
       "      <td>0.510</td>\n",
       "      <td>0.13</td>\n",
       "      <td>2.3</td>\n",
       "      <td>0.076</td>\n",
       "      <td>29.0</td>\n",
       "      <td>40.0</td>\n",
       "      <td>0.99574</td>\n",
       "      <td>3.42</td>\n",
       "      <td>0.75</td>\n",
       "      <td>11.0</td>\n",
       "      <td>6</td>\n",
       "      <td>1</td>\n",
       "    </tr>\n",
       "    <tr>\n",
       "      <th>1597</th>\n",
       "      <td>5.9</td>\n",
       "      <td>0.645</td>\n",
       "      <td>0.12</td>\n",
       "      <td>2.0</td>\n",
       "      <td>0.075</td>\n",
       "      <td>32.0</td>\n",
       "      <td>44.0</td>\n",
       "      <td>0.99547</td>\n",
       "      <td>3.57</td>\n",
       "      <td>0.71</td>\n",
       "      <td>10.2</td>\n",
       "      <td>5</td>\n",
       "      <td>0</td>\n",
       "    </tr>\n",
       "    <tr>\n",
       "      <th>1598</th>\n",
       "      <td>6.0</td>\n",
       "      <td>0.310</td>\n",
       "      <td>0.47</td>\n",
       "      <td>3.6</td>\n",
       "      <td>0.067</td>\n",
       "      <td>18.0</td>\n",
       "      <td>42.0</td>\n",
       "      <td>0.99549</td>\n",
       "      <td>3.39</td>\n",
       "      <td>0.66</td>\n",
       "      <td>11.0</td>\n",
       "      <td>6</td>\n",
       "      <td>1</td>\n",
       "    </tr>\n",
       "  </tbody>\n",
       "</table>\n",
       "<p>1599 rows × 13 columns</p>\n",
       "</div>\n",
       "      <button class=\"colab-df-convert\" onclick=\"convertToInteractive('df-91ded31d-078f-426c-b387-5c2c2354f07f')\"\n",
       "              title=\"Convert this dataframe to an interactive table.\"\n",
       "              style=\"display:none;\">\n",
       "        \n",
       "  <svg xmlns=\"http://www.w3.org/2000/svg\" height=\"24px\"viewBox=\"0 0 24 24\"\n",
       "       width=\"24px\">\n",
       "    <path d=\"M0 0h24v24H0V0z\" fill=\"none\"/>\n",
       "    <path d=\"M18.56 5.44l.94 2.06.94-2.06 2.06-.94-2.06-.94-.94-2.06-.94 2.06-2.06.94zm-11 1L8.5 8.5l.94-2.06 2.06-.94-2.06-.94L8.5 2.5l-.94 2.06-2.06.94zm10 10l.94 2.06.94-2.06 2.06-.94-2.06-.94-.94-2.06-.94 2.06-2.06.94z\"/><path d=\"M17.41 7.96l-1.37-1.37c-.4-.4-.92-.59-1.43-.59-.52 0-1.04.2-1.43.59L10.3 9.45l-7.72 7.72c-.78.78-.78 2.05 0 2.83L4 21.41c.39.39.9.59 1.41.59.51 0 1.02-.2 1.41-.59l7.78-7.78 2.81-2.81c.8-.78.8-2.07 0-2.86zM5.41 20L4 18.59l7.72-7.72 1.47 1.35L5.41 20z\"/>\n",
       "  </svg>\n",
       "      </button>\n",
       "      \n",
       "  <style>\n",
       "    .colab-df-container {\n",
       "      display:flex;\n",
       "      flex-wrap:wrap;\n",
       "      gap: 12px;\n",
       "    }\n",
       "\n",
       "    .colab-df-convert {\n",
       "      background-color: #E8F0FE;\n",
       "      border: none;\n",
       "      border-radius: 50%;\n",
       "      cursor: pointer;\n",
       "      display: none;\n",
       "      fill: #1967D2;\n",
       "      height: 32px;\n",
       "      padding: 0 0 0 0;\n",
       "      width: 32px;\n",
       "    }\n",
       "\n",
       "    .colab-df-convert:hover {\n",
       "      background-color: #E2EBFA;\n",
       "      box-shadow: 0px 1px 2px rgba(60, 64, 67, 0.3), 0px 1px 3px 1px rgba(60, 64, 67, 0.15);\n",
       "      fill: #174EA6;\n",
       "    }\n",
       "\n",
       "    [theme=dark] .colab-df-convert {\n",
       "      background-color: #3B4455;\n",
       "      fill: #D2E3FC;\n",
       "    }\n",
       "\n",
       "    [theme=dark] .colab-df-convert:hover {\n",
       "      background-color: #434B5C;\n",
       "      box-shadow: 0px 1px 3px 1px rgba(0, 0, 0, 0.15);\n",
       "      filter: drop-shadow(0px 1px 2px rgba(0, 0, 0, 0.3));\n",
       "      fill: #FFFFFF;\n",
       "    }\n",
       "  </style>\n",
       "\n",
       "      <script>\n",
       "        const buttonEl =\n",
       "          document.querySelector('#df-91ded31d-078f-426c-b387-5c2c2354f07f button.colab-df-convert');\n",
       "        buttonEl.style.display =\n",
       "          google.colab.kernel.accessAllowed ? 'block' : 'none';\n",
       "\n",
       "        async function convertToInteractive(key) {\n",
       "          const element = document.querySelector('#df-91ded31d-078f-426c-b387-5c2c2354f07f');\n",
       "          const dataTable =\n",
       "            await google.colab.kernel.invokeFunction('convertToInteractive',\n",
       "                                                     [key], {});\n",
       "          if (!dataTable) return;\n",
       "\n",
       "          const docLinkHtml = 'Like what you see? Visit the ' +\n",
       "            '<a target=\"_blank\" href=https://colab.research.google.com/notebooks/data_table.ipynb>data table notebook</a>'\n",
       "            + ' to learn more about interactive tables.';\n",
       "          element.innerHTML = '';\n",
       "          dataTable['output_type'] = 'display_data';\n",
       "          await google.colab.output.renderOutput(dataTable, element);\n",
       "          const docLink = document.createElement('div');\n",
       "          docLink.innerHTML = docLinkHtml;\n",
       "          element.appendChild(docLink);\n",
       "        }\n",
       "      </script>\n",
       "    </div>\n",
       "  </div>\n",
       "  "
      ],
      "text/plain": [
       "      fixed acidity  volatile acidity  citric acid  residual sugar  chlorides  \\\n",
       "0               7.4             0.700         0.00             1.9      0.076   \n",
       "1               7.8             0.880         0.00             2.6      0.098   \n",
       "2               7.8             0.760         0.04             2.3      0.092   \n",
       "3              11.2             0.280         0.56             1.9      0.075   \n",
       "4               7.4             0.700         0.00             1.9      0.076   \n",
       "...             ...               ...          ...             ...        ...   \n",
       "1594            6.2             0.600         0.08             2.0      0.090   \n",
       "1595            5.9             0.550         0.10             2.2      0.062   \n",
       "1596            6.3             0.510         0.13             2.3      0.076   \n",
       "1597            5.9             0.645         0.12             2.0      0.075   \n",
       "1598            6.0             0.310         0.47             3.6      0.067   \n",
       "\n",
       "      free sulfur dioxide  total sulfur dioxide  density    pH  sulphates  \\\n",
       "0                    11.0                  34.0  0.99780  3.51       0.56   \n",
       "1                    25.0                  67.0  0.99680  3.20       0.68   \n",
       "2                    15.0                  54.0  0.99700  3.26       0.65   \n",
       "3                    17.0                  60.0  0.99800  3.16       0.58   \n",
       "4                    11.0                  34.0  0.99780  3.51       0.56   \n",
       "...                   ...                   ...      ...   ...        ...   \n",
       "1594                 32.0                  44.0  0.99490  3.45       0.58   \n",
       "1595                 39.0                  51.0  0.99512  3.52       0.76   \n",
       "1596                 29.0                  40.0  0.99574  3.42       0.75   \n",
       "1597                 32.0                  44.0  0.99547  3.57       0.71   \n",
       "1598                 18.0                  42.0  0.99549  3.39       0.66   \n",
       "\n",
       "      alcohol  quality  quality_binary  \n",
       "0         9.4        5               0  \n",
       "1         9.8        5               0  \n",
       "2         9.8        5               0  \n",
       "3         9.8        6               1  \n",
       "4         9.4        5               0  \n",
       "...       ...      ...             ...  \n",
       "1594     10.5        5               0  \n",
       "1595     11.2        6               1  \n",
       "1596     11.0        6               1  \n",
       "1597     10.2        5               0  \n",
       "1598     11.0        6               1  \n",
       "\n",
       "[1599 rows x 13 columns]"
      ]
     },
     "metadata": {},
     "output_type": "display_data"
    }
   ],
   "source": [
    "# こちらのセルを実行してください。\n",
    "import pandas as pd\n",
    "import numpy as np\n",
    "import matplotlib.pyplot as plt\n",
    "import urllib.request\n",
    "url = 'https://raw.githubusercontent.com/chemo-wakate/tutorial-6th/master/beginner/data/winequality-red.txt'\n",
    "\n",
    "urllib.request.urlretrieve(url, 'winequality_red.txt')\n",
    "\n",
    "df_redwine = pd.read_csv('winequality_red.txt', sep='\\t', index_col=0)\n",
    "df_redwine['quality_binary'] = np.where(df_redwine['quality'] >=6, 1, 0)\n",
    "display(df_redwine)\n",
    "\n",
    "X_wine = df_redwine.loc[:, :'alcohol'].copy().values\n",
    "y_wine = df_redwine['quality_binary'].copy().values"
   ]
  },
  {
   "cell_type": "markdown",
   "metadata": {
    "id": "5X7tPux0KVRx"
   },
   "source": [
    "各列は次の意味を持っています。\n",
    "- fixed acidity : 不揮発酸濃度(ほぼ酒石酸濃度)\n",
    "- volatile acidity : 揮発酸濃度(ほぼ酢酸濃度)\n",
    "- citric acid : クエン酸濃度\n",
    "- residual sugar : 残存糖濃度\n",
    "- chlorides : 塩化物濃度\n",
    "- free sulfur dioxide : 遊離亜硫酸濃度\n",
    "- total sulfur dioxide : 全亜硫酸濃度\n",
    "- density : 密度\n",
    "- pH : pH\n",
    "- sulphates : 硫酸塩濃度\n",
    "- alcohol : アルコール度数\n",
    "- quality : 0-10 の値で示される品質のスコア\n",
    "- quality_binary : qualityが6以上のものを1, 5以下のものを0としたカテゴリ変数"
   ]
  },
  {
   "cell_type": "markdown",
   "metadata": {
    "id": "9QDXq8KOWT9_"
   },
   "source": [
    "### 4.2 まず、目的変数の分布を確認します。横軸に各データのインデックス、縦軸に各データの目的変数をとった散布図を描画してください。"
   ]
  },
  {
   "cell_type": "code",
   "execution_count": 44,
   "metadata": {
    "colab": {
     "base_uri": "https://localhost:8080/",
     "height": 282
    },
    "executionInfo": {
     "elapsed": 421,
     "status": "ok",
     "timestamp": 1679925422176,
     "user": {
      "displayName": "大谷津椋",
      "userId": "03391922001198405443"
     },
     "user_tz": -540
    },
    "id": "_A_t4B8vipNc",
    "outputId": "7ab5b475-987b-476d-f8c0-9bf54be6b210"
   },
   "outputs": [
    {
     "data": {
      "text/plain": [
       "<matplotlib.collections.PathCollection at 0x7fc6f0a6fdf0>"
      ]
     },
     "execution_count": 44,
     "metadata": {},
     "output_type": "execute_result"
    },
    {
     "data": {
      "image/png": "[encoded data removed]",
      "text/plain": [
       "<Figure size 432x288 with 1 Axes>"
      ]
     },
     "metadata": {
      "needs_background": "light"
     },
     "output_type": "display_data"
    }
   ],
   "source": [
    "plt.scatter(x=df_redwine.index, y=df_redwine['quality_binary'], s=0.5, alpha=0.5)"
   ]
  },
  {
   "cell_type": "markdown",
   "metadata": {
    "id": "Hjw0aUN2A8EZ"
   },
   "source": [
    "このように、今回のデータの目的変数は1(クオリティの値が6以上)か0(クオリティの値が5以下)の2値であることがわかります。"
   ]
  },
  {
   "cell_type": "markdown",
   "metadata": {
    "id": "AN3_g--fkM__"
   },
   "source": [
    "### 4.3 今回のデータでは説明変数がスケーリングされていません。そのため、各説明変数の影響を平等に評価するには、標準化してスケールを合わせる必要があります。説明変数を標準化して、標準化した後の説明変数を表示してください。"
   ]
  },
  {
   "cell_type": "code",
   "execution_count": 45,
   "metadata": {
    "colab": {
     "base_uri": "https://localhost:8080/"
    },
    "executionInfo": {
     "elapsed": 5,
     "status": "ok",
     "timestamp": 1679925427611,
     "user": {
      "displayName": "大谷津椋",
      "userId": "03391922001198405443"
     },
     "user_tz": -540
    },
    "id": "WA-5ohFvV7by",
    "outputId": "89d56eda-6552-43e2-a5ca-6ef8c42a04b0"
   },
   "outputs": [
    {
     "data": {
      "text/plain": [
       "array([[-0.52835961,  0.96187667, -1.39147228, ...,  1.28864292,\n",
       "        -0.57920652, -0.96024611],\n",
       "       [-0.29854743,  1.96744245, -1.39147228, ..., -0.7199333 ,\n",
       "         0.1289504 , -0.58477711],\n",
       "       [-0.29854743,  1.29706527, -1.18607043, ..., -0.33117661,\n",
       "        -0.04808883, -0.58477711],\n",
       "       ...,\n",
       "       [-1.1603431 , -0.09955388, -0.72391627, ...,  0.70550789,\n",
       "         0.54204194,  0.54162988],\n",
       "       [-1.39015528,  0.65462046, -0.77526673, ...,  1.6773996 ,\n",
       "         0.30598963, -0.20930812],\n",
       "       [-1.33270223, -1.21684919,  1.02199944, ...,  0.51112954,\n",
       "         0.01092425,  0.54162988]])"
      ]
     },
     "execution_count": 45,
     "metadata": {},
     "output_type": "execute_result"
    }
   ],
   "source": [
    "from sklearn.preprocessing import StandardScaler\n",
    "std = StandardScaler()\n",
    "X_std = std.fit_transform(X_wine)\n",
    "X_std"
   ]
  },
  {
   "cell_type": "markdown",
   "metadata": {
    "id": "6Yi3V3FhkPLj"
   },
   "source": [
    "### 4.4 それでは、最初に`scikit-learn`による単純な線形回帰を用いてデータを学習させてください。また、学習によって得られた予測値を散布図として4.2の散布図の上に重ねて描画してください。"
   ]
  },
  {
   "cell_type": "code",
   "execution_count": 46,
   "metadata": {
    "colab": {
     "base_uri": "https://localhost:8080/",
     "height": 282
    },
    "executionInfo": {
     "elapsed": 684,
     "status": "ok",
     "timestamp": 1679925432478,
     "user": {
      "displayName": "大谷津椋",
      "userId": "03391922001198405443"
     },
     "user_tz": -540
    },
    "id": "IYzRZiFhjfpd",
    "outputId": "46a056fb-cbaf-4ccd-9502-7d59dd86a063"
   },
   "outputs": [
    {
     "data": {
      "text/plain": [
       "<matplotlib.collections.PathCollection at 0x7fc6f0a44c40>"
      ]
     },
     "execution_count": 46,
     "metadata": {},
     "output_type": "execute_result"
    },
    {
     "data": {
      "image/png": "[encoded data removed]",
      "text/plain": [
       "<Figure size 432x288 with 1 Axes>"
      ]
     },
     "metadata": {
      "needs_background": "light"
     },
     "output_type": "display_data"
    }
   ],
   "source": [
    "from sklearn.linear_model import LinearRegression\n",
    "lr = LinearRegression()\n",
    "lr.fit(X_std, y_wine)\n",
    "pred = lr.predict(X_std)\n",
    "# pred\n",
    "plt.scatter(x=df_redwine.index, y=df_redwine['quality_binary'], s=0.5, alpha=0.5)\n",
    "plt.scatter(x=df_redwine.index, y=pred, alpha=0.5, s=0.5)"
   ]
  },
  {
   "cell_type": "markdown",
   "metadata": {
    "id": "39SgH5AC5j4s"
   },
   "source": [
    "上図からわかるように、単純な線形回帰では目的関数の予測値が1を超えたり、負の値になったりする場合があります。そのため、カテゴリ変数を扱うためには線形回帰を用いた回帰分析を行うことは不適当です。そこで、このような2値のカテゴリ変数を目的関数とするデータに対しては**ロジスティック回帰分析**を行います。"
   ]
  },
  {
   "cell_type": "markdown",
   "metadata": {
    "id": "W2U30NwqWmAo"
   },
   "source": [
    "### 4.5 それでは、`scikit-learn`によるロジスティック回帰モデルを用いて、4.4と同様のデータを学習させてください。学習の際には、ロジスティック回帰モデルの`random_state`引数には0を指定してください。また、`学習後のモデル.predict_proba(説明変数)`とすることで、各カテゴリに分類される確率を表示することができます。それを表示してください。"
   ]
  },
  {
   "cell_type": "code",
   "execution_count": 47,
   "metadata": {
    "colab": {
     "base_uri": "https://localhost:8080/"
    },
    "executionInfo": {
     "elapsed": 1081,
     "status": "ok",
     "timestamp": 1679925442069,
     "user": {
      "displayName": "大谷津椋",
      "userId": "03391922001198405443"
     },
     "user_tz": -540
    },
    "id": "iaJhscnq96L5",
    "outputId": "46a40a8e-3e71-4d1a-ed66-3e23e7c478eb"
   },
   "outputs": [
    {
     "data": {
      "text/plain": [
       "array([[0.78329305, 0.21670695],\n",
       "       [0.77735336, 0.22264664],\n",
       "       [0.73616533, 0.26383467],\n",
       "       ...,\n",
       "       [0.19978674, 0.80021326],\n",
       "       [0.48603299, 0.51396701],\n",
       "       [0.23421307, 0.76578693]])"
      ]
     },
     "execution_count": 47,
     "metadata": {},
     "output_type": "execute_result"
    }
   ],
   "source": [
    "from sklearn.linear_model import LogisticRegression\n",
    "# ロジスティック回帰\n",
    "model = LogisticRegression(random_state=0)\n",
    "model.fit(X_std, y_wine)\n",
    "model.predict_proba(X_std)"
   ]
  },
  {
   "cell_type": "markdown",
   "metadata": {
    "id": "QR5lZJaSBKLe"
   },
   "source": [
    "今回の出力では、1列目が「クラス0である確率」、2列目が「クラス1である確率」を表しています。ロジスティック回帰ではこの値の大小によって各データの分類を行います。"
   ]
  },
  {
   "cell_type": "markdown",
   "metadata": {
    "id": "EefBT2HgK4YG"
   },
   "source": [
    "### 4.6 4.5で作成した各カテゴリに分類される確率を表した配列の2列目は「クラスが1である確率」です。その列のみを取り出して、確率が小さい順にソートした後に散布図として表示してください。"
   ]
  },
  {
   "cell_type": "code",
   "execution_count": 48,
   "metadata": {
    "colab": {
     "base_uri": "https://localhost:8080/",
     "height": 282
    },
    "executionInfo": {
     "elapsed": 441,
     "status": "ok",
     "timestamp": 1679925446360,
     "user": {
      "displayName": "大谷津椋",
      "userId": "03391922001198405443"
     },
     "user_tz": -540
    },
    "id": "4NKNkMKD7OIY",
    "outputId": "b263417c-4101-4f51-a0c7-6deed5248106"
   },
   "outputs": [
    {
     "data": {
      "text/plain": [
       "<matplotlib.collections.PathCollection at 0x7fc6ee155e20>"
      ]
     },
     "execution_count": 48,
     "metadata": {},
     "output_type": "execute_result"
    },
    {
     "data": {
      "image/png": "[encoded data removed]",
      "text/plain": [
       "<Figure size 432x288 with 1 Axes>"
      ]
     },
     "metadata": {
      "needs_background": "light"
     },
     "output_type": "display_data"
    }
   ],
   "source": [
    "model_1 = model.predict_proba(X_std)[:, 1]\n",
    "# model_1\n",
    "sorted_model_1 = np.sort(model_1)\n",
    "plt.scatter(x=df_redwine.index, y=sorted_model_1, alpha=0.4, s=0.3)"
   ]
  },
  {
   "cell_type": "markdown",
   "metadata": {
    "id": "WhHJv7uEX6j5"
   },
   "source": [
    "ここで確率が0.5以上のものは「1」, 確率が0.5未満のものは「0」と分類されることになります。"
   ]
  },
  {
   "cell_type": "markdown",
   "metadata": {
    "id": "2uAIYbR78rtA"
   },
   "source": [
    "### 4.7 それでは、実際に学習したデータがそれぞれどちらのクラスに分類しているか予測し、結果を表示してください。"
   ]
  },
  {
   "cell_type": "code",
   "execution_count": 49,
   "metadata": {
    "colab": {
     "base_uri": "https://localhost:8080/"
    },
    "executionInfo": {
     "elapsed": 245,
     "status": "ok",
     "timestamp": 1679925450572,
     "user": {
      "displayName": "大谷津椋",
      "userId": "03391922001198405443"
     },
     "user_tz": -540
    },
    "id": "JXDkZeOlW4uY",
    "outputId": "fb5c8f8b-a338-4790-9a1e-0b6e14b0e67e"
   },
   "outputs": [
    {
     "data": {
      "text/plain": [
       "array([0, 0, 0, ..., 1, 1, 1])"
      ]
     },
     "execution_count": 49,
     "metadata": {},
     "output_type": "execute_result"
    }
   ],
   "source": [
    "model.predict(X_std)"
   ]
  },
  {
   "cell_type": "markdown",
   "metadata": {
    "id": "fzNFENwgBejC"
   },
   "source": [
    "このように、ロジスティック回帰では確率の概念を用いた分類を行うことができます。"
   ]
  },
  {
   "cell_type": "markdown",
   "metadata": {
    "id": "h2p1DiFq-C4M"
   },
   "source": [
    "### 4.8 3.3と同様に、学習から得られた各説明変数の係数を棒グラフで可視化して描画してください。"
   ]
  },
  {
   "cell_type": "code",
   "execution_count": 50,
   "metadata": {
    "colab": {
     "base_uri": "https://localhost:8080/",
     "height": 348
    },
    "executionInfo": {
     "elapsed": 1720,
     "status": "ok",
     "timestamp": 1679925456449,
     "user": {
      "displayName": "大谷津椋",
      "userId": "03391922001198405443"
     },
     "user_tz": -540
    },
    "id": "eCAyt2i5K7M5",
    "outputId": "6f47db09-3402-409d-a6fb-acb1f788dcc5"
   },
   "outputs": [
    {
     "data": {
      "image/png": "[encoded data removed]",
      "text/plain": [
       "<Figure size 864x360 with 1 Axes>"
      ]
     },
     "metadata": {
      "needs_background": "light"
     },
     "output_type": "display_data"
    }
   ],
   "source": [
    "coef = model.coef_\n",
    "coef_ = np.squeeze(coef)\n",
    "c = [('b' if i > 0 else 'r') for i in coef_]\n",
    "plt.figure(figsize=(12,5))\n",
    "plt.bar(df_redwine.loc[:, :'alcohol'].columns, coef_, color=c)\n",
    "plt.xticks(rotation=20)\n",
    "plt.show()"
   ]
  },
  {
   "cell_type": "markdown",
   "metadata": {
    "id": "CY6buet3CDXX"
   },
   "source": [
    "今回の結果だと、`alchol`や`sulphates`の値が大きいとクオリティが高い傾向にあり、`volatile acidity`や`total sulfur dioxide`の値が小さいほどクオリティが高い傾向にあることがわかります。"
   ]
  },
  {
   "cell_type": "markdown",
   "metadata": {
    "id": "sYNThuQ5BpME"
   },
   "source": [
    "### 4.9 3.4と同様に、学習から得られた各説明変数の係数の絶対値を取って棒グラフで可視化して描画してください。"
   ]
  },
  {
   "cell_type": "code",
   "execution_count": 51,
   "metadata": {
    "colab": {
     "base_uri": "https://localhost:8080/",
     "height": 348
    },
    "executionInfo": {
     "elapsed": 293,
     "status": "ok",
     "timestamp": 1679925462707,
     "user": {
      "displayName": "大谷津椋",
      "userId": "03391922001198405443"
     },
     "user_tz": -540
    },
    "id": "vdf6g2_DBwvn",
    "outputId": "ebef33f2-8399-4365-9d6c-36c1acc572d0"
   },
   "outputs": [
    {
     "data": {
      "image/png": "[encoded data removed]",
      "text/plain": [
       "<Figure size 864x360 with 1 Axes>"
      ]
     },
     "metadata": {
      "needs_background": "light"
     },
     "output_type": "display_data"
    }
   ],
   "source": [
    "plt.figure(figsize=(12,5))\n",
    "plt.bar(df_redwine.loc[:, :'alcohol'].columns, abs(coef_), color=c)\n",
    "plt.xticks(rotation=20)\n",
    "plt.show()"
   ]
  },
  {
   "cell_type": "markdown",
   "metadata": {
    "id": "eReFC_5ECu2M"
   },
   "source": [
    "変数の重要度としては、`alchol`や`volatile acidity`などの重要度が高いことがわかります。\n",
    "\n",
    "\n"
   ]
  },
  {
   "cell_type": "markdown",
   "metadata": {
    "id": "YmWb_GcoDxUS"
   },
   "source": [
    "**補足**\n",
    "\n",
    "最近は機械学習分野で「解釈性」が重んじられていることもあり、\n",
    "- 決定木による可視化\n",
    "- ランダムフォレストやGBDTを用いた説明変数の重要度算出\n",
    "- SHAPやLIMEを用いた結果の解釈\n",
    "\n",
    "によって説明変数の重要度算出や解釈を行うことも多くなってきました。目的に合わせて使い分けることが重要です。"
   ]
  },
  {
   "cell_type": "markdown",
   "metadata": {
    "id": "XjUuAmB8-_uc"
   },
   "source": [
    "### 4.10 最後に、ロジスティック回帰モデルの精度を評価します。f1値を算出して表示してください。"
   ]
  },
  {
   "cell_type": "code",
   "execution_count": 52,
   "metadata": {
    "colab": {
     "base_uri": "https://localhost:8080/"
    },
    "executionInfo": {
     "elapsed": 302,
     "status": "ok",
     "timestamp": 1679925468859,
     "user": {
      "displayName": "大谷津椋",
      "userId": "03391922001198405443"
     },
     "user_tz": -540
    },
    "id": "azQf6YHG-N7n",
    "outputId": "36c531d6-afc6-4878-92e1-ca895ac614ac"
   },
   "outputs": [
    {
     "name": "stdout",
     "output_type": "stream",
     "text": [
      "F1 score: 0.7584170112226817\n"
     ]
    }
   ],
   "source": [
    "from sklearn.metrics import f1_score\n",
    "y_pred = model.predict(X_std)\n",
    "print(f'F1 score: {f1_score(y_wine, y_pred)}')"
   ]
  },
  {
   "cell_type": "markdown",
   "metadata": {
    "id": "OokfrCvHC39i"
   },
   "source": [
    "今回は統計的な「分析」を目的として用いましたが、「分類」をメインにする場合は、訓練データ・テストデータにわけて検証する必要があります。このように、機械学習的な「分類」にロジスティック回帰モデルを用いることもできます。"
   ]
  }
 ],
 "metadata": {
  "colab": {
   "provenance": [
    {
     "file_id": "1laKeUvWF_aWOJbZ82otg9BWWJSYoXorv",
     "timestamp": 1671588065918
    },
    {
     "file_id": "1Xmhy6cB7BUp6Z3De59S-f6sUPO4UvJhY",
     "timestamp": 1649240515835
    }
   ]
  },
  "kernelspec": {
   "display_name": "Python 3 (ipykernel)",
   "language": "python",
   "name": "python3"
  },
  "language_info": {
   "codemirror_mode": {
    "name": "ipython",
    "version": 3
   },
   "file_extension": ".py",
   "mimetype": "text/x-python",
   "name": "python",
   "nbconvert_exporter": "python",
   "pygments_lexer": "ipython3",
   "version": "3.9.13"
  }
 },
 "nbformat": 4,
 "nbformat_minor": 4
}
