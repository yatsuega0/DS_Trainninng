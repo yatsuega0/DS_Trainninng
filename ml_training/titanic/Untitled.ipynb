{
 "cells": [
  {
   "cell_type": "code",
   "execution_count": 2,
   "id": "4f0cf32b-efc8-48de-8d73-98b88a9f3a0f",
   "metadata": {},
   "outputs": [
    {
     "name": "stdout",
     "output_type": "stream",
     "text": [
      "   PassengerId  Pclass Name  Sex   Age  SibSp  Parch     Fare Cabin Embarked\n",
      "0            1       3    0    0  22.0      1      0   7.2500     0        0\n",
      "1            2       1    2    1  38.0      1      0  71.2833     1        1\n",
      "2            3       3    1    1  26.0      0      0   7.9250     0        0\n",
      "3            4       1    2    1  35.0      1      0  53.1000     1        0\n",
      "4            5       3    0    0  35.0      0      0   8.0500     0        0\n",
      "0    0\n",
      "1    1\n",
      "2    1\n",
      "3    1\n",
      "4    0\n",
      "Name: Survived, dtype: int64\n",
      "正答率： 0.8229665071770335\n"
     ]
    }
   ],
   "source": [
    "%run titanic.py"
   ]
  },
  {
   "cell_type": "code",
   "execution_count": null,
   "id": "3c479872-fcd7-4d86-82b2-ff6b6fdb036f",
   "metadata": {},
   "outputs": [],
   "source": []
  }
 ],
 "metadata": {
  "kernelspec": {
   "display_name": "Python 3 (ipykernel)",
   "language": "python",
   "name": "python3"
  },
  "language_info": {
   "codemirror_mode": {
    "name": "ipython",
    "version": 3
   },
   "file_extension": ".py",
   "mimetype": "text/x-python",
   "name": "python",
   "nbconvert_exporter": "python",
   "pygments_lexer": "ipython3",
   "version": "3.9.13"
  }
 },
 "nbformat": 4,
 "nbformat_minor": 5
}
