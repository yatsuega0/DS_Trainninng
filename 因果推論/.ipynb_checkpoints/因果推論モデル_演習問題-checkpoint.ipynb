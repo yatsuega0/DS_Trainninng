{
 "cells": [
  {
   "cell_type": "markdown",
   "metadata": {
    "id": "N9HToJR6jT8T"
   },
   "source": [
    "# 因果推論　演習問題\n",
    "\n",
    "この演習では、21章から23章で学んだ内容を踏まえて、因果推論についての知識、スキルを確認します。\n",
    "\n",
    "## ライブラリの読み込み\n",
    "\n",
    "演習に回答するに当たって必要なライブラリを適宜読み込んでください。"
   ]
  },
  {
   "cell_type": "code",
   "execution_count": 2,
   "metadata": {
    "executionInfo": {
     "elapsed": 3147,
     "status": "ok",
     "timestamp": 1674860121615,
     "user": {
      "displayName": "大谷津椋",
      "userId": "03391922001198405443"
     },
     "user_tz": -540
    },
    "id": "1pw1jj6-jT8q"
   },
   "outputs": [],
   "source": [
    "import numpy as np\n",
    "import pandas as pd\n",
    "import seaborn as sns\n",
    "import matplotlib.pyplot as plt\n",
    "from scipy import stats\n",
    "import statsmodels.api as sm\n",
    "from statsmodels.stats.proportion import proportions_ztest\n",
    "from sklearn.preprocessing import StandardScaler\n",
    "from sklearn.metrics import roc_auc_score\n",
    "%matplotlib inline"
   ]
  },
  {
   "cell_type": "markdown",
   "metadata": {
    "id": "fZ-ocesUjT8r"
   },
   "source": [
    "## データの読み込み\n",
    "\n"
   ]
  },
  {
   "cell_type": "code",
   "execution_count": 3,
   "metadata": {
    "colab": {
     "base_uri": "https://localhost:8080/",
     "height": 488
    },
    "executionInfo": {
     "elapsed": 772,
     "status": "ok",
     "timestamp": 1674860165877,
     "user": {
      "displayName": "大谷津椋",
      "userId": "03391922001198405443"
     },
     "user_tz": -540
    },
    "id": "JMmFe0N-c0Gx",
    "outputId": "3e61331b-71b9-462a-befd-96369b8c56ab"
   },
   "outputs": [
    {
     "data": {
      "text/html": [
       "<div>\n",
       "<style scoped>\n",
       "    .dataframe tbody tr th:only-of-type {\n",
       "        vertical-align: middle;\n",
       "    }\n",
       "\n",
       "    .dataframe tbody tr th {\n",
       "        vertical-align: top;\n",
       "    }\n",
       "\n",
       "    .dataframe thead th {\n",
       "        text-align: right;\n",
       "    }\n",
       "</style>\n",
       "<table border=\"1\" class=\"dataframe\">\n",
       "  <thead>\n",
       "    <tr style=\"text-align: right;\">\n",
       "      <th></th>\n",
       "      <th>cm_dummy</th>\n",
       "      <th>game_dummy</th>\n",
       "      <th>area_kanto</th>\n",
       "      <th>area_keihan</th>\n",
       "      <th>area_tokai</th>\n",
       "      <th>area_keihanshin</th>\n",
       "      <th>age</th>\n",
       "      <th>sex</th>\n",
       "      <th>marry_dummy</th>\n",
       "      <th>job_dummy1</th>\n",
       "      <th>...</th>\n",
       "      <th>T</th>\n",
       "      <th>F1</th>\n",
       "      <th>F2</th>\n",
       "      <th>F3</th>\n",
       "      <th>M1</th>\n",
       "      <th>M2</th>\n",
       "      <th>M3</th>\n",
       "      <th>TVwatch_day</th>\n",
       "      <th>gamesecond</th>\n",
       "      <th>gamecount</th>\n",
       "    </tr>\n",
       "  </thead>\n",
       "  <tbody>\n",
       "    <tr>\n",
       "      <th>0</th>\n",
       "      <td>0</td>\n",
       "      <td>0</td>\n",
       "      <td>0</td>\n",
       "      <td>0</td>\n",
       "      <td>0</td>\n",
       "      <td>1</td>\n",
       "      <td>44.5</td>\n",
       "      <td>1</td>\n",
       "      <td>1</td>\n",
       "      <td>1</td>\n",
       "      <td>...</td>\n",
       "      <td>0</td>\n",
       "      <td>0</td>\n",
       "      <td>0</td>\n",
       "      <td>0</td>\n",
       "      <td>0</td>\n",
       "      <td>1</td>\n",
       "      <td>0</td>\n",
       "      <td>33.427600</td>\n",
       "      <td>0</td>\n",
       "      <td>0</td>\n",
       "    </tr>\n",
       "    <tr>\n",
       "      <th>1</th>\n",
       "      <td>0</td>\n",
       "      <td>0</td>\n",
       "      <td>0</td>\n",
       "      <td>1</td>\n",
       "      <td>0</td>\n",
       "      <td>0</td>\n",
       "      <td>34.5</td>\n",
       "      <td>1</td>\n",
       "      <td>1</td>\n",
       "      <td>1</td>\n",
       "      <td>...</td>\n",
       "      <td>0</td>\n",
       "      <td>0</td>\n",
       "      <td>0</td>\n",
       "      <td>0</td>\n",
       "      <td>0</td>\n",
       "      <td>1</td>\n",
       "      <td>0</td>\n",
       "      <td>31.542862</td>\n",
       "      <td>0</td>\n",
       "      <td>0</td>\n",
       "    </tr>\n",
       "    <tr>\n",
       "      <th>2</th>\n",
       "      <td>0</td>\n",
       "      <td>0</td>\n",
       "      <td>0</td>\n",
       "      <td>1</td>\n",
       "      <td>0</td>\n",
       "      <td>0</td>\n",
       "      <td>24.5</td>\n",
       "      <td>1</td>\n",
       "      <td>0</td>\n",
       "      <td>0</td>\n",
       "      <td>...</td>\n",
       "      <td>0</td>\n",
       "      <td>0</td>\n",
       "      <td>0</td>\n",
       "      <td>0</td>\n",
       "      <td>1</td>\n",
       "      <td>0</td>\n",
       "      <td>0</td>\n",
       "      <td>37.825805</td>\n",
       "      <td>0</td>\n",
       "      <td>0</td>\n",
       "    </tr>\n",
       "    <tr>\n",
       "      <th>3</th>\n",
       "      <td>0</td>\n",
       "      <td>0</td>\n",
       "      <td>0</td>\n",
       "      <td>1</td>\n",
       "      <td>0</td>\n",
       "      <td>0</td>\n",
       "      <td>44.5</td>\n",
       "      <td>1</td>\n",
       "      <td>1</td>\n",
       "      <td>1</td>\n",
       "      <td>...</td>\n",
       "      <td>0</td>\n",
       "      <td>0</td>\n",
       "      <td>0</td>\n",
       "      <td>0</td>\n",
       "      <td>0</td>\n",
       "      <td>1</td>\n",
       "      <td>0</td>\n",
       "      <td>36.345911</td>\n",
       "      <td>0</td>\n",
       "      <td>0</td>\n",
       "    </tr>\n",
       "    <tr>\n",
       "      <th>4</th>\n",
       "      <td>0</td>\n",
       "      <td>0</td>\n",
       "      <td>0</td>\n",
       "      <td>1</td>\n",
       "      <td>0</td>\n",
       "      <td>0</td>\n",
       "      <td>34.5</td>\n",
       "      <td>1</td>\n",
       "      <td>1</td>\n",
       "      <td>1</td>\n",
       "      <td>...</td>\n",
       "      <td>0</td>\n",
       "      <td>0</td>\n",
       "      <td>0</td>\n",
       "      <td>0</td>\n",
       "      <td>1</td>\n",
       "      <td>0</td>\n",
       "      <td>0</td>\n",
       "      <td>49.344942</td>\n",
       "      <td>0</td>\n",
       "      <td>0</td>\n",
       "    </tr>\n",
       "    <tr>\n",
       "      <th>...</th>\n",
       "      <td>...</td>\n",
       "      <td>...</td>\n",
       "      <td>...</td>\n",
       "      <td>...</td>\n",
       "      <td>...</td>\n",
       "      <td>...</td>\n",
       "      <td>...</td>\n",
       "      <td>...</td>\n",
       "      <td>...</td>\n",
       "      <td>...</td>\n",
       "      <td>...</td>\n",
       "      <td>...</td>\n",
       "      <td>...</td>\n",
       "      <td>...</td>\n",
       "      <td>...</td>\n",
       "      <td>...</td>\n",
       "      <td>...</td>\n",
       "      <td>...</td>\n",
       "      <td>...</td>\n",
       "      <td>...</td>\n",
       "      <td>...</td>\n",
       "    </tr>\n",
       "    <tr>\n",
       "      <th>9995</th>\n",
       "      <td>0</td>\n",
       "      <td>1</td>\n",
       "      <td>0</td>\n",
       "      <td>0</td>\n",
       "      <td>1</td>\n",
       "      <td>0</td>\n",
       "      <td>24.5</td>\n",
       "      <td>1</td>\n",
       "      <td>0</td>\n",
       "      <td>0</td>\n",
       "      <td>...</td>\n",
       "      <td>0</td>\n",
       "      <td>0</td>\n",
       "      <td>0</td>\n",
       "      <td>0</td>\n",
       "      <td>1</td>\n",
       "      <td>0</td>\n",
       "      <td>0</td>\n",
       "      <td>1172.051927</td>\n",
       "      <td>97226</td>\n",
       "      <td>764</td>\n",
       "    </tr>\n",
       "    <tr>\n",
       "      <th>9996</th>\n",
       "      <td>0</td>\n",
       "      <td>1</td>\n",
       "      <td>0</td>\n",
       "      <td>0</td>\n",
       "      <td>1</td>\n",
       "      <td>0</td>\n",
       "      <td>24.5</td>\n",
       "      <td>1</td>\n",
       "      <td>0</td>\n",
       "      <td>0</td>\n",
       "      <td>...</td>\n",
       "      <td>0</td>\n",
       "      <td>0</td>\n",
       "      <td>0</td>\n",
       "      <td>0</td>\n",
       "      <td>1</td>\n",
       "      <td>0</td>\n",
       "      <td>0</td>\n",
       "      <td>1173.538256</td>\n",
       "      <td>97224</td>\n",
       "      <td>764</td>\n",
       "    </tr>\n",
       "    <tr>\n",
       "      <th>9997</th>\n",
       "      <td>0</td>\n",
       "      <td>1</td>\n",
       "      <td>0</td>\n",
       "      <td>0</td>\n",
       "      <td>1</td>\n",
       "      <td>0</td>\n",
       "      <td>24.5</td>\n",
       "      <td>1</td>\n",
       "      <td>0</td>\n",
       "      <td>0</td>\n",
       "      <td>...</td>\n",
       "      <td>0</td>\n",
       "      <td>0</td>\n",
       "      <td>0</td>\n",
       "      <td>0</td>\n",
       "      <td>1</td>\n",
       "      <td>0</td>\n",
       "      <td>0</td>\n",
       "      <td>1173.073186</td>\n",
       "      <td>97227</td>\n",
       "      <td>764</td>\n",
       "    </tr>\n",
       "    <tr>\n",
       "      <th>9998</th>\n",
       "      <td>0</td>\n",
       "      <td>1</td>\n",
       "      <td>0</td>\n",
       "      <td>0</td>\n",
       "      <td>1</td>\n",
       "      <td>0</td>\n",
       "      <td>24.5</td>\n",
       "      <td>1</td>\n",
       "      <td>0</td>\n",
       "      <td>0</td>\n",
       "      <td>...</td>\n",
       "      <td>0</td>\n",
       "      <td>0</td>\n",
       "      <td>0</td>\n",
       "      <td>0</td>\n",
       "      <td>1</td>\n",
       "      <td>0</td>\n",
       "      <td>0</td>\n",
       "      <td>1173.016481</td>\n",
       "      <td>97225</td>\n",
       "      <td>765</td>\n",
       "    </tr>\n",
       "    <tr>\n",
       "      <th>9999</th>\n",
       "      <td>0</td>\n",
       "      <td>1</td>\n",
       "      <td>0</td>\n",
       "      <td>0</td>\n",
       "      <td>1</td>\n",
       "      <td>0</td>\n",
       "      <td>24.5</td>\n",
       "      <td>1</td>\n",
       "      <td>0</td>\n",
       "      <td>0</td>\n",
       "      <td>...</td>\n",
       "      <td>0</td>\n",
       "      <td>0</td>\n",
       "      <td>0</td>\n",
       "      <td>0</td>\n",
       "      <td>1</td>\n",
       "      <td>0</td>\n",
       "      <td>0</td>\n",
       "      <td>1172.514651</td>\n",
       "      <td>97225</td>\n",
       "      <td>765</td>\n",
       "    </tr>\n",
       "  </tbody>\n",
       "</table>\n",
       "<p>10000 rows × 35 columns</p>\n",
       "</div>"
      ],
      "text/plain": [
       "      cm_dummy  game_dummy  area_kanto  area_keihan  area_tokai  \\\n",
       "0            0           0           0            0           0   \n",
       "1            0           0           0            1           0   \n",
       "2            0           0           0            1           0   \n",
       "3            0           0           0            1           0   \n",
       "4            0           0           0            1           0   \n",
       "...        ...         ...         ...          ...         ...   \n",
       "9995         0           1           0            0           1   \n",
       "9996         0           1           0            0           1   \n",
       "9997         0           1           0            0           1   \n",
       "9998         0           1           0            0           1   \n",
       "9999         0           1           0            0           1   \n",
       "\n",
       "      area_keihanshin   age  sex  marry_dummy  job_dummy1  ...  T  F1  F2  F3  \\\n",
       "0                   1  44.5    1            1           1  ...  0   0   0   0   \n",
       "1                   0  34.5    1            1           1  ...  0   0   0   0   \n",
       "2                   0  24.5    1            0           0  ...  0   0   0   0   \n",
       "3                   0  44.5    1            1           1  ...  0   0   0   0   \n",
       "4                   0  34.5    1            1           1  ...  0   0   0   0   \n",
       "...               ...   ...  ...          ...         ...  ... ..  ..  ..  ..   \n",
       "9995                0  24.5    1            0           0  ...  0   0   0   0   \n",
       "9996                0  24.5    1            0           0  ...  0   0   0   0   \n",
       "9997                0  24.5    1            0           0  ...  0   0   0   0   \n",
       "9998                0  24.5    1            0           0  ...  0   0   0   0   \n",
       "9999                0  24.5    1            0           0  ...  0   0   0   0   \n",
       "\n",
       "      M1  M2  M3  TVwatch_day  gamesecond  gamecount  \n",
       "0      0   1   0    33.427600           0          0  \n",
       "1      0   1   0    31.542862           0          0  \n",
       "2      1   0   0    37.825805           0          0  \n",
       "3      0   1   0    36.345911           0          0  \n",
       "4      1   0   0    49.344942           0          0  \n",
       "...   ..  ..  ..          ...         ...        ...  \n",
       "9995   1   0   0  1172.051927       97226        764  \n",
       "9996   1   0   0  1173.538256       97224        764  \n",
       "9997   1   0   0  1173.073186       97227        764  \n",
       "9998   1   0   0  1173.016481       97225        765  \n",
       "9999   1   0   0  1172.514651       97225        765  \n",
       "\n",
       "[10000 rows x 35 columns]"
      ]
     },
     "execution_count": 3,
     "metadata": {},
     "output_type": "execute_result"
    }
   ],
   "source": [
    "df = pd.read_csv('q_data_x.csv')\n",
    "df"
   ]
  },
  {
   "cell_type": "markdown",
   "metadata": {
    "id": "Sz5BF6mojT8s"
   },
   "source": [
    "## データの特徴の確認\n",
    "\n",
    "読み込んだデータについて、以下のような観点で特徴を確認してください。\n",
    "\n",
    "* データの行数、列数\n",
    "* データフレーム全体の基本統計量\n",
    "* `cm_dummy` 列でグループ化、または塗分けた各変数のヒストグラム"
   ]
  },
  {
   "cell_type": "code",
   "execution_count": 4,
   "metadata": {
    "colab": {
     "base_uri": "https://localhost:8080/"
    },
    "executionInfo": {
     "elapsed": 358,
     "status": "ok",
     "timestamp": 1674860171499,
     "user": {
      "displayName": "大谷津椋",
      "userId": "03391922001198405443"
     },
     "user_tz": -540
    },
    "id": "Gc-oZ8vxke-s",
    "outputId": "9227bb3a-94f8-416a-863b-900ad68e03db"
   },
   "outputs": [
    {
     "data": {
      "text/plain": [
       "(10000, 35)"
      ]
     },
     "execution_count": 4,
     "metadata": {},
     "output_type": "execute_result"
    }
   ],
   "source": [
    "# こちらのセルに回答して、必要な場合はセルを追加してください。\n",
    "# 行数, 列数\n",
    "df.shape"
   ]
  },
  {
   "cell_type": "code",
   "execution_count": 5,
   "metadata": {
    "colab": {
     "base_uri": "https://localhost:8080/",
     "height": 394
    },
    "executionInfo": {
     "elapsed": 463,
     "status": "ok",
     "timestamp": 1674860174126,
     "user": {
      "displayName": "大谷津椋",
      "userId": "03391922001198405443"
     },
     "user_tz": -540
    },
    "id": "Sv7YKvcIQrdT",
    "outputId": "8fc2aec5-1740-4f53-fc3d-dbf078eee3ed"
   },
   "outputs": [
    {
     "data": {
      "text/html": [
       "\n",
       "  <div id=\"df-db43d8a7-44e7-40c0-a507-6dba83b81a56\">\n",
       "    <div class=\"colab-df-container\">\n",
       "      <div>\n",
       "<style scoped>\n",
       "    .dataframe tbody tr th:only-of-type {\n",
       "        vertical-align: middle;\n",
       "    }\n",
       "\n",
       "    .dataframe tbody tr th {\n",
       "        vertical-align: top;\n",
       "    }\n",
       "\n",
       "    .dataframe thead th {\n",
       "        text-align: right;\n",
       "    }\n",
       "</style>\n",
       "<table border=\"1\" class=\"dataframe\">\n",
       "  <thead>\n",
       "    <tr style=\"text-align: right;\">\n",
       "      <th></th>\n",
       "      <th>cm_dummy</th>\n",
       "      <th>game_dummy</th>\n",
       "      <th>area_kanto</th>\n",
       "      <th>area_keihan</th>\n",
       "      <th>area_tokai</th>\n",
       "      <th>area_keihanshin</th>\n",
       "      <th>age</th>\n",
       "      <th>sex</th>\n",
       "      <th>marry_dummy</th>\n",
       "      <th>job_dummy1</th>\n",
       "      <th>...</th>\n",
       "      <th>T</th>\n",
       "      <th>F1</th>\n",
       "      <th>F2</th>\n",
       "      <th>F3</th>\n",
       "      <th>M1</th>\n",
       "      <th>M2</th>\n",
       "      <th>M3</th>\n",
       "      <th>TVwatch_day</th>\n",
       "      <th>gamesecond</th>\n",
       "      <th>gamecount</th>\n",
       "    </tr>\n",
       "  </thead>\n",
       "  <tbody>\n",
       "    <tr>\n",
       "      <th>count</th>\n",
       "      <td>10000.000000</td>\n",
       "      <td>10000.000000</td>\n",
       "      <td>10000.000000</td>\n",
       "      <td>10000.000000</td>\n",
       "      <td>10000.000000</td>\n",
       "      <td>10000.000000</td>\n",
       "      <td>10000.000000</td>\n",
       "      <td>10000.000000</td>\n",
       "      <td>10000.000000</td>\n",
       "      <td>10000.000000</td>\n",
       "      <td>...</td>\n",
       "      <td>10000.000000</td>\n",
       "      <td>10000.000000</td>\n",
       "      <td>10000.000000</td>\n",
       "      <td>10000.000000</td>\n",
       "      <td>10000.000000</td>\n",
       "      <td>10000.000000</td>\n",
       "      <td>10000.000000</td>\n",
       "      <td>10000.000000</td>\n",
       "      <td>10000.000000</td>\n",
       "      <td>10000.000000</td>\n",
       "    </tr>\n",
       "    <tr>\n",
       "      <th>mean</th>\n",
       "      <td>0.414400</td>\n",
       "      <td>0.074000</td>\n",
       "      <td>0.091200</td>\n",
       "      <td>0.588700</td>\n",
       "      <td>0.111500</td>\n",
       "      <td>0.208600</td>\n",
       "      <td>40.841900</td>\n",
       "      <td>0.640300</td>\n",
       "      <td>0.647000</td>\n",
       "      <td>0.566200</td>\n",
       "      <td>...</td>\n",
       "      <td>0.013200</td>\n",
       "      <td>0.127800</td>\n",
       "      <td>0.173300</td>\n",
       "      <td>0.052200</td>\n",
       "      <td>0.140300</td>\n",
       "      <td>0.328800</td>\n",
       "      <td>0.164400</td>\n",
       "      <td>8096.497203</td>\n",
       "      <td>2846.783400</td>\n",
       "      <td>9.433300</td>\n",
       "    </tr>\n",
       "    <tr>\n",
       "      <th>std</th>\n",
       "      <td>0.492643</td>\n",
       "      <td>0.261784</td>\n",
       "      <td>0.287908</td>\n",
       "      <td>0.492094</td>\n",
       "      <td>0.314766</td>\n",
       "      <td>0.406328</td>\n",
       "      <td>10.465434</td>\n",
       "      <td>0.479936</td>\n",
       "      <td>0.477927</td>\n",
       "      <td>0.495623</td>\n",
       "      <td>...</td>\n",
       "      <td>0.114136</td>\n",
       "      <td>0.333884</td>\n",
       "      <td>0.378525</td>\n",
       "      <td>0.222441</td>\n",
       "      <td>0.347315</td>\n",
       "      <td>0.469801</td>\n",
       "      <td>0.370657</td>\n",
       "      <td>7709.497437</td>\n",
       "      <td>17973.608991</td>\n",
       "      <td>54.475214</td>\n",
       "    </tr>\n",
       "    <tr>\n",
       "      <th>min</th>\n",
       "      <td>0.000000</td>\n",
       "      <td>0.000000</td>\n",
       "      <td>0.000000</td>\n",
       "      <td>0.000000</td>\n",
       "      <td>0.000000</td>\n",
       "      <td>0.000000</td>\n",
       "      <td>19.000000</td>\n",
       "      <td>0.000000</td>\n",
       "      <td>0.000000</td>\n",
       "      <td>0.000000</td>\n",
       "      <td>...</td>\n",
       "      <td>0.000000</td>\n",
       "      <td>0.000000</td>\n",
       "      <td>0.000000</td>\n",
       "      <td>0.000000</td>\n",
       "      <td>0.000000</td>\n",
       "      <td>0.000000</td>\n",
       "      <td>0.000000</td>\n",
       "      <td>29.875270</td>\n",
       "      <td>0.000000</td>\n",
       "      <td>0.000000</td>\n",
       "    </tr>\n",
       "    <tr>\n",
       "      <th>25%</th>\n",
       "      <td>0.000000</td>\n",
       "      <td>0.000000</td>\n",
       "      <td>0.000000</td>\n",
       "      <td>0.000000</td>\n",
       "      <td>0.000000</td>\n",
       "      <td>0.000000</td>\n",
       "      <td>34.500000</td>\n",
       "      <td>0.000000</td>\n",
       "      <td>0.000000</td>\n",
       "      <td>0.000000</td>\n",
       "      <td>...</td>\n",
       "      <td>0.000000</td>\n",
       "      <td>0.000000</td>\n",
       "      <td>0.000000</td>\n",
       "      <td>0.000000</td>\n",
       "      <td>0.000000</td>\n",
       "      <td>0.000000</td>\n",
       "      <td>0.000000</td>\n",
       "      <td>2502.245967</td>\n",
       "      <td>0.000000</td>\n",
       "      <td>0.000000</td>\n",
       "    </tr>\n",
       "    <tr>\n",
       "      <th>50%</th>\n",
       "      <td>0.000000</td>\n",
       "      <td>0.000000</td>\n",
       "      <td>0.000000</td>\n",
       "      <td>1.000000</td>\n",
       "      <td>0.000000</td>\n",
       "      <td>0.000000</td>\n",
       "      <td>44.500000</td>\n",
       "      <td>1.000000</td>\n",
       "      <td>1.000000</td>\n",
       "      <td>1.000000</td>\n",
       "      <td>...</td>\n",
       "      <td>0.000000</td>\n",
       "      <td>0.000000</td>\n",
       "      <td>0.000000</td>\n",
       "      <td>0.000000</td>\n",
       "      <td>0.000000</td>\n",
       "      <td>0.000000</td>\n",
       "      <td>0.000000</td>\n",
       "      <td>5944.444520</td>\n",
       "      <td>0.000000</td>\n",
       "      <td>0.000000</td>\n",
       "    </tr>\n",
       "    <tr>\n",
       "      <th>75%</th>\n",
       "      <td>1.000000</td>\n",
       "      <td>0.000000</td>\n",
       "      <td>0.000000</td>\n",
       "      <td>1.000000</td>\n",
       "      <td>0.000000</td>\n",
       "      <td>0.000000</td>\n",
       "      <td>44.500000</td>\n",
       "      <td>1.000000</td>\n",
       "      <td>1.000000</td>\n",
       "      <td>1.000000</td>\n",
       "      <td>...</td>\n",
       "      <td>0.000000</td>\n",
       "      <td>0.000000</td>\n",
       "      <td>0.000000</td>\n",
       "      <td>0.000000</td>\n",
       "      <td>0.000000</td>\n",
       "      <td>1.000000</td>\n",
       "      <td>0.000000</td>\n",
       "      <td>11154.786148</td>\n",
       "      <td>0.000000</td>\n",
       "      <td>0.000000</td>\n",
       "    </tr>\n",
       "    <tr>\n",
       "      <th>max</th>\n",
       "      <td>1.000000</td>\n",
       "      <td>1.000000</td>\n",
       "      <td>1.000000</td>\n",
       "      <td>1.000000</td>\n",
       "      <td>1.000000</td>\n",
       "      <td>1.000000</td>\n",
       "      <td>60.000000</td>\n",
       "      <td>1.000000</td>\n",
       "      <td>1.000000</td>\n",
       "      <td>1.000000</td>\n",
       "      <td>...</td>\n",
       "      <td>1.000000</td>\n",
       "      <td>1.000000</td>\n",
       "      <td>1.000000</td>\n",
       "      <td>1.000000</td>\n",
       "      <td>1.000000</td>\n",
       "      <td>1.000000</td>\n",
       "      <td>1.000000</td>\n",
       "      <td>49036.055042</td>\n",
       "      <td>364814.000000</td>\n",
       "      <td>765.000000</td>\n",
       "    </tr>\n",
       "  </tbody>\n",
       "</table>\n",
       "<p>8 rows × 35 columns</p>\n",
       "</div>\n",
       "      <button class=\"colab-df-convert\" onclick=\"convertToInteractive('df-db43d8a7-44e7-40c0-a507-6dba83b81a56')\"\n",
       "              title=\"Convert this dataframe to an interactive table.\"\n",
       "              style=\"display:none;\">\n",
       "        \n",
       "  <svg xmlns=\"http://www.w3.org/2000/svg\" height=\"24px\"viewBox=\"0 0 24 24\"\n",
       "       width=\"24px\">\n",
       "    <path d=\"M0 0h24v24H0V0z\" fill=\"none\"/>\n",
       "    <path d=\"M18.56 5.44l.94 2.06.94-2.06 2.06-.94-2.06-.94-.94-2.06-.94 2.06-2.06.94zm-11 1L8.5 8.5l.94-2.06 2.06-.94-2.06-.94L8.5 2.5l-.94 2.06-2.06.94zm10 10l.94 2.06.94-2.06 2.06-.94-2.06-.94-.94-2.06-.94 2.06-2.06.94z\"/><path d=\"M17.41 7.96l-1.37-1.37c-.4-.4-.92-.59-1.43-.59-.52 0-1.04.2-1.43.59L10.3 9.45l-7.72 7.72c-.78.78-.78 2.05 0 2.83L4 21.41c.39.39.9.59 1.41.59.51 0 1.02-.2 1.41-.59l7.78-7.78 2.81-2.81c.8-.78.8-2.07 0-2.86zM5.41 20L4 18.59l7.72-7.72 1.47 1.35L5.41 20z\"/>\n",
       "  </svg>\n",
       "      </button>\n",
       "      \n",
       "  <style>\n",
       "    .colab-df-container {\n",
       "      display:flex;\n",
       "      flex-wrap:wrap;\n",
       "      gap: 12px;\n",
       "    }\n",
       "\n",
       "    .colab-df-convert {\n",
       "      background-color: #E8F0FE;\n",
       "      border: none;\n",
       "      border-radius: 50%;\n",
       "      cursor: pointer;\n",
       "      display: none;\n",
       "      fill: #1967D2;\n",
       "      height: 32px;\n",
       "      padding: 0 0 0 0;\n",
       "      width: 32px;\n",
       "    }\n",
       "\n",
       "    .colab-df-convert:hover {\n",
       "      background-color: #E2EBFA;\n",
       "      box-shadow: 0px 1px 2px rgba(60, 64, 67, 0.3), 0px 1px 3px 1px rgba(60, 64, 67, 0.15);\n",
       "      fill: #174EA6;\n",
       "    }\n",
       "\n",
       "    [theme=dark] .colab-df-convert {\n",
       "      background-color: #3B4455;\n",
       "      fill: #D2E3FC;\n",
       "    }\n",
       "\n",
       "    [theme=dark] .colab-df-convert:hover {\n",
       "      background-color: #434B5C;\n",
       "      box-shadow: 0px 1px 3px 1px rgba(0, 0, 0, 0.15);\n",
       "      filter: drop-shadow(0px 1px 2px rgba(0, 0, 0, 0.3));\n",
       "      fill: #FFFFFF;\n",
       "    }\n",
       "  </style>\n",
       "\n",
       "      <script>\n",
       "        const buttonEl =\n",
       "          document.querySelector('#df-db43d8a7-44e7-40c0-a507-6dba83b81a56 button.colab-df-convert');\n",
       "        buttonEl.style.display =\n",
       "          google.colab.kernel.accessAllowed ? 'block' : 'none';\n",
       "\n",
       "        async function convertToInteractive(key) {\n",
       "          const element = document.querySelector('#df-db43d8a7-44e7-40c0-a507-6dba83b81a56');\n",
       "          const dataTable =\n",
       "            await google.colab.kernel.invokeFunction('convertToInteractive',\n",
       "                                                     [key], {});\n",
       "          if (!dataTable) return;\n",
       "\n",
       "          const docLinkHtml = 'Like what you see? Visit the ' +\n",
       "            '<a target=\"_blank\" href=https://colab.research.google.com/notebooks/data_table.ipynb>data table notebook</a>'\n",
       "            + ' to learn more about interactive tables.';\n",
       "          element.innerHTML = '';\n",
       "          dataTable['output_type'] = 'display_data';\n",
       "          await google.colab.output.renderOutput(dataTable, element);\n",
       "          const docLink = document.createElement('div');\n",
       "          docLink.innerHTML = docLinkHtml;\n",
       "          element.appendChild(docLink);\n",
       "        }\n",
       "      </script>\n",
       "    </div>\n",
       "  </div>\n",
       "  "
      ],
      "text/plain": [
       "           cm_dummy    game_dummy    area_kanto   area_keihan    area_tokai  \\\n",
       "count  10000.000000  10000.000000  10000.000000  10000.000000  10000.000000   \n",
       "mean       0.414400      0.074000      0.091200      0.588700      0.111500   \n",
       "std        0.492643      0.261784      0.287908      0.492094      0.314766   \n",
       "min        0.000000      0.000000      0.000000      0.000000      0.000000   \n",
       "25%        0.000000      0.000000      0.000000      0.000000      0.000000   \n",
       "50%        0.000000      0.000000      0.000000      1.000000      0.000000   \n",
       "75%        1.000000      0.000000      0.000000      1.000000      0.000000   \n",
       "max        1.000000      1.000000      1.000000      1.000000      1.000000   \n",
       "\n",
       "       area_keihanshin           age           sex   marry_dummy  \\\n",
       "count     10000.000000  10000.000000  10000.000000  10000.000000   \n",
       "mean          0.208600     40.841900      0.640300      0.647000   \n",
       "std           0.406328     10.465434      0.479936      0.477927   \n",
       "min           0.000000     19.000000      0.000000      0.000000   \n",
       "25%           0.000000     34.500000      0.000000      0.000000   \n",
       "50%           0.000000     44.500000      1.000000      1.000000   \n",
       "75%           0.000000     44.500000      1.000000      1.000000   \n",
       "max           1.000000     60.000000      1.000000      1.000000   \n",
       "\n",
       "         job_dummy1  ...             T            F1            F2  \\\n",
       "count  10000.000000  ...  10000.000000  10000.000000  10000.000000   \n",
       "mean       0.566200  ...      0.013200      0.127800      0.173300   \n",
       "std        0.495623  ...      0.114136      0.333884      0.378525   \n",
       "min        0.000000  ...      0.000000      0.000000      0.000000   \n",
       "25%        0.000000  ...      0.000000      0.000000      0.000000   \n",
       "50%        1.000000  ...      0.000000      0.000000      0.000000   \n",
       "75%        1.000000  ...      0.000000      0.000000      0.000000   \n",
       "max        1.000000  ...      1.000000      1.000000      1.000000   \n",
       "\n",
       "                 F3            M1            M2            M3   TVwatch_day  \\\n",
       "count  10000.000000  10000.000000  10000.000000  10000.000000  10000.000000   \n",
       "mean       0.052200      0.140300      0.328800      0.164400   8096.497203   \n",
       "std        0.222441      0.347315      0.469801      0.370657   7709.497437   \n",
       "min        0.000000      0.000000      0.000000      0.000000     29.875270   \n",
       "25%        0.000000      0.000000      0.000000      0.000000   2502.245967   \n",
       "50%        0.000000      0.000000      0.000000      0.000000   5944.444520   \n",
       "75%        0.000000      0.000000      1.000000      0.000000  11154.786148   \n",
       "max        1.000000      1.000000      1.000000      1.000000  49036.055042   \n",
       "\n",
       "          gamesecond     gamecount  \n",
       "count   10000.000000  10000.000000  \n",
       "mean     2846.783400      9.433300  \n",
       "std     17973.608991     54.475214  \n",
       "min         0.000000      0.000000  \n",
       "25%         0.000000      0.000000  \n",
       "50%         0.000000      0.000000  \n",
       "75%         0.000000      0.000000  \n",
       "max    364814.000000    765.000000  \n",
       "\n",
       "[8 rows x 35 columns]"
      ]
     },
     "execution_count": 5,
     "metadata": {},
     "output_type": "execute_result"
    }
   ],
   "source": [
    "# 統計量\n",
    "df.describe()"
   ]
  },
  {
   "cell_type": "code",
   "execution_count": 6,
   "metadata": {
    "colab": {
     "base_uri": "https://localhost:8080/",
     "height": 237
    },
    "executionInfo": {
     "elapsed": 291,
     "status": "ok",
     "timestamp": 1674860177688,
     "user": {
      "displayName": "大谷津椋",
      "userId": "03391922001198405443"
     },
     "user_tz": -540
    },
    "id": "ibAlHiIeRC-v",
    "outputId": "2b30a8b9-b987-4027-ec3a-c8c60a7b671b"
   },
   "outputs": [
    {
     "data": {
      "text/html": [
       "\n",
       "  <div id=\"df-39c5b5ff-0291-4a82-bc63-51fef5a84444\">\n",
       "    <div class=\"colab-df-container\">\n",
       "      <div>\n",
       "<style scoped>\n",
       "    .dataframe tbody tr th:only-of-type {\n",
       "        vertical-align: middle;\n",
       "    }\n",
       "\n",
       "    .dataframe tbody tr th {\n",
       "        vertical-align: top;\n",
       "    }\n",
       "\n",
       "    .dataframe thead th {\n",
       "        text-align: right;\n",
       "    }\n",
       "</style>\n",
       "<table border=\"1\" class=\"dataframe\">\n",
       "  <thead>\n",
       "    <tr style=\"text-align: right;\">\n",
       "      <th></th>\n",
       "      <th>game_dummy</th>\n",
       "      <th>area_kanto</th>\n",
       "      <th>area_keihan</th>\n",
       "      <th>area_tokai</th>\n",
       "      <th>area_keihanshin</th>\n",
       "      <th>age</th>\n",
       "      <th>sex</th>\n",
       "      <th>marry_dummy</th>\n",
       "      <th>job_dummy1</th>\n",
       "      <th>job_dummy2</th>\n",
       "      <th>...</th>\n",
       "      <th>T</th>\n",
       "      <th>F1</th>\n",
       "      <th>F2</th>\n",
       "      <th>F3</th>\n",
       "      <th>M1</th>\n",
       "      <th>M2</th>\n",
       "      <th>M3</th>\n",
       "      <th>TVwatch_day</th>\n",
       "      <th>gamesecond</th>\n",
       "      <th>gamecount</th>\n",
       "    </tr>\n",
       "    <tr>\n",
       "      <th>cm_dummy</th>\n",
       "      <th></th>\n",
       "      <th></th>\n",
       "      <th></th>\n",
       "      <th></th>\n",
       "      <th></th>\n",
       "      <th></th>\n",
       "      <th></th>\n",
       "      <th></th>\n",
       "      <th></th>\n",
       "      <th></th>\n",
       "      <th></th>\n",
       "      <th></th>\n",
       "      <th></th>\n",
       "      <th></th>\n",
       "      <th></th>\n",
       "      <th></th>\n",
       "      <th></th>\n",
       "      <th></th>\n",
       "      <th></th>\n",
       "      <th></th>\n",
       "      <th></th>\n",
       "    </tr>\n",
       "  </thead>\n",
       "  <tbody>\n",
       "    <tr>\n",
       "      <th>0</th>\n",
       "      <td>0.073087</td>\n",
       "      <td>0.063012</td>\n",
       "      <td>0.509051</td>\n",
       "      <td>0.124488</td>\n",
       "      <td>0.303449</td>\n",
       "      <td>40.187158</td>\n",
       "      <td>0.671107</td>\n",
       "      <td>0.630464</td>\n",
       "      <td>0.600581</td>\n",
       "      <td>0.057036</td>\n",
       "      <td>...</td>\n",
       "      <td>0.01349</td>\n",
       "      <td>0.138320</td>\n",
       "      <td>0.136100</td>\n",
       "      <td>0.050034</td>\n",
       "      <td>0.166837</td>\n",
       "      <td>0.341701</td>\n",
       "      <td>0.153518</td>\n",
       "      <td>5714.982257</td>\n",
       "      <td>3107.706455</td>\n",
       "      <td>10.048497</td>\n",
       "    </tr>\n",
       "    <tr>\n",
       "      <th>1</th>\n",
       "      <td>0.075290</td>\n",
       "      <td>0.131033</td>\n",
       "      <td>0.701255</td>\n",
       "      <td>0.093147</td>\n",
       "      <td>0.074566</td>\n",
       "      <td>41.767133</td>\n",
       "      <td>0.596766</td>\n",
       "      <td>0.670367</td>\n",
       "      <td>0.517616</td>\n",
       "      <td>0.050193</td>\n",
       "      <td>...</td>\n",
       "      <td>0.01279</td>\n",
       "      <td>0.112934</td>\n",
       "      <td>0.225869</td>\n",
       "      <td>0.055261</td>\n",
       "      <td>0.102799</td>\n",
       "      <td>0.310569</td>\n",
       "      <td>0.179778</td>\n",
       "      <td>11461.881259</td>\n",
       "      <td>2478.065878</td>\n",
       "      <td>8.563948</td>\n",
       "    </tr>\n",
       "  </tbody>\n",
       "</table>\n",
       "<p>2 rows × 34 columns</p>\n",
       "</div>\n",
       "      <button class=\"colab-df-convert\" onclick=\"convertToInteractive('df-39c5b5ff-0291-4a82-bc63-51fef5a84444')\"\n",
       "              title=\"Convert this dataframe to an interactive table.\"\n",
       "              style=\"display:none;\">\n",
       "        \n",
       "  <svg xmlns=\"http://www.w3.org/2000/svg\" height=\"24px\"viewBox=\"0 0 24 24\"\n",
       "       width=\"24px\">\n",
       "    <path d=\"M0 0h24v24H0V0z\" fill=\"none\"/>\n",
       "    <path d=\"M18.56 5.44l.94 2.06.94-2.06 2.06-.94-2.06-.94-.94-2.06-.94 2.06-2.06.94zm-11 1L8.5 8.5l.94-2.06 2.06-.94-2.06-.94L8.5 2.5l-.94 2.06-2.06.94zm10 10l.94 2.06.94-2.06 2.06-.94-2.06-.94-.94-2.06-.94 2.06-2.06.94z\"/><path d=\"M17.41 7.96l-1.37-1.37c-.4-.4-.92-.59-1.43-.59-.52 0-1.04.2-1.43.59L10.3 9.45l-7.72 7.72c-.78.78-.78 2.05 0 2.83L4 21.41c.39.39.9.59 1.41.59.51 0 1.02-.2 1.41-.59l7.78-7.78 2.81-2.81c.8-.78.8-2.07 0-2.86zM5.41 20L4 18.59l7.72-7.72 1.47 1.35L5.41 20z\"/>\n",
       "  </svg>\n",
       "      </button>\n",
       "      \n",
       "  <style>\n",
       "    .colab-df-container {\n",
       "      display:flex;\n",
       "      flex-wrap:wrap;\n",
       "      gap: 12px;\n",
       "    }\n",
       "\n",
       "    .colab-df-convert {\n",
       "      background-color: #E8F0FE;\n",
       "      border: none;\n",
       "      border-radius: 50%;\n",
       "      cursor: pointer;\n",
       "      display: none;\n",
       "      fill: #1967D2;\n",
       "      height: 32px;\n",
       "      padding: 0 0 0 0;\n",
       "      width: 32px;\n",
       "    }\n",
       "\n",
       "    .colab-df-convert:hover {\n",
       "      background-color: #E2EBFA;\n",
       "      box-shadow: 0px 1px 2px rgba(60, 64, 67, 0.3), 0px 1px 3px 1px rgba(60, 64, 67, 0.15);\n",
       "      fill: #174EA6;\n",
       "    }\n",
       "\n",
       "    [theme=dark] .colab-df-convert {\n",
       "      background-color: #3B4455;\n",
       "      fill: #D2E3FC;\n",
       "    }\n",
       "\n",
       "    [theme=dark] .colab-df-convert:hover {\n",
       "      background-color: #434B5C;\n",
       "      box-shadow: 0px 1px 3px 1px rgba(0, 0, 0, 0.15);\n",
       "      filter: drop-shadow(0px 1px 2px rgba(0, 0, 0, 0.3));\n",
       "      fill: #FFFFFF;\n",
       "    }\n",
       "  </style>\n",
       "\n",
       "      <script>\n",
       "        const buttonEl =\n",
       "          document.querySelector('#df-39c5b5ff-0291-4a82-bc63-51fef5a84444 button.colab-df-convert');\n",
       "        buttonEl.style.display =\n",
       "          google.colab.kernel.accessAllowed ? 'block' : 'none';\n",
       "\n",
       "        async function convertToInteractive(key) {\n",
       "          const element = document.querySelector('#df-39c5b5ff-0291-4a82-bc63-51fef5a84444');\n",
       "          const dataTable =\n",
       "            await google.colab.kernel.invokeFunction('convertToInteractive',\n",
       "                                                     [key], {});\n",
       "          if (!dataTable) return;\n",
       "\n",
       "          const docLinkHtml = 'Like what you see? Visit the ' +\n",
       "            '<a target=\"_blank\" href=https://colab.research.google.com/notebooks/data_table.ipynb>data table notebook</a>'\n",
       "            + ' to learn more about interactive tables.';\n",
       "          element.innerHTML = '';\n",
       "          dataTable['output_type'] = 'display_data';\n",
       "          await google.colab.output.renderOutput(dataTable, element);\n",
       "          const docLink = document.createElement('div');\n",
       "          docLink.innerHTML = docLinkHtml;\n",
       "          element.appendChild(docLink);\n",
       "        }\n",
       "      </script>\n",
       "    </div>\n",
       "  </div>\n",
       "  "
      ],
      "text/plain": [
       "          game_dummy  area_kanto  area_keihan  area_tokai  area_keihanshin  \\\n",
       "cm_dummy                                                                     \n",
       "0           0.073087    0.063012     0.509051    0.124488         0.303449   \n",
       "1           0.075290    0.131033     0.701255    0.093147         0.074566   \n",
       "\n",
       "                age       sex  marry_dummy  job_dummy1  job_dummy2  ...  \\\n",
       "cm_dummy                                                            ...   \n",
       "0         40.187158  0.671107     0.630464    0.600581    0.057036  ...   \n",
       "1         41.767133  0.596766     0.670367    0.517616    0.050193  ...   \n",
       "\n",
       "                T        F1        F2        F3        M1        M2        M3  \\\n",
       "cm_dummy                                                                        \n",
       "0         0.01349  0.138320  0.136100  0.050034  0.166837  0.341701  0.153518   \n",
       "1         0.01279  0.112934  0.225869  0.055261  0.102799  0.310569  0.179778   \n",
       "\n",
       "           TVwatch_day   gamesecond  gamecount  \n",
       "cm_dummy                                        \n",
       "0          5714.982257  3107.706455  10.048497  \n",
       "1         11461.881259  2478.065878   8.563948  \n",
       "\n",
       "[2 rows x 34 columns]"
      ]
     },
     "execution_count": 6,
     "metadata": {},
     "output_type": "execute_result"
    }
   ],
   "source": [
    "# cm_dummyでグループ化\n",
    "df.groupby('cm_dummy').mean()"
   ]
  },
  {
   "cell_type": "markdown",
   "metadata": {
    "id": "l_Xy4C-TjT8t"
   },
   "source": [
    "## 交絡因子を考慮しない因果効果の推定\n",
    "\n",
    "このデータは、CMへの接触の有無 (`cm_dummy`) によって、ゲームアプリの利用 (`game_dummy`) が変化するか、という仮説を検証するためのものです。他にも、交絡因子となるさまざまな変数が記録されています。\n",
    "\n",
    "まずは、交絡因子を考慮しないで、`cm_dummy` 変数の値によって `game_dummy` 変数の値が変わるかを検証しましょう。適切な統計的検定の手法を選び、実行してください。(ヒント: いずれの変数も離散値なので、クロス集計表内の度数を検定します)"
   ]
  },
  {
   "cell_type": "code",
   "execution_count": 8,
   "metadata": {
    "colab": {
     "base_uri": "https://localhost:8080/"
    },
    "executionInfo": {
     "elapsed": 300,
     "status": "ok",
     "timestamp": 1674860222749,
     "user": {
      "displayName": "大谷津椋",
      "userId": "03391922001198405443"
     },
     "user_tz": -540
    },
    "id": "3rRllvlFkmfO",
    "outputId": "dcdb0f61-0a9c-4a40-a67d-f767f2dd2f48"
   },
   "outputs": [
    {
     "data": {
      "text/plain": [
       "0    5856\n",
       "1    4144\n",
       "Name: cm_dummy, dtype: int64"
      ]
     },
     "execution_count": 8,
     "metadata": {},
     "output_type": "execute_result"
    }
   ],
   "source": [
    "# こちらのセルに回答して、必要な場合はセルを追加してください。\n",
    "df['cm_dummy'].value_counts()"
   ]
  },
  {
   "cell_type": "code",
   "execution_count": 9,
   "metadata": {
    "colab": {
     "base_uri": "https://localhost:8080/",
     "height": 143
    },
    "executionInfo": {
     "elapsed": 530,
     "status": "ok",
     "timestamp": 1674860226232,
     "user": {
      "displayName": "大谷津椋",
      "userId": "03391922001198405443"
     },
     "user_tz": -540
    },
    "id": "hbdrjvJYOIBh",
    "outputId": "7f5b320e-21f8-4690-ce3e-1b7dab53af77"
   },
   "outputs": [
    {
     "data": {
      "text/html": [
       "\n",
       "  <div id=\"df-60c0a0eb-c7cc-47d8-95bc-a500eb3b238f\">\n",
       "    <div class=\"colab-df-container\">\n",
       "      <div>\n",
       "<style scoped>\n",
       "    .dataframe tbody tr th:only-of-type {\n",
       "        vertical-align: middle;\n",
       "    }\n",
       "\n",
       "    .dataframe tbody tr th {\n",
       "        vertical-align: top;\n",
       "    }\n",
       "\n",
       "    .dataframe thead th {\n",
       "        text-align: right;\n",
       "    }\n",
       "</style>\n",
       "<table border=\"1\" class=\"dataframe\">\n",
       "  <thead>\n",
       "    <tr style=\"text-align: right;\">\n",
       "      <th>cm_dummy</th>\n",
       "      <th>0</th>\n",
       "      <th>1</th>\n",
       "    </tr>\n",
       "    <tr>\n",
       "      <th>game_dummy</th>\n",
       "      <th></th>\n",
       "      <th></th>\n",
       "    </tr>\n",
       "  </thead>\n",
       "  <tbody>\n",
       "    <tr>\n",
       "      <th>0</th>\n",
       "      <td>5428</td>\n",
       "      <td>3832</td>\n",
       "    </tr>\n",
       "    <tr>\n",
       "      <th>1</th>\n",
       "      <td>428</td>\n",
       "      <td>312</td>\n",
       "    </tr>\n",
       "  </tbody>\n",
       "</table>\n",
       "</div>\n",
       "      <button class=\"colab-df-convert\" onclick=\"convertToInteractive('df-60c0a0eb-c7cc-47d8-95bc-a500eb3b238f')\"\n",
       "              title=\"Convert this dataframe to an interactive table.\"\n",
       "              style=\"display:none;\">\n",
       "        \n",
       "  <svg xmlns=\"http://www.w3.org/2000/svg\" height=\"24px\"viewBox=\"0 0 24 24\"\n",
       "       width=\"24px\">\n",
       "    <path d=\"M0 0h24v24H0V0z\" fill=\"none\"/>\n",
       "    <path d=\"M18.56 5.44l.94 2.06.94-2.06 2.06-.94-2.06-.94-.94-2.06-.94 2.06-2.06.94zm-11 1L8.5 8.5l.94-2.06 2.06-.94-2.06-.94L8.5 2.5l-.94 2.06-2.06.94zm10 10l.94 2.06.94-2.06 2.06-.94-2.06-.94-.94-2.06-.94 2.06-2.06.94z\"/><path d=\"M17.41 7.96l-1.37-1.37c-.4-.4-.92-.59-1.43-.59-.52 0-1.04.2-1.43.59L10.3 9.45l-7.72 7.72c-.78.78-.78 2.05 0 2.83L4 21.41c.39.39.9.59 1.41.59.51 0 1.02-.2 1.41-.59l7.78-7.78 2.81-2.81c.8-.78.8-2.07 0-2.86zM5.41 20L4 18.59l7.72-7.72 1.47 1.35L5.41 20z\"/>\n",
       "  </svg>\n",
       "      </button>\n",
       "      \n",
       "  <style>\n",
       "    .colab-df-container {\n",
       "      display:flex;\n",
       "      flex-wrap:wrap;\n",
       "      gap: 12px;\n",
       "    }\n",
       "\n",
       "    .colab-df-convert {\n",
       "      background-color: #E8F0FE;\n",
       "      border: none;\n",
       "      border-radius: 50%;\n",
       "      cursor: pointer;\n",
       "      display: none;\n",
       "      fill: #1967D2;\n",
       "      height: 32px;\n",
       "      padding: 0 0 0 0;\n",
       "      width: 32px;\n",
       "    }\n",
       "\n",
       "    .colab-df-convert:hover {\n",
       "      background-color: #E2EBFA;\n",
       "      box-shadow: 0px 1px 2px rgba(60, 64, 67, 0.3), 0px 1px 3px 1px rgba(60, 64, 67, 0.15);\n",
       "      fill: #174EA6;\n",
       "    }\n",
       "\n",
       "    [theme=dark] .colab-df-convert {\n",
       "      background-color: #3B4455;\n",
       "      fill: #D2E3FC;\n",
       "    }\n",
       "\n",
       "    [theme=dark] .colab-df-convert:hover {\n",
       "      background-color: #434B5C;\n",
       "      box-shadow: 0px 1px 3px 1px rgba(0, 0, 0, 0.15);\n",
       "      filter: drop-shadow(0px 1px 2px rgba(0, 0, 0, 0.3));\n",
       "      fill: #FFFFFF;\n",
       "    }\n",
       "  </style>\n",
       "\n",
       "      <script>\n",
       "        const buttonEl =\n",
       "          document.querySelector('#df-60c0a0eb-c7cc-47d8-95bc-a500eb3b238f button.colab-df-convert');\n",
       "        buttonEl.style.display =\n",
       "          google.colab.kernel.accessAllowed ? 'block' : 'none';\n",
       "\n",
       "        async function convertToInteractive(key) {\n",
       "          const element = document.querySelector('#df-60c0a0eb-c7cc-47d8-95bc-a500eb3b238f');\n",
       "          const dataTable =\n",
       "            await google.colab.kernel.invokeFunction('convertToInteractive',\n",
       "                                                     [key], {});\n",
       "          if (!dataTable) return;\n",
       "\n",
       "          const docLinkHtml = 'Like what you see? Visit the ' +\n",
       "            '<a target=\"_blank\" href=https://colab.research.google.com/notebooks/data_table.ipynb>data table notebook</a>'\n",
       "            + ' to learn more about interactive tables.';\n",
       "          element.innerHTML = '';\n",
       "          dataTable['output_type'] = 'display_data';\n",
       "          await google.colab.output.renderOutput(dataTable, element);\n",
       "          const docLink = document.createElement('div');\n",
       "          docLink.innerHTML = docLinkHtml;\n",
       "          element.appendChild(docLink);\n",
       "        }\n",
       "      </script>\n",
       "    </div>\n",
       "  </div>\n",
       "  "
      ],
      "text/plain": [
       "cm_dummy       0     1\n",
       "game_dummy            \n",
       "0           5428  3832\n",
       "1            428   312"
      ]
     },
     "execution_count": 9,
     "metadata": {},
     "output_type": "execute_result"
    }
   ],
   "source": [
    "# CMへの接触とゲームアプリの利用に連関があるか\n",
    "obs = pd.crosstab([df['game_dummy']], [df['cm_dummy']])\n",
    "obs"
   ]
  },
  {
   "cell_type": "code",
   "execution_count": 10,
   "metadata": {
    "colab": {
     "base_uri": "https://localhost:8080/"
    },
    "executionInfo": {
     "elapsed": 275,
     "status": "ok",
     "timestamp": 1674860233647,
     "user": {
      "displayName": "大谷津椋",
      "userId": "03391922001198405443"
     },
     "user_tz": -540
    },
    "id": "a7v56IeMCGfp",
    "outputId": "41ef9bb6-001d-4554-f024-ca342087da54"
   },
   "outputs": [
    {
     "name": "stdout",
     "output_type": "stream",
     "text": [
      "0.002202143595586223\n"
     ]
    }
   ],
   "source": [
    "yes_cm = obs[1].loc[1] / obs[1].sum()\n",
    "no_cm = obs[0].loc[1] / obs[0].sum()\n",
    "print(yes_cm - no_cm)\n",
    "# CMの接触ではあまり変わらなそう"
   ]
  },
  {
   "cell_type": "code",
   "execution_count": 11,
   "metadata": {
    "colab": {
     "base_uri": "https://localhost:8080/"
    },
    "executionInfo": {
     "elapsed": 331,
     "status": "ok",
     "timestamp": 1674860241626,
     "user": {
      "displayName": "大谷津椋",
      "userId": "03391922001198405443"
     },
     "user_tz": -540
    },
    "id": "MoldaWuWhR5O",
    "outputId": "a7ac1915-6676-4cdb-aa32-f006bb648de1"
   },
   "outputs": [
    {
     "name": "stdout",
     "output_type": "stream",
     "text": [
      "カイ二乗値： 0.1717391771468791, p値: 0.6785707488459428\n"
     ]
    }
   ],
   "source": [
    "chi2, p, dof, ex = stats.chi2_contingency(obs, correction=False)\n",
    "print(f'カイ二乗値： {chi2}, p値: {p}')"
   ]
  },
  {
   "cell_type": "code",
   "execution_count": 12,
   "metadata": {
    "colab": {
     "base_uri": "https://localhost:8080/"
    },
    "executionInfo": {
     "elapsed": 286,
     "status": "ok",
     "timestamp": 1674860247556,
     "user": {
      "displayName": "大谷津椋",
      "userId": "03391922001198405443"
     },
     "user_tz": -540
    },
    "id": "CHKK9c3Tcj4b",
    "outputId": "59e7dfb2-9179-4a5d-c18d-8e30fa3fbb45"
   },
   "outputs": [
    {
     "name": "stdout",
     "output_type": "stream",
     "text": [
      "x1: [312 428], x2: [3832 5428]\n",
      "カイ二乗値: 0.17173917714687909, p値: 0.6785707488459428\n",
      "統計的優位ではない\n"
     ]
    }
   ],
   "source": [
    "# カイ二乗検定\n",
    "def chi2_test(obs):\n",
    "    x1 = obs.loc[1].values[::-1]\n",
    "    x2 = obs.loc[0].values[::-1]\n",
    "    print(f'x1: {x1}, x2: {x2}')\n",
    "    chi2, p, dof, ex = stats.chi2_contingency([x1, x2], correction=False)\n",
    "    print(f'カイ二乗値: {chi2}, p値: {p}')\n",
    "    significance_level = 0.05\n",
    "    if p < significance_level:\n",
    "        return print('統計的優位である')\n",
    "    else:\n",
    "        return print('統計的優位ではない')\n",
    "\n",
    "\n",
    "chi2_test(obs)"
   ]
  },
  {
   "cell_type": "code",
   "execution_count": 13,
   "metadata": {
    "colab": {
     "base_uri": "https://localhost:8080/"
    },
    "executionInfo": {
     "elapsed": 329,
     "status": "ok",
     "timestamp": 1674860251194,
     "user": {
      "displayName": "大谷津椋",
      "userId": "03391922001198405443"
     },
     "user_tz": -540
    },
    "id": "i4djqZqekvQ0",
    "outputId": "14dd0a04-f2c6-42e6-b55f-9d722c692627"
   },
   "outputs": [
    {
     "name": "stdout",
     "output_type": "stream",
     "text": [
      "z値: -0.414414257895261, p値: 0.6785707488459423\n",
      "統計的優位ではない\n"
     ]
    }
   ],
   "source": [
    "# z検定\n",
    "n1 = df['cm_dummy'].value_counts()[0]\n",
    "n2 = df['cm_dummy'].value_counts()[1]\n",
    "x1 = obs.loc[1].values[0]\n",
    "x2 = obs.loc[1].values[1]\n",
    "z, p = proportions_ztest([x1, x2], [n1, n2], alternative='two-sided')\n",
    "print(f'z値: {z}, p値: {p}')\n",
    "significance_level = 0.05\n",
    "if p < significance_level:\n",
    "    print('統計的優位である')\n",
    "else:\n",
    "    print('統計的優位ではない')"
   ]
  },
  {
   "cell_type": "markdown",
   "metadata": {
    "id": "pROs8TSNjT8u"
   },
   "source": [
    "## 交絡因子を考慮した傾向スコアマッチングによる効果検証\n",
    "\n",
    "交絡因子の影響を考慮してCMの効果を評価するため、傾向スコアマッチングを行ってください。\n",
    "\n",
    "### 傾向スコアの算出\n",
    "\n",
    "まず、結果としての `game_dummy` を除き、`cm_dummy` を目的変数としたロジスティック回帰を行い、傾向スコアを算出してください。結果は、データフレームに `score` という列名で追加して表示してください。なお、すべての変数を用いる必要はありませんし、探索的に変数選択を行っても構いません。"
   ]
  },
  {
   "cell_type": "code",
   "execution_count": 14,
   "metadata": {
    "executionInfo": {
     "elapsed": 244,
     "status": "ok",
     "timestamp": 1674860258249,
     "user": {
      "displayName": "大谷津椋",
      "userId": "03391922001198405443"
     },
     "user_tz": -540
    },
    "id": "VBxIXJc-ob9v"
   },
   "outputs": [],
   "source": [
    "# こちらのセルに回答して、必要な場合はセルを追加してください。\n",
    "X = df.drop(columns=['cm_dummy', 'game_dummy'])\n",
    "y = df['cm_dummy']\n",
    "# 標準化\n",
    "scaler = StandardScaler()\n",
    "X_scaled = scaler.fit_transform(X)"
   ]
  },
  {
   "cell_type": "code",
   "execution_count": 15,
   "metadata": {
    "colab": {
     "base_uri": "https://localhost:8080/"
    },
    "executionInfo": {
     "elapsed": 362,
     "status": "ok",
     "timestamp": 1674860260500,
     "user": {
      "displayName": "大谷津椋",
      "userId": "03391922001198405443"
     },
     "user_tz": -540
    },
    "id": "F3yqnRM9SzRJ",
    "outputId": "e7d40dbd-1380-460a-91b3-93a7746aff20"
   },
   "outputs": [
    {
     "name": "stdout",
     "output_type": "stream",
     "text": [
      "Warning: Maximum number of iterations has been exceeded.\n",
      "         Current function value: 0.537586\n",
      "         Iterations: 35\n"
     ]
    },
    {
     "name": "stderr",
     "output_type": "stream",
     "text": [
      "/usr/local/lib/python3.8/dist-packages/statsmodels/base/model.py:566: ConvergenceWarning: Maximum Likelihood optimization failed to converge. Check mle_retvals\n",
      "  warnings.warn(\"Maximum Likelihood optimization failed to \"\n"
     ]
    }
   ],
   "source": [
    "# 傾向スコア (ロジスティック回帰　Logit model)\n",
    "X_scaled = sm.add_constant(X_scaled)\n",
    "logit = sm.Logit(y, X_scaled)\n",
    "result = logit.fit()"
   ]
  },
  {
   "cell_type": "code",
   "execution_count": 16,
   "metadata": {
    "colab": {
     "base_uri": "https://localhost:8080/"
    },
    "executionInfo": {
     "elapsed": 257,
     "status": "ok",
     "timestamp": 1674860264335,
     "user": {
      "displayName": "大谷津椋",
      "userId": "03391922001198405443"
     },
     "user_tz": -540
    },
    "id": "1VJ5Yja_fY1r",
    "outputId": "eb406291-fece-4ea8-e2af-a2db74712152"
   },
   "outputs": [
    {
     "data": {
      "text/plain": [
       "array([ 0.30597683,  0.31442217, -0.03380957, -0.57140769, -0.18920389,\n",
       "       -0.62268233, -0.0430628 , -0.06631019, -0.02284653,  0.05896232,\n",
       "        0.00180136,  0.10523829,  0.01751438, -0.04254612, -0.04761781,\n",
       "       -0.11758251,  0.04949108,  0.02245462,  0.1233494 , -0.03106443,\n",
       "       -0.10908617, -0.06586808,  0.11903285, -0.02303239, -0.43670588,\n",
       "       -0.17864187, -0.19908758,  0.11409314,  0.25117082,  0.27712133,\n",
       "        1.03575119, -0.10146846,  0.0894336 ])"
      ]
     },
     "execution_count": 16,
     "metadata": {},
     "output_type": "execute_result"
    }
   ],
   "source": [
    "# 特徴量（説明変数の）係数を算出 -1に近いと負の影響, 1に近いと正の影響\n",
    "np.array(result.params)[1:]"
   ]
  },
  {
   "cell_type": "code",
   "execution_count": 17,
   "metadata": {
    "colab": {
     "base_uri": "https://localhost:8080/"
    },
    "executionInfo": {
     "elapsed": 362,
     "status": "ok",
     "timestamp": 1674860307298,
     "user": {
      "displayName": "大谷津椋",
      "userId": "03391922001198405443"
     },
     "user_tz": -540
    },
    "id": "aYS448KQdfJY",
    "outputId": "ad77ec64-cd80-4459-e689-c0a4d1e14056"
   },
   "outputs": [
    {
     "data": {
      "text/plain": [
       "Index(['area_kanto', 'area_keihan', 'area_tokai', 'area_keihanshin', 'age',\n",
       "       'sex', 'marry_dummy', 'job_dummy1', 'job_dummy2', 'job_dummy3',\n",
       "       'job_dummy4', 'job_dummy5', 'job_dummy6', 'job_dummy7', 'job_dummy8',\n",
       "       'inc', 'pmoney', 'fam_str_dummy1', 'fam_str_dummy2', 'fam_str_dummy3',\n",
       "       'fam_str_dummy4', 'fam_str_dummy5', 'child_dummy', 'T', 'F1', 'F2',\n",
       "       'F3', 'M1', 'M2', 'M3', 'TVwatch_day', 'gamesecond', 'gamecount'],\n",
       "      dtype='object')"
      ]
     },
     "execution_count": 17,
     "metadata": {},
     "output_type": "execute_result"
    }
   ],
   "source": [
    "X.columns\n",
    "# エリア、性別あたりがCMの接触に影響していそう"
   ]
  },
  {
   "cell_type": "code",
   "execution_count": 18,
   "metadata": {
    "colab": {
     "base_uri": "https://localhost:8080/",
     "height": 374
    },
    "executionInfo": {
     "elapsed": 535,
     "status": "ok",
     "timestamp": 1674860311036,
     "user": {
      "displayName": "大谷津椋",
      "userId": "03391922001198405443"
     },
     "user_tz": -540
    },
    "id": "U0guCSmrkpta",
    "outputId": "9ed60dc5-9fd3-4147-da3c-2bb26e669fcd"
   },
   "outputs": [
    {
     "data": {
      "image/png": "[encoded data removed]",
      "text/plain": [
       "<Figure size 720x432 with 1 Axes>"
      ]
     },
     "metadata": {
      "needs_background": "light"
     },
     "output_type": "display_data"
    }
   ],
   "source": [
    "# 説明変数の係数を描画\n",
    "plt.figure(figsize=(10, 6))\n",
    "labels = X.columns\n",
    "importances = np.array(result.params)[1:]\n",
    "c = [('b' if i > 0 else 'r') for i in importances]\n",
    "plt.barh(labels, abs(importances), color=c)\n",
    "plt.show()"
   ]
  },
  {
   "cell_type": "code",
   "execution_count": 19,
   "metadata": {
    "colab": {
     "base_uri": "https://localhost:8080/"
    },
    "executionInfo": {
     "elapsed": 256,
     "status": "ok",
     "timestamp": 1674860336414,
     "user": {
      "displayName": "大谷津椋",
      "userId": "03391922001198405443"
     },
     "user_tz": -540
    },
    "id": "7H5mB5_qmi6M",
    "outputId": "a91b416b-be6c-4e02-8024-5285dd140501"
   },
   "outputs": [
    {
     "data": {
      "text/plain": [
       "array([0.04083794, 0.27101159, 0.19555862, ..., 0.3322611 , 0.33262627,\n",
       "       0.33261131])"
      ]
     },
     "execution_count": 19,
     "metadata": {},
     "output_type": "execute_result"
    }
   ],
   "source": [
    "scores = logit.predict(result.params)\n",
    "scores"
   ]
  },
  {
   "cell_type": "code",
   "execution_count": 20,
   "metadata": {
    "colab": {
     "base_uri": "https://localhost:8080/"
    },
    "executionInfo": {
     "elapsed": 415,
     "status": "ok",
     "timestamp": 1674860341463,
     "user": {
      "displayName": "大谷津椋",
      "userId": "03391922001198405443"
     },
     "user_tz": -540
    },
    "id": "GE8CH02fn9CD",
    "outputId": "d576ca9c-082f-4578-e23d-c34b61b67d8d"
   },
   "outputs": [
    {
     "name": "stdout",
     "output_type": "stream",
     "text": [
      "ACU: 0.796\n"
     ]
    }
   ],
   "source": [
    "# AUC\n",
    "y_pred = result.predict(X_scaled)\n",
    "print(f'ACU: {roc_auc_score(y, y_pred):.3f}')"
   ]
  },
  {
   "cell_type": "code",
   "execution_count": 21,
   "metadata": {
    "colab": {
     "base_uri": "https://localhost:8080/",
     "height": 300
    },
    "executionInfo": {
     "elapsed": 247,
     "status": "ok",
     "timestamp": 1674860353436,
     "user": {
      "displayName": "大谷津椋",
      "userId": "03391922001198405443"
     },
     "user_tz": -540
    },
    "id": "JOtm_ym7k64T",
    "outputId": "9bb28d6c-5260-4074-fe0a-2e9231c93d8d"
   },
   "outputs": [
    {
     "data": {
      "text/html": [
       "\n",
       "  <div id=\"df-ac1930ef-d0a1-4e21-8d43-afaf81aa0f2a\">\n",
       "    <div class=\"colab-df-container\">\n",
       "      <div>\n",
       "<style scoped>\n",
       "    .dataframe tbody tr th:only-of-type {\n",
       "        vertical-align: middle;\n",
       "    }\n",
       "\n",
       "    .dataframe tbody tr th {\n",
       "        vertical-align: top;\n",
       "    }\n",
       "\n",
       "    .dataframe thead th {\n",
       "        text-align: right;\n",
       "    }\n",
       "</style>\n",
       "<table border=\"1\" class=\"dataframe\">\n",
       "  <thead>\n",
       "    <tr style=\"text-align: right;\">\n",
       "      <th></th>\n",
       "      <th>cm_dummy</th>\n",
       "      <th>game_dummy</th>\n",
       "      <th>area_kanto</th>\n",
       "      <th>area_keihan</th>\n",
       "      <th>area_tokai</th>\n",
       "      <th>area_keihanshin</th>\n",
       "      <th>age</th>\n",
       "      <th>sex</th>\n",
       "      <th>marry_dummy</th>\n",
       "      <th>job_dummy1</th>\n",
       "      <th>...</th>\n",
       "      <th>F1</th>\n",
       "      <th>F2</th>\n",
       "      <th>F3</th>\n",
       "      <th>M1</th>\n",
       "      <th>M2</th>\n",
       "      <th>M3</th>\n",
       "      <th>TVwatch_day</th>\n",
       "      <th>gamesecond</th>\n",
       "      <th>gamecount</th>\n",
       "      <th>score</th>\n",
       "    </tr>\n",
       "  </thead>\n",
       "  <tbody>\n",
       "    <tr>\n",
       "      <th>0</th>\n",
       "      <td>0</td>\n",
       "      <td>0</td>\n",
       "      <td>0</td>\n",
       "      <td>0</td>\n",
       "      <td>0</td>\n",
       "      <td>1</td>\n",
       "      <td>44.5</td>\n",
       "      <td>1</td>\n",
       "      <td>1</td>\n",
       "      <td>1</td>\n",
       "      <td>...</td>\n",
       "      <td>0</td>\n",
       "      <td>0</td>\n",
       "      <td>0</td>\n",
       "      <td>0</td>\n",
       "      <td>1</td>\n",
       "      <td>0</td>\n",
       "      <td>33.427600</td>\n",
       "      <td>0</td>\n",
       "      <td>0</td>\n",
       "      <td>0.040838</td>\n",
       "    </tr>\n",
       "    <tr>\n",
       "      <th>1</th>\n",
       "      <td>0</td>\n",
       "      <td>0</td>\n",
       "      <td>0</td>\n",
       "      <td>1</td>\n",
       "      <td>0</td>\n",
       "      <td>0</td>\n",
       "      <td>34.5</td>\n",
       "      <td>1</td>\n",
       "      <td>1</td>\n",
       "      <td>1</td>\n",
       "      <td>...</td>\n",
       "      <td>0</td>\n",
       "      <td>0</td>\n",
       "      <td>0</td>\n",
       "      <td>0</td>\n",
       "      <td>1</td>\n",
       "      <td>0</td>\n",
       "      <td>31.542862</td>\n",
       "      <td>0</td>\n",
       "      <td>0</td>\n",
       "      <td>0.271012</td>\n",
       "    </tr>\n",
       "    <tr>\n",
       "      <th>2</th>\n",
       "      <td>0</td>\n",
       "      <td>0</td>\n",
       "      <td>0</td>\n",
       "      <td>1</td>\n",
       "      <td>0</td>\n",
       "      <td>0</td>\n",
       "      <td>24.5</td>\n",
       "      <td>1</td>\n",
       "      <td>0</td>\n",
       "      <td>0</td>\n",
       "      <td>...</td>\n",
       "      <td>0</td>\n",
       "      <td>0</td>\n",
       "      <td>0</td>\n",
       "      <td>1</td>\n",
       "      <td>0</td>\n",
       "      <td>0</td>\n",
       "      <td>37.825805</td>\n",
       "      <td>0</td>\n",
       "      <td>0</td>\n",
       "      <td>0.195559</td>\n",
       "    </tr>\n",
       "    <tr>\n",
       "      <th>3</th>\n",
       "      <td>0</td>\n",
       "      <td>0</td>\n",
       "      <td>0</td>\n",
       "      <td>1</td>\n",
       "      <td>0</td>\n",
       "      <td>0</td>\n",
       "      <td>44.5</td>\n",
       "      <td>1</td>\n",
       "      <td>1</td>\n",
       "      <td>1</td>\n",
       "      <td>...</td>\n",
       "      <td>0</td>\n",
       "      <td>0</td>\n",
       "      <td>0</td>\n",
       "      <td>0</td>\n",
       "      <td>1</td>\n",
       "      <td>0</td>\n",
       "      <td>36.345911</td>\n",
       "      <td>0</td>\n",
       "      <td>0</td>\n",
       "      <td>0.210236</td>\n",
       "    </tr>\n",
       "    <tr>\n",
       "      <th>4</th>\n",
       "      <td>0</td>\n",
       "      <td>0</td>\n",
       "      <td>0</td>\n",
       "      <td>1</td>\n",
       "      <td>0</td>\n",
       "      <td>0</td>\n",
       "      <td>34.5</td>\n",
       "      <td>1</td>\n",
       "      <td>1</td>\n",
       "      <td>1</td>\n",
       "      <td>...</td>\n",
       "      <td>0</td>\n",
       "      <td>0</td>\n",
       "      <td>0</td>\n",
       "      <td>1</td>\n",
       "      <td>0</td>\n",
       "      <td>0</td>\n",
       "      <td>49.344942</td>\n",
       "      <td>0</td>\n",
       "      <td>0</td>\n",
       "      <td>0.214908</td>\n",
       "    </tr>\n",
       "  </tbody>\n",
       "</table>\n",
       "<p>5 rows × 36 columns</p>\n",
       "</div>\n",
       "      <button class=\"colab-df-convert\" onclick=\"convertToInteractive('df-ac1930ef-d0a1-4e21-8d43-afaf81aa0f2a')\"\n",
       "              title=\"Convert this dataframe to an interactive table.\"\n",
       "              style=\"display:none;\">\n",
       "        \n",
       "  <svg xmlns=\"http://www.w3.org/2000/svg\" height=\"24px\"viewBox=\"0 0 24 24\"\n",
       "       width=\"24px\">\n",
       "    <path d=\"M0 0h24v24H0V0z\" fill=\"none\"/>\n",
       "    <path d=\"M18.56 5.44l.94 2.06.94-2.06 2.06-.94-2.06-.94-.94-2.06-.94 2.06-2.06.94zm-11 1L8.5 8.5l.94-2.06 2.06-.94-2.06-.94L8.5 2.5l-.94 2.06-2.06.94zm10 10l.94 2.06.94-2.06 2.06-.94-2.06-.94-.94-2.06-.94 2.06-2.06.94z\"/><path d=\"M17.41 7.96l-1.37-1.37c-.4-.4-.92-.59-1.43-.59-.52 0-1.04.2-1.43.59L10.3 9.45l-7.72 7.72c-.78.78-.78 2.05 0 2.83L4 21.41c.39.39.9.59 1.41.59.51 0 1.02-.2 1.41-.59l7.78-7.78 2.81-2.81c.8-.78.8-2.07 0-2.86zM5.41 20L4 18.59l7.72-7.72 1.47 1.35L5.41 20z\"/>\n",
       "  </svg>\n",
       "      </button>\n",
       "      \n",
       "  <style>\n",
       "    .colab-df-container {\n",
       "      display:flex;\n",
       "      flex-wrap:wrap;\n",
       "      gap: 12px;\n",
       "    }\n",
       "\n",
       "    .colab-df-convert {\n",
       "      background-color: #E8F0FE;\n",
       "      border: none;\n",
       "      border-radius: 50%;\n",
       "      cursor: pointer;\n",
       "      display: none;\n",
       "      fill: #1967D2;\n",
       "      height: 32px;\n",
       "      padding: 0 0 0 0;\n",
       "      width: 32px;\n",
       "    }\n",
       "\n",
       "    .colab-df-convert:hover {\n",
       "      background-color: #E2EBFA;\n",
       "      box-shadow: 0px 1px 2px rgba(60, 64, 67, 0.3), 0px 1px 3px 1px rgba(60, 64, 67, 0.15);\n",
       "      fill: #174EA6;\n",
       "    }\n",
       "\n",
       "    [theme=dark] .colab-df-convert {\n",
       "      background-color: #3B4455;\n",
       "      fill: #D2E3FC;\n",
       "    }\n",
       "\n",
       "    [theme=dark] .colab-df-convert:hover {\n",
       "      background-color: #434B5C;\n",
       "      box-shadow: 0px 1px 3px 1px rgba(0, 0, 0, 0.15);\n",
       "      filter: drop-shadow(0px 1px 2px rgba(0, 0, 0, 0.3));\n",
       "      fill: #FFFFFF;\n",
       "    }\n",
       "  </style>\n",
       "\n",
       "      <script>\n",
       "        const buttonEl =\n",
       "          document.querySelector('#df-ac1930ef-d0a1-4e21-8d43-afaf81aa0f2a button.colab-df-convert');\n",
       "        buttonEl.style.display =\n",
       "          google.colab.kernel.accessAllowed ? 'block' : 'none';\n",
       "\n",
       "        async function convertToInteractive(key) {\n",
       "          const element = document.querySelector('#df-ac1930ef-d0a1-4e21-8d43-afaf81aa0f2a');\n",
       "          const dataTable =\n",
       "            await google.colab.kernel.invokeFunction('convertToInteractive',\n",
       "                                                     [key], {});\n",
       "          if (!dataTable) return;\n",
       "\n",
       "          const docLinkHtml = 'Like what you see? Visit the ' +\n",
       "            '<a target=\"_blank\" href=https://colab.research.google.com/notebooks/data_table.ipynb>data table notebook</a>'\n",
       "            + ' to learn more about interactive tables.';\n",
       "          element.innerHTML = '';\n",
       "          dataTable['output_type'] = 'display_data';\n",
       "          await google.colab.output.renderOutput(dataTable, element);\n",
       "          const docLink = document.createElement('div');\n",
       "          docLink.innerHTML = docLinkHtml;\n",
       "          element.appendChild(docLink);\n",
       "        }\n",
       "      </script>\n",
       "    </div>\n",
       "  </div>\n",
       "  "
      ],
      "text/plain": [
       "   cm_dummy  game_dummy  area_kanto  area_keihan  area_tokai  area_keihanshin  \\\n",
       "0         0           0           0            0           0                1   \n",
       "1         0           0           0            1           0                0   \n",
       "2         0           0           0            1           0                0   \n",
       "3         0           0           0            1           0                0   \n",
       "4         0           0           0            1           0                0   \n",
       "\n",
       "    age  sex  marry_dummy  job_dummy1  ...  F1  F2  F3  M1  M2  M3  \\\n",
       "0  44.5    1            1           1  ...   0   0   0   0   1   0   \n",
       "1  34.5    1            1           1  ...   0   0   0   0   1   0   \n",
       "2  24.5    1            0           0  ...   0   0   0   1   0   0   \n",
       "3  44.5    1            1           1  ...   0   0   0   0   1   0   \n",
       "4  34.5    1            1           1  ...   0   0   0   1   0   0   \n",
       "\n",
       "   TVwatch_day  gamesecond  gamecount     score  \n",
       "0    33.427600           0          0  0.040838  \n",
       "1    31.542862           0          0  0.271012  \n",
       "2    37.825805           0          0  0.195559  \n",
       "3    36.345911           0          0  0.210236  \n",
       "4    49.344942           0          0  0.214908  \n",
       "\n",
       "[5 rows x 36 columns]"
      ]
     },
     "execution_count": 21,
     "metadata": {},
     "output_type": "execute_result"
    }
   ],
   "source": [
    "df['score'] = scores\n",
    "df.head()"
   ]
  },
  {
   "cell_type": "markdown",
   "metadata": {
    "id": "gVEkPySbjT8v"
   },
   "source": [
    "### 傾向スコアでマッチングしたデータによる差の検証\n",
    "\n",
    "上記で算出した傾向スコアを用いて、近い値のデータどうしをマッチングし、そのペアについて、`game_dummy` 変数の差を検証してください。23章のNotebookの例を参考に、プログラムを実装してください。"
   ]
  },
  {
   "cell_type": "code",
   "execution_count": 22,
   "metadata": {
    "colab": {
     "base_uri": "https://localhost:8080/"
    },
    "executionInfo": {
     "elapsed": 330,
     "status": "ok",
     "timestamp": 1674860359731,
     "user": {
      "displayName": "大谷津椋",
      "userId": "03391922001198405443"
     },
     "user_tz": -540
    },
    "id": "KJqXa_4spMfE",
    "outputId": "cd952716-ec6a-4c71-af77-988be64a5dd6"
   },
   "outputs": [
    {
     "data": {
      "text/plain": [
       "0.021403360345790087"
      ]
     },
     "execution_count": 22,
     "metadata": {},
     "output_type": "execute_result"
    }
   ],
   "source": [
    "# こちらのセルに回答して、必要な場合はセルを追加してください。\n",
    "table = df.loc[:, ['score', 'cm_dummy', 'game_dummy']]\n",
    "interval = np.arange(0, 1.0, 0.1)\n",
    "match_list = []\n",
    "for i in range(0,len(interval)-1):\n",
    "    temp0 = table[(table['cm_dummy']==0) & (interval[i] < table['score']) & (table['score'] < interval[i+1])]\n",
    "    temp1 = table[(table['cm_dummy']==1) & (interval[i] < table['score']) & (table['score'] < interval[i+1])]\n",
    "    \n",
    "    if (len(temp0) > 0) & (len(temp1) > 0):\n",
    "        match_list.append(temp1['game_dummy'].mean()-temp0['game_dummy'].mean())\n",
    "\n",
    "np.mean(match_list)\n",
    "# CMを見た人と見なかった人の郡のゲームアプリの利用率の差が2%上がる"
   ]
  },
  {
   "cell_type": "code",
   "execution_count": 23,
   "metadata": {
    "colab": {
     "base_uri": "https://localhost:8080/"
    },
    "executionInfo": {
     "elapsed": 395,
     "status": "ok",
     "timestamp": 1674860363146,
     "user": {
      "displayName": "大谷津椋",
      "userId": "03391922001198405443"
     },
     "user_tz": -540
    },
    "id": "XW7Ktq5KpzP7",
    "outputId": "7d9f8182-2700-476b-8b7b-20bed7b9b7d0"
   },
   "outputs": [
    {
     "name": "stdout",
     "output_type": "stream",
     "text": [
      "cm_dummy == 1:  0.0904242775922157\n",
      "cm_dummy == 0:  0.06130868731517305\n",
      "0.029115590277042656\n"
     ]
    }
   ],
   "source": [
    "# IPW量\n",
    "ipw1 = sum((table['cm_dummy'] * table['game_dummy']) / table['score']) / sum(table['cm_dummy'] / table['score'])\n",
    "ipw0 = sum(((1 - table['cm_dummy']) * table['game_dummy']) / (1 - table['score'])) / sum((1 - table['cm_dummy']) / (1 - table['score']))\n",
    "\n",
    "print('cm_dummy == 1: ', ipw1)\n",
    "print('cm_dummy == 0: ', ipw0)\n",
    "\n",
    "print(ipw1 - ipw0)"
   ]
  },
  {
   "cell_type": "markdown",
   "metadata": {
    "id": "gPAJwlAKjT8v"
   },
   "source": [
    "## まとめ\n",
    "\n",
    "傾向スコアマッチングを行ったうえでの比較を踏まえ、CMの効果はどの程度であると考えられるでしょうか。また、どの変数が交絡因子として働いていたと考えられますか。以下に、文章で整理し、まとめてください。"
   ]
  },
  {
   "cell_type": "markdown",
   "metadata": {
    "id": "41WafXN9jT8v"
   },
   "source": [
    "CMを視聴すると、ゲームの利用率が2%程度増加する。ロジスティック回帰の係数から、性別と居住地がCM視聴と関連が強いことがわかり、この影響を調整したうえでの比較が必要であると考えられる。"
   ]
  }
 ],
 "metadata": {
  "colab": {
   "provenance": [
    {
     "file_id": "1qCv0i08Wf86zfDxohjff1xvJw8E-Vglb",
     "timestamp": 1673262695451
    }
   ]
  },
  "interpreter": {
   "hash": "e7370f93d1d0cde622a1f8e1c04877d8463912d04d973331ad4851f04de6915a"
  },
  "kernelspec": {
   "display_name": "Python 3 (ipykernel)",
   "language": "python",
   "name": "python3"
  },
  "language_info": {
   "codemirror_mode": {
    "name": "ipython",
    "version": 3
   },
   "file_extension": ".py",
   "mimetype": "text/x-python",
   "name": "python",
   "nbconvert_exporter": "python",
   "pygments_lexer": "ipython3",
   "version": "3.9.13"
  }
 },
 "nbformat": 4,
 "nbformat_minor": 4
}
